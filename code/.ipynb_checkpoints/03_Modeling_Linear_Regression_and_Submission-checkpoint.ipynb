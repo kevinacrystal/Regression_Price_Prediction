{
 "cells": [
  {
   "cell_type": "code",
   "execution_count": 1,
   "metadata": {},
   "outputs": [],
   "source": [
    "import pandas as pd\n",
    "import numpy as np\n",
    "import matplotlib.pyplot as plt\n",
    "import seaborn as sns\n",
    "%matplotlib inline\n",
    "pd.set_option('display.max_columns', 90)\n",
    "pd.set_option('display.max_rows', 90)\n",
    "\n",
    "from sklearn.linear_model import Ridge, Lasso, ElasticNet, LinearRegression, RidgeCV, LassoCV, ElasticNetCV\n",
    "from sklearn.model_selection import train_test_split, cross_val_score\n",
    "from sklearn.metrics import mean_squared_error, r2_score\n",
    "from sklearn.preprocessing import PolynomialFeatures, StandardScaler"
   ]
  },
  {
   "cell_type": "code",
   "execution_count": 2,
   "metadata": {},
   "outputs": [],
   "source": [
    "df = pd.read_csv('../datasets/df_clean.csv', index_col=0)\n",
    "holdout = pd.read_csv('../datasets/holdout_clean.csv', index_col=0)"
   ]
  },
  {
   "cell_type": "markdown",
   "metadata": {},
   "source": [
    "## Start Modeling with a simple Linear Regression\n",
    "#### Using only as Overall Quality as a feature, CV score is 0.63, RMSE is 45539"
   ]
  },
  {
   "cell_type": "code",
   "execution_count": 569,
   "metadata": {},
   "outputs": [
    {
     "name": "stdout",
     "output_type": "stream",
     "text": [
      "cv score 0.6276121552873748\n",
      "train score  0.6311306764237692\n",
      "test score  0.6638051214676336\n",
      "RMSE:  46702.0\n"
     ]
    }
   ],
   "source": [
    "X = df[['overall_qual']]\n",
    "y = df['saleprice']\n",
    "X_train, X_test, y_train, y_test = train_test_split(X, y, random_state=42)\n",
    "lr = LinearRegression()\n",
    "lr.fit(X_train, y_train)\n",
    "y_pred = lr.predict(X_test)\n",
    "print('cv score', cross_val_score(lr, X_train, y_train, cv=5).mean())\n",
    "print ('train score ', lr.score(X_train, y_train))\n",
    "print('test score ', lr.score(X_test, y_test))\n",
    "print('RMSE: ', round(mean_squared_error(y_test, y_pred)**0.5, 0))"
   ]
  },
  {
   "cell_type": "markdown",
   "metadata": {},
   "source": [
    "## Define a function to streamline this"
   ]
  },
  {
   "cell_type": "code",
   "execution_count": 418,
   "metadata": {},
   "outputs": [],
   "source": [
    "def linear_reg_score(features, y = df['saleprice']):\n",
    "    X = features\n",
    "    X_train, X_test, y_train, y_test = train_test_split(X, y, random_state=42)\n",
    "    lr = LinearRegression()\n",
    "    lr.fit(X_train, y_train)\n",
    "    y_pred = lr.predict(X_test)\n",
    "    print('cv score: ', round(cross_val_score(lr, X_train, y_train, cv=5).mean(), 4))\n",
    "    print('train score: ', round(lr.score(X_train, y_train), 4))\n",
    "    print('test score: ', round(lr.score(X_test, y_test), 4))\n",
    "    print('RMSE: ', round(mean_squared_error(y_test, y_pred)**0.5, 0))"
   ]
  },
  {
   "cell_type": "markdown",
   "metadata": {},
   "source": [
    "## Try out adding a bunch of highly-correlated features"
   ]
  },
  {
   "cell_type": "code",
   "execution_count": 570,
   "metadata": {},
   "outputs": [
    {
     "name": "stdout",
     "output_type": "stream",
     "text": [
      "cv score:  0.7032\n",
      "train score:  0.7143\n",
      "test score:  0.7587\n",
      "RMSE:  39566.0\n"
     ]
    }
   ],
   "source": [
    "linear_reg_score(df[['overall_qual', \n",
    "                    'gr_liv_area']])"
   ]
  },
  {
   "cell_type": "code",
   "execution_count": 420,
   "metadata": {},
   "outputs": [
    {
     "name": "stdout",
     "output_type": "stream",
     "text": [
      "cv score:  0.65\n",
      "train score:  0.6739\n",
      "test score:  0.7699\n",
      "RMSE:  38641.0\n"
     ]
    }
   ],
   "source": [
    "linear_reg_score(df[['overall_qual_gr_area']])"
   ]
  },
  {
   "cell_type": "code",
   "execution_count": 421,
   "metadata": {},
   "outputs": [
    {
     "name": "stdout",
     "output_type": "stream",
     "text": [
      "cv score:  0.7291\n",
      "train score:  0.7416\n",
      "test score:  0.7946\n",
      "RMSE:  36508.0\n"
     ]
    }
   ],
   "source": [
    "linear_reg_score(df[['overall_qual', \n",
    "                    'gr_liv_area', \n",
    "                    'exter_qual']])"
   ]
  },
  {
   "cell_type": "code",
   "execution_count": 422,
   "metadata": {},
   "outputs": [
    {
     "name": "stdout",
     "output_type": "stream",
     "text": [
      "cv score:  0.7392\n",
      "train score:  0.7519\n",
      "test score:  0.8045\n",
      "RMSE:  35616.0\n"
     ]
    }
   ],
   "source": [
    "linear_reg_score(df[['overall_qual', \n",
    "                    'gr_liv_area', \n",
    "                    'exter_qual', \n",
    "                    'kitchen_qual']])"
   ]
  },
  {
   "cell_type": "code",
   "execution_count": 423,
   "metadata": {},
   "outputs": [
    {
     "name": "stdout",
     "output_type": "stream",
     "text": [
      "cv score:  0.7565\n",
      "train score:  0.7699\n",
      "test score:  0.8255\n",
      "RMSE:  33650.0\n"
     ]
    }
   ],
   "source": [
    "linear_reg_score(df[['overall_qual', \n",
    "                    'gr_liv_area', \n",
    "                    'exter_qual', \n",
    "                    'kitchen_qual',\n",
    "                    'garage_area'\n",
    "                   ]])"
   ]
  },
  {
   "cell_type": "code",
   "execution_count": 424,
   "metadata": {},
   "outputs": [
    {
     "name": "stdout",
     "output_type": "stream",
     "text": [
      "cv score:  0.761\n",
      "train score:  0.7833\n",
      "test score:  0.8449\n",
      "RMSE:  31723.0\n"
     ]
    }
   ],
   "source": [
    "linear_reg_score(df[['overall_qual', \n",
    "                    'gr_liv_area', \n",
    "                    'exter_qual', \n",
    "                    'kitchen_qual',\n",
    "                    'garage_area',\n",
    "#                    'garage_cars', #increased RMSE\n",
    "                    'total_bsmt_sf'\n",
    "                   ]])"
   ]
  },
  {
   "cell_type": "code",
   "execution_count": 425,
   "metadata": {},
   "outputs": [
    {
     "name": "stdout",
     "output_type": "stream",
     "text": [
      "cv score:  0.7604\n",
      "train score:  0.7834\n",
      "test score:  0.8452\n",
      "RMSE:  31689.0\n"
     ]
    }
   ],
   "source": [
    "# add in converted ordinal \n",
    "linear_reg_score(df[['overall_qual', \n",
    "                    'gr_liv_area', \n",
    "                    'exter_qual', \n",
    "                    'kitchen_qual',\n",
    "                    'garage_area',\n",
    "#                    'garage_cars', #increased RMSE\n",
    "                    'total_bsmt_sf',\n",
    "#                    'bsmt_qual', #increased RMSE\n",
    "                    'bsmt_cond'\n",
    "                   ]])"
   ]
  },
  {
   "cell_type": "code",
   "execution_count": 426,
   "metadata": {},
   "outputs": [
    {
     "name": "stdout",
     "output_type": "stream",
     "text": [
      "cv score:  0.7605\n",
      "train score:  0.7838\n",
      "test score:  0.8447\n",
      "RMSE:  31737.0\n"
     ]
    }
   ],
   "source": [
    "# add in converted ordinal \n",
    "linear_reg_score(df[['overall_qual', \n",
    "                    'gr_liv_area', \n",
    "                    'exter_qual', \n",
    "                    'kitchen_qual',\n",
    "                    'garage_area',\n",
    "#                    'garage_cars', #increased RMSE\n",
    "                    'total_bsmt_sf',\n",
    "#                    'bsmt_qual', #increased RMSE\n",
    "                    'bsmt_cond',\n",
    "                    'exter_cond'\n",
    "                   ]])"
   ]
  },
  {
   "cell_type": "code",
   "execution_count": 427,
   "metadata": {},
   "outputs": [
    {
     "name": "stdout",
     "output_type": "stream",
     "text": [
      "cv score:  0.7782\n",
      "train score:  0.7996\n",
      "test score:  0.8491\n",
      "RMSE:  31292.0\n"
     ]
    }
   ],
   "source": [
    "# add in converted ordinal \n",
    "linear_reg_score(df[['overall_qual', \n",
    "                    'gr_liv_area', \n",
    "                    'exter_qual', \n",
    "                    'kitchen_qual',\n",
    "                    'garage_area',\n",
    "#                    'garage_cars', #increased RMSE\n",
    "                    'total_bsmt_sf',\n",
    "                    'bsmt_qual', \n",
    "                    'bsmt_cond',\n",
    "                    'exter_cond',\n",
    "                    'fireplace_qu'\n",
    "                   ]])"
   ]
  },
  {
   "cell_type": "code",
   "execution_count": 428,
   "metadata": {},
   "outputs": [
    {
     "name": "stdout",
     "output_type": "stream",
     "text": [
      "cv score:  0.777\n",
      "train score:  0.7997\n",
      "test score:  0.8482\n",
      "RMSE:  31380.0\n"
     ]
    }
   ],
   "source": [
    "# add in additional highly correlated values\n",
    "linear_reg_score(df[['overall_qual', \n",
    "                    'gr_liv_area', \n",
    "                    'exter_qual', \n",
    "                    'kitchen_qual',\n",
    "                    'garage_area',\n",
    "#                    'garage_cars', #increased RMSE\n",
    "                    'total_bsmt_sf',\n",
    "                    'bsmt_qual', \n",
    "                    'bsmt_cond',\n",
    "                    'exter_cond',\n",
    "                    'fireplace_qu',\n",
    "#                    'garage_qual', #increased RMSE\n",
    "#                    'garage_cond', #increased RMSE\n",
    "#                    'heating_qc', #increased RMSE\n",
    "#                    'pool_qc' #increased RMSE\n",
    "#                    'totrms_abvgrd'#increased RMSE\n",
    "#                    'year_built' #increased RMSE\n",
    "                    'full_bath'\n",
    "                   ]])"
   ]
  },
  {
   "cell_type": "code",
   "execution_count": 429,
   "metadata": {},
   "outputs": [
    {
     "name": "stdout",
     "output_type": "stream",
     "text": [
      "cv score:  0.7771\n",
      "train score:  0.8004\n",
      "test score:  0.8494\n",
      "RMSE:  31261.0\n"
     ]
    }
   ],
   "source": [
    "# add in additional highly correlated values\n",
    "linear_reg_score(df[['overall_qual', \n",
    "                    'gr_liv_area', \n",
    "                    'exter_qual', \n",
    "                    'kitchen_qual',\n",
    "                    'garage_area',\n",
    "#                    'garage_cars', #increased RMSE\n",
    "                    'total_bsmt_sf',\n",
    "                    'bsmt_qual', \n",
    "                    'bsmt_cond',\n",
    "                    'exter_cond',\n",
    "                    'fireplace_qu',\n",
    "#                    'garage_qual', #increased RMSE\n",
    "#                    'garage_cond', #increased RMSE\n",
    "#                    'heating_qc', #increased RMSE\n",
    "#                    'pool_qc' #increased RMSE\n",
    "#                    'totrms_abvgrd'#increased RMSE\n",
    "#                    'year_built' #increased RMSE\n",
    "                    'full_bath',\n",
    "                    'exter_cond',\n",
    "                    'lot_shape'\n",
    "                   ]])"
   ]
  },
  {
   "cell_type": "code",
   "execution_count": 573,
   "metadata": {},
   "outputs": [
    {
     "name": "stdout",
     "output_type": "stream",
     "text": [
      "cv score:  0.7721\n",
      "train score:  0.8007\n",
      "test score:  0.8628\n",
      "RMSE:  29839.0\n"
     ]
    }
   ],
   "source": [
    "# add in additional highly correlated values\n",
    "linear_reg_score(df[['overall_qual_gr_area', \n",
    "                    #'gr_liv_area', \n",
    "                    'exter_qual', \n",
    "                    'kitchen_qual',\n",
    "                    'garage_area',\n",
    "#                    'garage_cars', #increased RMSE\n",
    "                    'total_bsmt_sf',\n",
    "                    'bsmt_qual', \n",
    "                    'bsmt_cond',\n",
    "                    'exter_cond',\n",
    "                    'fireplace_qu',\n",
    "#                    'garage_qual', #increased RMSE\n",
    "#                    'garage_cond', #increased RMSE\n",
    "#                    'heating_qc', #increased RMSE\n",
    "#                    'pool_qc' #increased RMSE\n",
    "#                    'totrms_abvgrd'#increased RMSE\n",
    "#                    'year_built' #increased RMSE\n",
    "                    'full_bath',\n",
    "                    'lot_shape',\n",
    "                   ]])"
   ]
  },
  {
   "cell_type": "markdown",
   "metadata": {},
   "source": [
    "## Model Prep: Create our features matrix (`X`) and target vector (`y`)"
   ]
  },
  {
   "cell_type": "code",
   "execution_count": 3,
   "metadata": {},
   "outputs": [],
   "source": [
    "numerical_columns = df._get_numeric_data().columns\n",
    "features = [col for col in numerical_columns if col != 'saleprice']\n",
    "X = df[features]\n",
    "y = df['saleprice']"
   ]
  },
  {
   "cell_type": "markdown",
   "metadata": {},
   "source": [
    "## Model Prep: Train/test split"
   ]
  },
  {
   "cell_type": "code",
   "execution_count": 4,
   "metadata": {},
   "outputs": [],
   "source": [
    "X_train, X_test, y_train, y_test = train_test_split(X, y, random_state=42)"
   ]
  },
  {
   "cell_type": "markdown",
   "metadata": {},
   "source": [
    "## Model Prep: Scaling"
   ]
  },
  {
   "cell_type": "code",
   "execution_count": 5,
   "metadata": {},
   "outputs": [],
   "source": [
    "ss = StandardScaler()\n",
    "ss.fit(X_train) # Learning the mean and std for every column\n",
    "X_train_scaled = ss.transform(X_train)\n",
    "X_test_scaled = ss.transform(X_test)"
   ]
  },
  {
   "cell_type": "markdown",
   "metadata": {},
   "source": [
    "## Model Prep: Instantiate our models"
   ]
  },
  {
   "cell_type": "code",
   "execution_count": 6,
   "metadata": {},
   "outputs": [],
   "source": [
    "lr = LinearRegression()\n",
    "lasso = LassoCV()\n",
    "ridge = RidgeCV()"
   ]
  },
  {
   "cell_type": "markdown",
   "metadata": {},
   "source": [
    "## Cross Validation"
   ]
  },
  {
   "cell_type": "code",
   "execution_count": 7,
   "metadata": {},
   "outputs": [
    {
     "data": {
      "text/plain": [
       "-5.3821482771578155e+23"
      ]
     },
     "execution_count": 7,
     "metadata": {},
     "output_type": "execute_result"
    }
   ],
   "source": [
    "cross_val_score(lr, X_train_scaled, y_train, cv=5).mean()"
   ]
  },
  {
   "cell_type": "code",
   "execution_count": 8,
   "metadata": {},
   "outputs": [
    {
     "data": {
      "text/plain": [
       "0.7918910253660957"
      ]
     },
     "execution_count": 8,
     "metadata": {},
     "output_type": "execute_result"
    }
   ],
   "source": [
    "cross_val_score(lasso, X_train_scaled, y_train, cv=5).mean()"
   ]
  },
  {
   "cell_type": "code",
   "execution_count": 9,
   "metadata": {},
   "outputs": [
    {
     "data": {
      "text/plain": [
       "0.7594513821294548"
      ]
     },
     "execution_count": 9,
     "metadata": {},
     "output_type": "execute_result"
    }
   ],
   "source": [
    "cross_val_score(ridge, X_train_scaled, y_train, cv=5).mean()"
   ]
  },
  {
   "cell_type": "markdown",
   "metadata": {},
   "source": [
    "## Model Fitting and Evaluation"
   ]
  },
  {
   "cell_type": "code",
   "execution_count": 412,
   "metadata": {},
   "outputs": [],
   "source": [
    "lasso.fit(X_train_scaled, y_train);"
   ]
  },
  {
   "cell_type": "code",
   "execution_count": 413,
   "metadata": {},
   "outputs": [
    {
     "data": {
      "text/plain": [
       "0.8342159569977194"
      ]
     },
     "execution_count": 413,
     "metadata": {},
     "output_type": "execute_result"
    }
   ],
   "source": [
    "# Train Score\n",
    "lasso.score(X_train_scaled, y_train)"
   ]
  },
  {
   "cell_type": "code",
   "execution_count": 414,
   "metadata": {},
   "outputs": [
    {
     "data": {
      "text/plain": [
       "0.8799372045181327"
      ]
     },
     "execution_count": 414,
     "metadata": {},
     "output_type": "execute_result"
    }
   ],
   "source": [
    "# Test Score\n",
    "lasso.score(X_test_scaled, y_test)"
   ]
  },
  {
   "cell_type": "code",
   "execution_count": 415,
   "metadata": {},
   "outputs": [],
   "source": [
    "preds = lasso.predict(X_test_scaled)"
   ]
  },
  {
   "cell_type": "code",
   "execution_count": null,
   "metadata": {},
   "outputs": [],
   "source": []
  },
  {
   "cell_type": "code",
   "execution_count": null,
   "metadata": {},
   "outputs": [],
   "source": []
  },
  {
   "cell_type": "code",
   "execution_count": 416,
   "metadata": {},
   "outputs": [],
   "source": [
    "def lasso_reg_score(features, y = df['saleprice']):\n",
    "    X = features\n",
    "    X_train, X_test, y_train, y_test = train_test_split(X, y, random_state=42)\n",
    "    \n",
    "    ss.fit(X_train)\n",
    "    X_train_sc = ss.transform(X_train)\n",
    "    X_test_sc = ss.transform(X_test)\n",
    "    \n",
    "    l_alphas = np.linspace(0, 500, 100)\n",
    "    lasso_model = LassoCV( cv=5)\n",
    "    lasso_model.fit(X_train_sc, y_train)\n",
    "    print('optimal alpha: ', lasso_model.alpha_)\n",
    "        \n",
    "    lasso = Lasso(alpha = lasso_model.alpha_)\n",
    "    lasso.fit(X_train_sc, y_train)\n",
    "    print('cv score: ', round(cross_val_score(lasso, X_train_sc, y_train, cv=5).mean(), 4))\n",
    "\n",
    "    # Generate predictions\n",
    "    lasso_preds = lasso.predict(X_test_sc)\n",
    "    lasso_preds_train = lasso.predict(X_train_sc)\n",
    "\n",
    "    # Evaluate model.\n",
    "    print(r2_score(y_test, lasso_preds))\n",
    "    print(r2_score(y_train, lasso_preds_train))\n",
    "    print('RMSE: ', round(mean_squared_error(y_test, lasso_preds)**0.5, 0))\n",
    "    \n",
    "    coefs = pd.DataFrame({'predictor': X.columns, 'lasso coef': abs(lasso.coef_)})\n",
    "    return lasso#coefs.sort_values('lasso coef', ascending=False)    \n",
    "    \n"
   ]
  },
  {
   "cell_type": "code",
   "execution_count": 433,
   "metadata": {},
   "outputs": [
    {
     "data": {
      "text/plain": [
       "<matplotlib.axes._subplots.AxesSubplot at 0x10fe4a4e0>"
      ]
     },
     "execution_count": 433,
     "metadata": {},
     "output_type": "execute_result"
    },
    {
     "data": {
      "image/png": "[encoded data removed]",
      "text/plain": [
       "<Figure size 432x288 with 1 Axes>"
      ]
     },
     "metadata": {
      "needs_background": "light"
     },
     "output_type": "display_data"
    }
   ],
   "source": []
  },
  {
   "cell_type": "code",
   "execution_count": null,
   "metadata": {},
   "outputs": [],
   "source": []
  },
  {
   "cell_type": "code",
   "execution_count": null,
   "metadata": {},
   "outputs": [],
   "source": []
  },
  {
   "cell_type": "code",
   "execution_count": null,
   "metadata": {},
   "outputs": [],
   "source": []
  },
  {
   "cell_type": "code",
   "execution_count": null,
   "metadata": {},
   "outputs": [],
   "source": []
  },
  {
   "cell_type": "markdown",
   "metadata": {},
   "source": [
    "## Linear Regression Submission"
   ]
  },
  {
   "cell_type": "code",
   "execution_count": 308,
   "metadata": {},
   "outputs": [],
   "source": [
    "lr = LinearRegression()\n",
    "features = ['overall_qual_gr_area', \n",
    "                    'gr_liv_area', \n",
    "                    'exter_qual', \n",
    "                    'kitchen_qual',\n",
    "                    'garage_area',\n",
    "                    'total_bsmt_sf',\n",
    "                    'bsmt_qual', \n",
    "                    'bsmt_cond',\n",
    "                    'exter_cond',\n",
    "                    'fireplace_qu',\n",
    "                    'full_bath',\n",
    "                    'exter_cond',\n",
    "                    'lot_shape',\n",
    "                    'utilities']\n",
    "X = df[features]\n",
    "y = df.saleprice\n",
    "lr.fit(X, y)\n",
    "holdout_preds = lr.predict(holdout[features])\n",
    "\n",
    "submission = pd.DataFrame({'Id': holdout['id'], 'SalePrice': holdout_preds})\n",
    "submission = submission.reset_index(drop=True)\n",
    "submission.to_csv('kaggle_sub_linear.csv', index=False)"
   ]
  },
  {
   "cell_type": "code",
   "execution_count": null,
   "metadata": {},
   "outputs": [],
   "source": []
  },
  {
   "cell_type": "markdown",
   "metadata": {},
   "source": [
    "## Move on to Lasso Regression"
   ]
  },
  {
   "cell_type": "code",
   "execution_count": null,
   "metadata": {},
   "outputs": [],
   "source": [
    "ss = StandardScaler()"
   ]
  },
  {
   "cell_type": "code",
   "execution_count": null,
   "metadata": {},
   "outputs": [],
   "source": [
    "def lasso_reg_score(features, y = df['saleprice']):\n",
    "    X = features\n",
    "    X_train, X_test, y_train, y_test = train_test_split(X, y, random_state=42)\n",
    "    \n",
    "    ss.fit(X_train)\n",
    "    X_train_sc = ss.transform(X_train)\n",
    "    X_test_sc = ss.transform(X_test)\n",
    "    \n",
    "    l_alphas = np.linspace(0, 500, 100)\n",
    "    lasso_model = LassoCV( cv=5)\n",
    "    lasso_model.fit(X_train_sc, y_train)\n",
    "    print('optimal alpha: ', lasso_model.alpha_)\n",
    "        \n",
    "    lasso = Lasso(alpha = lasso_model.alpha_)\n",
    "    lasso.fit(X_train_sc, y_train)\n",
    "    print('cv score: ', round(cross_val_score(lasso, X_train_sc, y_train, cv=5).mean(), 4))\n",
    "\n",
    "    # Generate predictions\n",
    "    lasso_preds = lasso.predict(X_test_sc)\n",
    "    lasso_preds_train = lasso.predict(X_train_sc)\n",
    "\n",
    "    # Evaluate model.\n",
    "    print(r2_score(y_test, lasso_preds))\n",
    "    print(r2_score(y_train, lasso_preds_train))\n",
    "    print('RMSE: ', round(mean_squared_error(y_test, lasso_preds)**0.5, 0))\n",
    "    \n",
    "    coefs = pd.DataFrame({'predictor': X.columns, 'lasso coef': abs(lasso.coef_)})\n",
    "    return lasso#coefs.sort_values('lasso coef', ascending=False)"
   ]
  },
  {
   "cell_type": "code",
   "execution_count": null,
   "metadata": {},
   "outputs": [],
   "source": [
    "models = lasso_reg_score(df[['overall_qual', \n",
    "                    'gr_liv_area', \n",
    "                    'exter_qual', \n",
    "                    'kitchen_qual',\n",
    "                    'garage_area',\n",
    "                   'garage_cars', #increased RMSE\n",
    "                    'total_bsmt_sf',\n",
    "                    'bsmt_qual', \n",
    "                    'bsmt_cond',\n",
    "                    'exter_cond',\n",
    "                    'fireplace_qu',\n",
    "                   'garage_qual', #increased RMSE\n",
    "                   'garage_cond', #increased RMSE\n",
    "                   'heating_qc', #increased RMSE\n",
    "                   'pool_qc', #increased RMSE\n",
    "                   'totrms_abvgrd',#increased RMSE\n",
    "                   'year_built', #increased RMSE\n",
    "                    'full_bath',\n",
    "                    'exter_cond',\n",
    "                    'lot_shape',\n",
    "                    'utilities',\n",
    "                    'functional'\n",
    "                   ]])"
   ]
  },
  {
   "cell_type": "code",
   "execution_count": null,
   "metadata": {},
   "outputs": [],
   "source": [
    "#NEED TO SCALE HOLDOUT DATA\n",
    "\n",
    "models.predict(holdout[['overall_qual', \n",
    "                    'gr_liv_area', \n",
    "                    'exter_qual', \n",
    "                    'kitchen_qual',\n",
    "                    'garage_area',\n",
    "                   'garage_cars', #increased RMSE\n",
    "                    'total_bsmt_sf',\n",
    "                    'bsmt_qual', \n",
    "                    'bsmt_cond',\n",
    "                    'exter_cond',\n",
    "                    'fireplace_qu',\n",
    "                   'garage_qual', #increased RMSE\n",
    "                   'garage_cond', #increased RMSE\n",
    "                   'heating_qc', #increased RMSE\n",
    "                   'pool_qc', #increased RMSE\n",
    "                   'totrms_abvgrd',#increased RMSE\n",
    "                   'year_built', #increased RMSE\n",
    "                    'full_bath',\n",
    "                    'exter_cond',\n",
    "                    'lot_shape',\n",
    "                    'utilities'\n",
    "                   ]])"
   ]
  },
  {
   "cell_type": "code",
   "execution_count": null,
   "metadata": {},
   "outputs": [],
   "source": [
    "LassoCV?"
   ]
  },
  {
   "cell_type": "code",
   "execution_count": null,
   "metadata": {},
   "outputs": [],
   "source": [
    "lasso = Lasso(alpha=1026.878887156066)\n",
    "features = ['overall_qual', \n",
    "                    'gr_liv_area', \n",
    "                    'exter_qual', \n",
    "                    'kitchen_qual',\n",
    "                    'garage_area',\n",
    "#                    'garage_cars', #increased RMSE\n",
    "                    'total_bsmt_sf',\n",
    "                    'bsmt_qual', \n",
    "                    'bsmt_cond',\n",
    "                    'exter_cond',\n",
    "                    'fireplace_qu',\n",
    "#                    'garage_qual', #increased RMSE\n",
    "#                    'garage_cond', #increased RMSE\n",
    "#                    'heating_qc', #increased RMSE\n",
    "#                    'pool_qc', #increased RMSE\n",
    "#                    'totrms_abvgrd',#increased RMSE\n",
    "#                    'year_built', #increased RMSE\n",
    "                    'full_bath',\n",
    "                    'exter_cond',\n",
    "                    'lot_shape',\n",
    "#                    'utilities'\n",
    "           ]\n",
    "X = df[features]\n",
    "y = df.saleprice\n",
    "\n",
    "ss.fit(X)\n",
    "ss.transform(X)\n",
    "\n",
    "lasso.fit(X, y)\n",
    "holdout_preds = lasso.predict(holdout[features])\n",
    "\n",
    "submission = pd.DataFrame({'Id': holdout['id'], 'SalePrice': holdout_preds})\n",
    "submission = submission.reset_index(drop=True)\n",
    "submission.head()\n",
    "submission.to_csv('kaggle_sub_2_032118.csv', index=False)"
   ]
  },
  {
   "cell_type": "code",
   "execution_count": null,
   "metadata": {},
   "outputs": [],
   "source": []
  },
  {
   "cell_type": "code",
   "execution_count": null,
   "metadata": {},
   "outputs": [],
   "source": []
  },
  {
   "cell_type": "code",
   "execution_count": null,
   "metadata": {},
   "outputs": [],
   "source": []
  },
  {
   "cell_type": "code",
   "execution_count": null,
   "metadata": {},
   "outputs": [],
   "source": []
  },
  {
   "cell_type": "code",
   "execution_count": null,
   "metadata": {},
   "outputs": [],
   "source": []
  },
  {
   "cell_type": "code",
   "execution_count": null,
   "metadata": {},
   "outputs": [],
   "source": []
  },
  {
   "cell_type": "code",
   "execution_count": null,
   "metadata": {},
   "outputs": [],
   "source": [
    "coefs = pd.DataaFrame({'predictor': X.columns, 'lasso coef': abs(lasso_cv.coef_)})\n",
    "coefs.sort_values('lasso coef', ascending=False)[0:15]"
   ]
  },
  {
   "cell_type": "code",
   "execution_count": null,
   "metadata": {},
   "outputs": [],
   "source": []
  },
  {
   "cell_type": "code",
   "execution_count": null,
   "metadata": {},
   "outputs": [],
   "source": []
  },
  {
   "cell_type": "code",
   "execution_count": null,
   "metadata": {},
   "outputs": [],
   "source": []
  },
  {
   "cell_type": "code",
   "execution_count": null,
   "metadata": {},
   "outputs": [],
   "source": []
  },
  {
   "cell_type": "code",
   "execution_count": null,
   "metadata": {},
   "outputs": [],
   "source": []
  },
  {
   "cell_type": "code",
   "execution_count": null,
   "metadata": {},
   "outputs": [],
   "source": [
    "# get all of the corr.index in here, then move on to scaling and lasso \n"
   ]
  },
  {
   "cell_type": "markdown",
   "metadata": {},
   "source": [
    "## Best Submission So Far"
   ]
  },
  {
   "cell_type": "code",
   "execution_count": null,
   "metadata": {},
   "outputs": [],
   "source": [
    "lr = LinearRegression()\n",
    "features = ['overall_qual', \n",
    "                    'gr_liv_area', \n",
    "                    'exter_qual', \n",
    "                    'kitchen_qual',\n",
    "                    'garage_area',\n",
    "                    'garage_cars', \n",
    "                    'total_bsmt_sf',\n",
    "                    'totrms_abvgrd',\n",
    "                    'year_built',\n",
    "                    'full_bath',\n",
    "                    'bsmt_qual', \n",
    "                    'bsmt_cond',\n",
    "                    'exter_qual',\n",
    "                    'exter_cond',\n",
    "                    'fireplace_qu',\n",
    "                    'fireplaces',\n",
    "                    'garage_qual',\n",
    "                    'garage_cond',\n",
    "                    'heating_qc',\n",
    "                    'pool_qc']\n",
    "X = df[features]\n",
    "y = df.saleprice\n",
    "lr.fit(X, y)\n",
    "holdout_preds = lr.predict(holdout[features])\n",
    "\n",
    "submission = pd.DataFrame({'Id': holdout['id'], 'SalePrice': holdout_preds})\n",
    "submission = submission.reset_index(drop=True)\n",
    "#submission.to_csv('kaggle_sub_1_032018.csv', index=False)"
   ]
  },
  {
   "cell_type": "code",
   "execution_count": null,
   "metadata": {},
   "outputs": [],
   "source": []
  },
  {
   "cell_type": "code",
   "execution_count": null,
   "metadata": {},
   "outputs": [],
   "source": []
  },
  {
   "cell_type": "code",
   "execution_count": null,
   "metadata": {},
   "outputs": [],
   "source": []
  },
  {
   "cell_type": "code",
   "execution_count": null,
   "metadata": {},
   "outputs": [],
   "source": []
  },
  {
   "cell_type": "code",
   "execution_count": null,
   "metadata": {},
   "outputs": [],
   "source": []
  },
  {
   "cell_type": "code",
   "execution_count": null,
   "metadata": {},
   "outputs": [],
   "source": []
  },
  {
   "cell_type": "markdown",
   "metadata": {},
   "source": [
    "## Train-Test-Split"
   ]
  },
  {
   "cell_type": "code",
   "execution_count": null,
   "metadata": {},
   "outputs": [],
   "source": [
    "X = df[['gr_liv_area',\n",
    "        'bsmt_qual', \n",
    "        'bsmt_cond',\n",
    "        'exter_qual',\n",
    "        'exter_cond',\n",
    "        'fireplace_qu',\n",
    "        'garage_qual',\n",
    "        'garage_cond',\n",
    "        'heating_qc',\n",
    "        'kitchen_qual', \n",
    "        'pool_qc'\n",
    "       ]]\n",
    "y = df['saleprice']\n",
    "\n",
    "X_train, X_test, y_train, y_test = train_test_split(X, y)"
   ]
  },
  {
   "cell_type": "code",
   "execution_count": null,
   "metadata": {},
   "outputs": [],
   "source": [
    "from sklearn.preprocessing import StandardScaler\n",
    "ss = StandardScaler()\n",
    "ss.fit(X_train)\n",
    "X_train_sc = ss.transform(X_train)\n",
    "X_test_sc = ss.transform(X_test)"
   ]
  },
  {
   "cell_type": "code",
   "execution_count": null,
   "metadata": {},
   "outputs": [],
   "source": [
    "# A:\n",
    "\n",
    "l_alphas = np.linspace(0, 5, 85)\n",
    "lasso_model = LassoCV(alphas = l_alphas, cv=5)\n",
    "lasso_model = lasso_model.fit(X_train_sc, y_train)"
   ]
  },
  {
   "cell_type": "code",
   "execution_count": null,
   "metadata": {},
   "outputs": [],
   "source": [
    "lasso_optimal_alpha = lasso_model.alpha_\n",
    "lasso_optimal_alpha"
   ]
  },
  {
   "cell_type": "code",
   "execution_count": null,
   "metadata": {},
   "outputs": [],
   "source": [
    "lasso = Lasso(alpha=lasso_optimal_alpha)\n",
    "cross_val_score(lasso, X_train_sc, y_train, cv=10).mean()"
   ]
  },
  {
   "cell_type": "code",
   "execution_count": null,
   "metadata": {},
   "outputs": [],
   "source": [
    "coefs = pd.DataFrame({'predictor': X.columns, 'lasso coef': abs(lasso_model.coef_)})\n",
    "coefs.sort_values('lasso coef', ascending=False)[0:10]"
   ]
  },
  {
   "cell_type": "code",
   "execution_count": null,
   "metadata": {},
   "outputs": [],
   "source": []
  },
  {
   "cell_type": "code",
   "execution_count": null,
   "metadata": {},
   "outputs": [],
   "source": []
  },
  {
   "cell_type": "code",
   "execution_count": null,
   "metadata": {},
   "outputs": [],
   "source": []
  },
  {
   "cell_type": "code",
   "execution_count": null,
   "metadata": {},
   "outputs": [],
   "source": []
  },
  {
   "cell_type": "code",
   "execution_count": null,
   "metadata": {},
   "outputs": [],
   "source": [
    "lr = LinearRegression()\n",
    "\n",
    "lr.fit(X_train, y_train)\n",
    "\n",
    "holdout_preds = lr.predict(holdout[['gr_liv_area',\n",
    "        'bsmt_qual', \n",
    "        'bsmt_cond',\n",
    "        'exter_qual',\n",
    "        'exter_cond',\n",
    "        'fireplace_qu',\n",
    "        'garage_qual',\n",
    "        'garage_cond',\n",
    "        'heating_qc',\n",
    "        'kitchen_qual', \n",
    "        'pool_qc']])\n",
    "\n",
    "holdout_preds[:10]\n",
    "\n",
    "# sub = holdout[['id']]\n",
    "\n",
    "# sub.head()\n",
    "\n",
    "# sub['saleprice'] = holdout_preds\n",
    "\n",
    "# sub.head()"
   ]
  },
  {
   "cell_type": "code",
   "execution_count": null,
   "metadata": {},
   "outputs": [],
   "source": [
    "sub.to_csv('kaggle_sub_1_190318.csv', index=False)"
   ]
  },
  {
   "cell_type": "code",
   "execution_count": null,
   "metadata": {},
   "outputs": [],
   "source": [
    "lr.score()"
   ]
  },
  {
   "cell_type": "code",
   "execution_count": null,
   "metadata": {},
   "outputs": [],
   "source": []
  },
  {
   "cell_type": "code",
   "execution_count": null,
   "metadata": {},
   "outputs": [],
   "source": [
    "## Model Prep: Create our features matrix (`X`) and target vector (`y`)\n",
    "\n",
    "numerical_columns = df._get_numeric_data().columns\n",
    "\n",
    "features = [col for col in numerical_columns if col != 'saleprice']\n",
    "X = df[features]\n",
    "y = df['saleprice']\n",
    "\n",
    "## Model Prep: Train/test split\n",
    "\n",
    "X_train, X_test, y_train, y_test = train_test_split(X, y, random_state=42)\n",
    "\n",
    "## Model Prep: Scaling\n",
    "\n",
    "ss = StandardScaler()\n",
    "ss.fit(X_train) # Learning the mean and std for every column\n",
    "X_train_scaled = ss.transform(X_train)\n",
    "X_test_scaled = ss.transform(X_test)\n",
    "\n",
    "## Model Prep: Instantiate our models\n",
    "\n",
    "lr = LinearRegression()\n",
    "lasso = LassoCV()\n",
    "ridge = RidgeCV()\n",
    "\n",
    "## Cross Validation\n",
    "\n",
    "cross_val_score(lr, X_train_scaled, y_train, cv=5).mean()\n",
    "\n",
    "cross_val_score(lasso, X_train_scaled, y_train, cv=5).mean()\n",
    "\n",
    "cross_val_score(ridge, X_train_scaled, y_train, cv=5).mean()\n",
    "\n",
    "### Lasso has the best score, so I will proceed with Lasso\n",
    "\n",
    "## Model Fitting and Evaluation\n",
    "\n",
    "lasso.fit(X_train_scaled, y_train);\n",
    "\n",
    "# Train Score\n",
    "lasso.score(X_train_scaled, y_train)\n",
    "\n",
    "# Test Score\n",
    "lasso.score(X_test_scaled, y_test)\n",
    "\n",
    "preds = lasso.predict(X_test_scaled)\n",
    "\n",
    "\n",
    "\n",
    "\n",
    "\n",
    "def lasso_reg_score(features, y = df['saleprice']):\n",
    "    X = features\n",
    "    X_train, X_test, y_train, y_test = train_test_split(X, y, random_state=42)\n",
    "    \n",
    "    ss.fit(X_train)\n",
    "    X_train_sc = ss.transform(X_train)\n",
    "    X_test_sc = ss.transform(X_test)\n",
    "    \n",
    "    l_alphas = np.linspace(0, 500, 100)\n",
    "    lasso_model = LassoCV( cv=5)\n",
    "    lasso_model.fit(X_train_sc, y_train)\n",
    "    print('optimal alpha: ', lasso_model.alpha_)\n",
    "        \n",
    "    lasso = Lasso(alpha = lasso_model.alpha_)\n",
    "    lasso.fit(X_train_sc, y_train)\n",
    "    print('cv score: ', round(cross_val_score(lasso, X_train_sc, y_train, cv=5).mean(), 4))\n",
    "\n",
    "    # Generate predictions\n",
    "    lasso_preds = lasso.predict(X_test_sc)\n",
    "    lasso_preds_train = lasso.predict(X_train_sc)\n",
    "\n",
    "    # Evaluate model.\n",
    "    print(r2_score(y_test, lasso_preds))\n",
    "    print(r2_score(y_train, lasso_preds_train))\n",
    "    print('RMSE: ', round(mean_squared_error(y_test, lasso_preds)**0.5, 0))\n",
    "    \n",
    "    coefs = pd.DataFrame({'predictor': X.columns, 'lasso coef': abs(lasso.coef_)})\n",
    "    return lasso#coefs.sort_values('lasso coef', ascending=False)    \n",
    "    \n",
    "\n",
    "\n",
    "\n",
    "\n",
    "\n",
    "\n",
    "\n",
    "\n",
    "\n",
    "\n",
    "\n",
    "\n",
    "## Start Modeling with a simple Linear Regression\n",
    "#### Using only as Overall Quality as a feature, CV score is 0.63, RMSE is 45539\n",
    "\n",
    "X = df[['overall_qual']]\n",
    "y = df['saleprice']\n",
    "X_train, X_test, y_train, y_test = train_test_split(X, y, random_state=42)\n",
    "lr = LinearRegression()\n",
    "lr.fit(X_train, y_train)\n",
    "y_pred = lr.predict(X_test)\n",
    "print('cv score', cross_val_score(lr, X_train, y_train, cv=5).mean())\n",
    "print ('train score ', lr.score(X_train, y_train))\n",
    "print('test score ', lr.score(X_test, y_test))\n",
    "print('RMSE: ', round(mean_squared_error(y_test, y_pred)**0.5, 0))\n",
    "\n",
    "## Define a function to streamline this\n",
    "\n",
    "def linear_reg_score(features, y = df['saleprice']):\n",
    "    X = features\n",
    "    X_train, X_test, y_train, y_test = train_test_split(X, y, random_state=42)\n",
    "    lr = LinearRegression()\n",
    "    lr.fit(X_train, y_train)\n",
    "    y_pred = lr.predict(X_test)\n",
    "    print('cv score: ', round(cross_val_score(lr, X_train, y_train, cv=5).mean(), 4))\n",
    "    print('train score: ', round(lr.score(X_train, y_train), 4))\n",
    "    print('test score: ', round(lr.score(X_test, y_test), 4))\n",
    "    print('RMSE: ', round(mean_squared_error(y_test, y_pred)**0.5, 0))\n",
    "\n",
    "## Try out adding a bunch of highly-correlated features\n",
    "\n",
    "linear_reg_score(df[['overall_qual', \n",
    "                    'gr_liv_area']])\n",
    "\n",
    "linear_reg_score(df[['overall_qual_gr_area']])\n",
    "\n",
    "linear_reg_score(df[['overall_qual', \n",
    "                    'gr_liv_area', \n",
    "                    'exter_qual']])\n",
    "\n",
    "linear_reg_score(df[['overall_qual', \n",
    "                    'gr_liv_area', \n",
    "                    'exter_qual', \n",
    "                    'kitchen_qual']])\n",
    "\n",
    "linear_reg_score(df[['overall_qual', \n",
    "                    'gr_liv_area', \n",
    "                    'exter_qual', \n",
    "                    'kitchen_qual',\n",
    "                    'garage_area'\n",
    "                   ]])\n",
    "\n",
    "linear_reg_score(df[['overall_qual', \n",
    "                    'gr_liv_area', \n",
    "                    'exter_qual', \n",
    "                    'kitchen_qual',\n",
    "                    'garage_area',\n",
    "#                    'garage_cars', #increased RMSE\n",
    "                    'total_bsmt_sf'\n",
    "                   ]])\n",
    "\n",
    "# add in converted ordinal \n",
    "linear_reg_score(df[['overall_qual', \n",
    "                    'gr_liv_area', \n",
    "                    'exter_qual', \n",
    "                    'kitchen_qual',\n",
    "                    'garage_area',\n",
    "#                    'garage_cars', #increased RMSE\n",
    "                    'total_bsmt_sf',\n",
    "#                    'bsmt_qual', #increased RMSE\n",
    "                    'bsmt_cond'\n",
    "                   ]])\n",
    "\n",
    "# add in converted ordinal \n",
    "linear_reg_score(df[['overall_qual', \n",
    "                    'gr_liv_area', \n",
    "                    'exter_qual', \n",
    "                    'kitchen_qual',\n",
    "                    'garage_area',\n",
    "#                    'garage_cars', #increased RMSE\n",
    "                    'total_bsmt_sf',\n",
    "#                    'bsmt_qual', #increased RMSE\n",
    "                    'bsmt_cond',\n",
    "                    'exter_cond'\n",
    "                   ]])\n",
    "\n",
    "# add in converted ordinal \n",
    "linear_reg_score(df[['overall_qual', \n",
    "                    'gr_liv_area', \n",
    "                    'exter_qual', \n",
    "                    'kitchen_qual',\n",
    "                    'garage_area',\n",
    "#                    'garage_cars', #increased RMSE\n",
    "                    'total_bsmt_sf',\n",
    "                    'bsmt_qual', \n",
    "                    'bsmt_cond',\n",
    "                    'exter_cond',\n",
    "                    'fireplace_qu'\n",
    "                   ]])\n",
    "\n",
    "# add in additional highly correlated values\n",
    "linear_reg_score(df[['overall_qual', \n",
    "                    'gr_liv_area', \n",
    "                    'exter_qual', \n",
    "                    'kitchen_qual',\n",
    "                    'garage_area',\n",
    "#                    'garage_cars', #increased RMSE\n",
    "                    'total_bsmt_sf',\n",
    "                    'bsmt_qual', \n",
    "                    'bsmt_cond',\n",
    "                    'exter_cond',\n",
    "                    'fireplace_qu',\n",
    "#                    'garage_qual', #increased RMSE\n",
    "#                    'garage_cond', #increased RMSE\n",
    "#                    'heating_qc', #increased RMSE\n",
    "#                    'pool_qc' #increased RMSE\n",
    "#                    'totrms_abvgrd'#increased RMSE\n",
    "#                    'year_built' #increased RMSE\n",
    "                    'full_bath'\n",
    "                   ]])\n",
    "\n",
    "# add in additional highly correlated values\n",
    "linear_reg_score(df[['overall_qual', \n",
    "                    'gr_liv_area', \n",
    "                    'exter_qual', \n",
    "                    'kitchen_qual',\n",
    "                    'garage_area',\n",
    "#                    'garage_cars', #increased RMSE\n",
    "                    'total_bsmt_sf',\n",
    "                    'bsmt_qual', \n",
    "                    'bsmt_cond',\n",
    "                    'exter_cond',\n",
    "                    'fireplace_qu',\n",
    "#                    'garage_qual', #increased RMSE\n",
    "#                    'garage_cond', #increased RMSE\n",
    "#                    'heating_qc', #increased RMSE\n",
    "#                    'pool_qc' #increased RMSE\n",
    "#                    'totrms_abvgrd'#increased RMSE\n",
    "#                    'year_built' #increased RMSE\n",
    "                    'full_bath',\n",
    "                    'exter_cond',\n",
    "                    'lot_shape'\n",
    "                   ]])\n",
    "\n",
    "# add in additional highly correlated values\n",
    "linear_reg_score(df[['overall_qual_gr_area', \n",
    "                    #'gr_liv_area', \n",
    "                    'exter_qual', \n",
    "                    'kitchen_qual',\n",
    "                    'garage_area',\n",
    "#                    'garage_cars', #increased RMSE\n",
    "                    'total_bsmt_sf',\n",
    "                    'bsmt_qual', \n",
    "                    'bsmt_cond',\n",
    "                    'exter_cond',\n",
    "                    'fireplace_qu',\n",
    "#                    'garage_qual', #increased RMSE\n",
    "#                    'garage_cond', #increased RMSE\n",
    "#                    'heating_qc', #increased RMSE\n",
    "#                    'pool_qc' #increased RMSE\n",
    "#                    'totrms_abvgrd'#increased RMSE\n",
    "#                    'year_built' #increased RMSE\n",
    "                    'full_bath',\n",
    "                    'lot_shape',\n",
    "                   ]])\n",
    "\n",
    "## Linear Regression Submission\n",
    "\n",
    "lr = LinearRegression()\n",
    "features = ['overall_qual_gr_area', \n",
    "                    'gr_liv_area', \n",
    "                    'exter_qual', \n",
    "                    'kitchen_qual',\n",
    "                    'garage_area',\n",
    "                    'total_bsmt_sf',\n",
    "                    'bsmt_qual', \n",
    "                    'bsmt_cond',\n",
    "                    'exter_cond',\n",
    "                    'fireplace_qu',\n",
    "                    'full_bath',\n",
    "                    'exter_cond',\n",
    "                    'lot_shape',\n",
    "                    'utilities']\n",
    "X = df[features]\n",
    "y = df.saleprice\n",
    "lr.fit(X, y)\n",
    "holdout_preds = lr.predict(holdout[features])\n",
    "\n",
    "submission = pd.DataFrame({'Id': holdout['id'], 'SalePrice': holdout_preds})\n",
    "submission = submission.reset_index(drop=True)\n",
    "submission.to_csv('kaggle_sub_linear.csv', index=False)\n",
    "\n",
    "\n",
    "\n",
    "## Move on to Lasso Regression\n",
    "\n",
    "ss = StandardScaler()\n",
    "\n",
    "def lasso_reg_score(features, y = df['saleprice']):\n",
    "    X = features\n",
    "    X_train, X_test, y_train, y_test = train_test_split(X, y, random_state=42)\n",
    "    \n",
    "    ss.fit(X_train)\n",
    "    X_train_sc = ss.transform(X_train)\n",
    "    X_test_sc = ss.transform(X_test)\n",
    "    \n",
    "    l_alphas = np.linspace(0, 500, 100)\n",
    "    lasso_model = LassoCV( cv=5)\n",
    "    lasso_model.fit(X_train_sc, y_train)\n",
    "    print('optimal alpha: ', lasso_model.alpha_)\n",
    "        \n",
    "    lasso = Lasso(alpha = lasso_model.alpha_)\n",
    "    lasso.fit(X_train_sc, y_train)\n",
    "    print('cv score: ', round(cross_val_score(lasso, X_train_sc, y_train, cv=5).mean(), 4))\n",
    "\n",
    "    # Generate predictions\n",
    "    lasso_preds = lasso.predict(X_test_sc)\n",
    "    lasso_preds_train = lasso.predict(X_train_sc)\n",
    "\n",
    "    # Evaluate model.\n",
    "    print(r2_score(y_test, lasso_preds))\n",
    "    print(r2_score(y_train, lasso_preds_train))\n",
    "    print('RMSE: ', round(mean_squared_error(y_test, lasso_preds)**0.5, 0))\n",
    "    \n",
    "    coefs = pd.DataFrame({'predictor': X.columns, 'lasso coef': abs(lasso.coef_)})\n",
    "    return lasso#coefs.sort_values('lasso coef', ascending=False)\n",
    "\n",
    "models = lasso_reg_score(df[['overall_qual', \n",
    "                    'gr_liv_area', \n",
    "                    'exter_qual', \n",
    "                    'kitchen_qual',\n",
    "                    'garage_area',\n",
    "                   'garage_cars', #increased RMSE\n",
    "                    'total_bsmt_sf',\n",
    "                    'bsmt_qual', \n",
    "                    'bsmt_cond',\n",
    "                    'exter_cond',\n",
    "                    'fireplace_qu',\n",
    "                   'garage_qual', #increased RMSE\n",
    "                   'garage_cond', #increased RMSE\n",
    "                   'heating_qc', #increased RMSE\n",
    "                   'pool_qc', #increased RMSE\n",
    "                   'totrms_abvgrd',#increased RMSE\n",
    "                   'year_built', #increased RMSE\n",
    "                    'full_bath',\n",
    "                    'exter_cond',\n",
    "                    'lot_shape',\n",
    "                    'utilities',\n",
    "                    'functional'\n",
    "                   ]])\n",
    "\n",
    "#NEED TO SCALE HOLDOUT DATA\n",
    "\n",
    "models.predict(holdout[['overall_qual', \n",
    "                    'gr_liv_area', \n",
    "                    'exter_qual', \n",
    "                    'kitchen_qual',\n",
    "                    'garage_area',\n",
    "                   'garage_cars', #increased RMSE\n",
    "                    'total_bsmt_sf',\n",
    "                    'bsmt_qual', \n",
    "                    'bsmt_cond',\n",
    "                    'exter_cond',\n",
    "                    'fireplace_qu',\n",
    "                   'garage_qual', #increased RMSE\n",
    "                   'garage_cond', #increased RMSE\n",
    "                   'heating_qc', #increased RMSE\n",
    "                   'pool_qc', #increased RMSE\n",
    "                   'totrms_abvgrd',#increased RMSE\n",
    "                   'year_built', #increased RMSE\n",
    "                    'full_bath',\n",
    "                    'exter_cond',\n",
    "                    'lot_shape',\n",
    "                    'utilities'\n",
    "                   ]])\n",
    "\n",
    "LassoCV?\n",
    "\n",
    "lasso = Lasso(alpha=1026.878887156066)\n",
    "features = ['overall_qual', \n",
    "                    'gr_liv_area', \n",
    "                    'exter_qual', \n",
    "                    'kitchen_qual',\n",
    "                    'garage_area',\n",
    "#                    'garage_cars', #increased RMSE\n",
    "                    'total_bsmt_sf',\n",
    "                    'bsmt_qual', \n",
    "                    'bsmt_cond',\n",
    "                    'exter_cond',\n",
    "                    'fireplace_qu',\n",
    "#                    'garage_qual', #increased RMSE\n",
    "#                    'garage_cond', #increased RMSE\n",
    "#                    'heating_qc', #increased RMSE\n",
    "#                    'pool_qc', #increased RMSE\n",
    "#                    'totrms_abvgrd',#increased RMSE\n",
    "#                    'year_built', #increased RMSE\n",
    "                    'full_bath',\n",
    "                    'exter_cond',\n",
    "                    'lot_shape',\n",
    "#                    'utilities'\n",
    "           ]\n",
    "X = df[features]\n",
    "y = df.saleprice\n",
    "\n",
    "ss.fit(X)\n",
    "ss.transform(X)\n",
    "\n",
    "lasso.fit(X, y)\n",
    "holdout_preds = lasso.predict(holdout[features])\n",
    "\n",
    "submission = pd.DataFrame({'Id': holdout['id'], 'SalePrice': holdout_preds})\n",
    "submission = submission.reset_index(drop=True)\n",
    "submission.head()\n",
    "submission.to_csv('kaggle_sub_2_032118.csv', index=False)\n",
    "\n",
    "\n",
    "\n",
    "\n",
    "\n",
    "\n",
    "\n",
    "\n",
    "\n",
    "\n",
    "\n",
    "\n",
    "\n",
    "coefs = pd.DataaFrame({'predictor': X.columns, 'lasso coef': abs(lasso_cv.coef_)})\n",
    "coefs.sort_values('lasso coef', ascending=False)[0:15]\n",
    "\n",
    "\n",
    "\n",
    "\n",
    "\n",
    "\n",
    "\n",
    "\n",
    "\n",
    "\n",
    "\n",
    "# get all of the corr.index in here, then move on to scaling and lasso \n",
    "\n",
    "\n",
    "## Best Submission So Far\n",
    "\n",
    "lr = LinearRegression()\n",
    "features = ['overall_qual', \n",
    "                    'gr_liv_area', \n",
    "                    'exter_qual', \n",
    "                    'kitchen_qual',\n",
    "                    'garage_area',\n",
    "                    'garage_cars', \n",
    "                    'total_bsmt_sf',\n",
    "                    'totrms_abvgrd',\n",
    "                    'year_built',\n",
    "                    'full_bath',\n",
    "                    'bsmt_qual', \n",
    "                    'bsmt_cond',\n",
    "                    'exter_qual',\n",
    "                    'exter_cond',\n",
    "                    'fireplace_qu',\n",
    "                    'fireplaces',\n",
    "                    'garage_qual',\n",
    "                    'garage_cond',\n",
    "                    'heating_qc',\n",
    "                    'pool_qc']\n",
    "X = df[features]\n",
    "y = df.saleprice\n",
    "lr.fit(X, y)\n",
    "holdout_preds = lr.predict(holdout[features])\n",
    "\n",
    "submission = pd.DataFrame({'Id': holdout['id'], 'SalePrice': holdout_preds})\n",
    "submission = submission.reset_index(drop=True)\n",
    "#submission.to_csv('kaggle_sub_1_032018.csv', index=False)\n",
    "\n",
    "\n",
    "\n",
    "\n",
    "\n",
    "\n",
    "\n",
    "\n",
    "\n",
    "\n",
    "\n",
    "\n",
    "\n",
    "## Train-Test-Split\n",
    "\n",
    "X = df[['gr_liv_area',\n",
    "        'bsmt_qual', \n",
    "        'bsmt_cond',\n",
    "        'exter_qual',\n",
    "        'exter_cond',\n",
    "        'fireplace_qu',\n",
    "        'garage_qual',\n",
    "        'garage_cond',\n",
    "        'heating_qc',\n",
    "        'kitchen_qual', \n",
    "        'pool_qc'\n",
    "       ]]\n",
    "y = df['saleprice']\n",
    "\n",
    "X_train, X_test, y_train, y_test = train_test_split(X, y)\n",
    "\n",
    "from sklearn.preprocessing import StandardScaler\n",
    "ss = StandardScaler()\n",
    "ss.fit(X_train)\n",
    "X_train_sc = ss.transform(X_train)\n",
    "X_test_sc = ss.transform(X_test)\n",
    "\n",
    "# A:\n",
    "\n",
    "l_alphas = np.linspace(0, 5, 85)\n",
    "lasso_model = LassoCV(alphas = l_alphas, cv=5)\n",
    "lasso_model = lasso_model.fit(X_train_sc, y_train)\n",
    "\n",
    "lasso_optimal_alpha = lasso_model.alpha_\n",
    "lasso_optimal_alpha\n",
    "\n",
    "lasso = Lasso(alpha=lasso_optimal_alpha)\n",
    "cross_val_score(lasso, X_train_sc, y_train, cv=10).mean()\n",
    "\n",
    "coefs = pd.DataFrame({'predictor': X.columns, 'lasso coef': abs(lasso_model.coef_)})\n",
    "coefs.sort_values('lasso coef', ascending=False)[0:10]\n",
    "\n",
    "\n",
    "\n",
    "\n",
    "\n",
    "\n",
    "\n",
    "\n",
    "\n",
    "lr = LinearRegression()\n",
    "\n",
    "lr.fit(X_train, y_train)\n",
    "\n",
    "holdout_preds = lr.predict(holdout[['gr_liv_area',\n",
    "        'bsmt_qual', \n",
    "        'bsmt_cond',\n",
    "        'exter_qual',\n",
    "        'exter_cond',\n",
    "        'fireplace_qu',\n",
    "        'garage_qual',\n",
    "        'garage_cond',\n",
    "        'heating_qc',\n",
    "        'kitchen_qual', \n",
    "        'pool_qc']])\n",
    "\n",
    "holdout_preds[:10]\n",
    "\n",
    "# sub = holdout[['id']]\n",
    "\n",
    "# sub.head()\n",
    "\n",
    "# sub['saleprice'] = holdout_preds\n",
    "\n",
    "# sub.head()\n",
    "\n",
    "sub.to_csv('kaggle_sub_1_190318.csv', index=False)\n",
    "\n",
    "lr.score()\n",
    "\n"
   ]
  }
 ],
 "metadata": {
  "kernelspec": {
   "display_name": "Python 3",
   "language": "python",
   "name": "python3"
  },
  "language_info": {
   "codemirror_mode": {
    "name": "ipython",
    "version": 3
   },
   "file_extension": ".py",
   "mimetype": "text/x-python",
   "name": "python",
   "nbconvert_exporter": "python",
   "pygments_lexer": "ipython3",
   "version": "3.6.8"
  }
 },
 "nbformat": 4,
 "nbformat_minor": 2
}
