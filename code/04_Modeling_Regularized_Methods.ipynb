{
 "cells": [
  {
   "cell_type": "code",
   "execution_count": 1,
   "metadata": {},
   "outputs": [],
   "source": [
    "import pandas as pd\n",
    "import numpy as np\n",
    "import matplotlib.pyplot as plt\n",
    "import seaborn as sns\n",
    "%matplotlib inline\n",
    "pd.set_option('display.max_columns', 90)\n",
    "pd.set_option('display.max_rows', 90)\n",
    "\n",
    "from sklearn.linear_model import Ridge, Lasso, ElasticNet, LinearRegression, RidgeCV, LassoCV, ElasticNetCV\n",
    "from sklearn.model_selection import train_test_split, cross_val_score\n",
    "from sklearn.metrics import mean_squared_error, r2_score\n",
    "from sklearn.preprocessing import PolynomialFeatures, StandardScaler"
   ]
  },
  {
   "cell_type": "code",
   "execution_count": 2,
   "metadata": {},
   "outputs": [],
   "source": [
    "df = pd.read_csv('../datasets/df_engineered.csv', index_col=0)\n",
    "holdout = pd.read_csv('../datasets/holdout_engineered.csv', index_col=0)"
   ]
  },
  {
   "cell_type": "code",
   "execution_count": 3,
   "metadata": {},
   "outputs": [
    {
     "data": {
      "text/plain": [
       "(2050, 197)"
      ]
     },
     "execution_count": 3,
     "metadata": {},
     "output_type": "execute_result"
    }
   ],
   "source": [
    "df.shape"
   ]
  },
  {
   "cell_type": "markdown",
   "metadata": {},
   "source": [
    "## Ridge Regression"
   ]
  },
  {
   "cell_type": "code",
   "execution_count": 4,
   "metadata": {},
   "outputs": [],
   "source": [
    "def ridge_reg_score(X, y = df['saleprice']):\n",
    "    X_train, X_test, y_train, y_test = train_test_split(X, y, random_state=42)\n",
    "    \n",
    "    ss = StandardScaler()\n",
    "    ss.fit(X_train)\n",
    "    X_train_sc = ss.transform(X_train)\n",
    "    X_test_sc = ss.transform(X_test)\n",
    "    \n",
    "    l_alphas = np.linspace(0, 100, 100)\n",
    "    ridge_model = RidgeCV(cv=5)\n",
    "    ridge_model.fit(X_train_sc, y_train)\n",
    "    print('optimal alpha: ', ridge_model.alpha_)\n",
    "        \n",
    "    ridge = Ridge(alpha = ridge_model.alpha_)\n",
    "    ridge.fit(X_train_sc, y_train)\n",
    "    print('cv score: ', round(cross_val_score(ridge, X_train_sc, y_train, cv=5).mean(), 4))\n",
    "\n",
    "    # Generate predictions\n",
    "    ridge_preds = ridge.predict(X_test_sc)\n",
    "    ridge_preds_train = ridge.predict(X_train_sc)\n",
    "\n",
    "    # Evaluate model.\n",
    "    print('r2 train: ', r2_score(y_train, ridge_preds_train))\n",
    "    print('r2 test: ', r2_score(y_test, ridge_preds))\n",
    "    print('RMSE: ', round(mean_squared_error(y_test, ridge_preds)**0.5, 0))\n",
    "    \n",
    "    coefs = pd.DataFrame({'predictor': X.columns, 'ridge coef': abs(ridge.coef_)})\n",
    "    return ridge"
   ]
  },
  {
   "cell_type": "code",
   "execution_count": 5,
   "metadata": {},
   "outputs": [
    {
     "name": "stdout",
     "output_type": "stream",
     "text": [
      "optimal alpha:  10.0\n",
      "cv score:  0.8267\n",
      "r2 train:  0.9251163421190819\n",
      "r2 test:  0.9125755987510147\n",
      "RMSE:  23374.0\n"
     ]
    },
    {
     "data": {
      "text/plain": [
       "Ridge(alpha=10.0, copy_X=True, fit_intercept=True, max_iter=None,\n",
       "   normalize=False, random_state=None, solver='auto', tol=0.001)"
      ]
     },
     "execution_count": 5,
     "metadata": {},
     "output_type": "execute_result"
    }
   ],
   "source": [
    "ridge_reg_score(df.drop(columns='saleprice'))"
   ]
  },
  {
   "cell_type": "markdown",
   "metadata": {},
   "source": [
    "## Lasso Regression"
   ]
  },
  {
   "cell_type": "code",
   "execution_count": 6,
   "metadata": {},
   "outputs": [],
   "source": [
    "def lasso_reg_score(X, y = df['saleprice']):\n",
    "    X_train, X_test, y_train, y_test = train_test_split(X, y, random_state=42)\n",
    "    \n",
    "    ss = StandardScaler()\n",
    "    ss.fit(X_train)\n",
    "    X_train_sc = ss.transform(X_train)\n",
    "    X_test_sc = ss.transform(X_test)\n",
    "    \n",
    "    l_alphas = np.linspace(0, 500, 100)\n",
    "    lasso_model = LassoCV(cv=5)\n",
    "    lasso_model.fit(X_train_sc, y_train)\n",
    "    print('optimal alpha: ', lasso_model.alpha_)\n",
    "        \n",
    "    lasso = Lasso(alpha = lasso_model.alpha_)\n",
    "    lasso.fit(X_train_sc, y_train)\n",
    "    print('cv score: ', round(cross_val_score(lasso, X_train_sc, y_train, cv=5).mean(), 4))\n",
    "\n",
    "    # Generate predictions\n",
    "    lasso_preds = lasso.predict(X_test_sc)\n",
    "    lasso_preds_train = lasso.predict(X_train_sc)\n",
    "\n",
    "    # Evaluate model.\n",
    "    print('r2 train: ', r2_score(y_train, lasso_preds_train))\n",
    "    print('r2 test: ', r2_score(y_test, lasso_preds))\n",
    "    print('RMSE: ', round(mean_squared_error(y_test, lasso_preds)**0.5, 0))\n",
    "    \n",
    "    coefs = pd.DataFrame({'predictor': X.columns, 'lasso coef': abs(lasso.coef_)})\n",
    "    return lasso"
   ]
  },
  {
   "cell_type": "code",
   "execution_count": 7,
   "metadata": {},
   "outputs": [
    {
     "name": "stdout",
     "output_type": "stream",
     "text": [
      "optimal alpha:  751.8060998981042\n",
      "cv score:  0.8346\n",
      "r2 train:  0.8960624228111449\n",
      "r2 test:  0.9030776248853241\n",
      "RMSE:  24611.0\n"
     ]
    },
    {
     "data": {
      "text/plain": [
       "Lasso(alpha=751.8060998981042, copy_X=True, fit_intercept=True, max_iter=1000,\n",
       "   normalize=False, positive=False, precompute=False, random_state=None,\n",
       "   selection='cyclic', tol=0.0001, warm_start=False)"
      ]
     },
     "execution_count": 7,
     "metadata": {},
     "output_type": "execute_result"
    }
   ],
   "source": [
    "lasso_reg_score(df.drop(columns='saleprice'))"
   ]
  },
  {
   "cell_type": "code",
   "execution_count": null,
   "metadata": {},
   "outputs": [],
   "source": []
  },
  {
   "cell_type": "code",
   "execution_count": null,
   "metadata": {},
   "outputs": [],
   "source": []
  },
  {
   "cell_type": "markdown",
   "metadata": {},
   "source": [
    "## Elastic Net Regression"
   ]
  },
  {
   "cell_type": "code",
   "execution_count": 8,
   "metadata": {},
   "outputs": [],
   "source": [
    "def enet_reg_score(X, y = df['saleprice']):\n",
    "    X_train, X_test, y_train, y_test = train_test_split(X, y, random_state=42)\n",
    "    \n",
    "    ss = StandardScaler()\n",
    "    ss.fit(X_train)\n",
    "    X_train_sc = ss.transform(X_train)\n",
    "    X_test_sc = ss.transform(X_test)\n",
    "    \n",
    "    l_alphas = np.linspace(0, 300, 100)\n",
    "    enet_model = ElasticNetCV(cv=5)\n",
    "    enet_model.fit(X_train_sc, y_train)\n",
    "    print('optimal alpha: ', enet_model.alpha_)\n",
    "        \n",
    "    enet = ElasticNet(alpha = enet_model.alpha_)\n",
    "    enet.fit(X_train_sc, y_train)\n",
    "    print('cv score: ', round(cross_val_score(enet, X_train_sc, y_train, cv=5).mean(), 4))\n",
    "\n",
    "    # Generate predictions\n",
    "    enet_preds = enet.predict(X_test_sc)\n",
    "    enet_preds_train = enet.predict(X_train_sc)\n",
    "\n",
    "    # Evaluate model.\n",
    "    print('r2 train: ', r2_score(y_train, enet_preds_train))\n",
    "    print('r2 test: ', r2_score(y_test, enet_preds))\n",
    "    print('RMSE: ', round(mean_squared_error(y_test, enet_preds)**0.5, 0))\n",
    "    \n",
    "    coefs = pd.DataFrame({'predictor': X.columns, 'enet coef': abs(enet.coef_)})\n",
    "    return enet"
   ]
  },
  {
   "cell_type": "code",
   "execution_count": 9,
   "metadata": {},
   "outputs": [
    {
     "name": "stdout",
     "output_type": "stream",
     "text": [
      "optimal alpha:  130.77652110966824\n",
      "cv score:  0.3047\n",
      "r2 train:  0.31019023197451034\n",
      "r2 test:  0.3121475466065734\n",
      "RMSE:  65564.0\n"
     ]
    },
    {
     "data": {
      "text/plain": [
       "ElasticNet(alpha=130.77652110966824, copy_X=True, fit_intercept=True,\n",
       "      l1_ratio=0.5, max_iter=1000, normalize=False, positive=False,\n",
       "      precompute=False, random_state=None, selection='cyclic', tol=0.0001,\n",
       "      warm_start=False)"
      ]
     },
     "execution_count": 9,
     "metadata": {},
     "output_type": "execute_result"
    }
   ],
   "source": [
    "enet_reg_score(df.drop(columns='saleprice'))"
   ]
  },
  {
   "cell_type": "code",
   "execution_count": null,
   "metadata": {},
   "outputs": [],
   "source": []
  }
 ],
 "metadata": {
  "kernelspec": {
   "display_name": "Python 3",
   "language": "python",
   "name": "python3"
  },
  "language_info": {
   "codemirror_mode": {
    "name": "ipython",
    "version": 3
   },
   "file_extension": ".py",
   "mimetype": "text/x-python",
   "name": "python",
   "nbconvert_exporter": "python",
   "pygments_lexer": "ipython3",
   "version": "3.6.8"
  }
 },
 "nbformat": 4,
 "nbformat_minor": 2
}
