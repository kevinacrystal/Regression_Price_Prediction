{
 "cells": [
  {
   "cell_type": "code",
   "execution_count": 1,
   "metadata": {},
   "outputs": [],
   "source": [
    "import pandas as pd\n",
    "import numpy as np\n",
    "import matplotlib.pyplot as plt\n",
    "import seaborn as sns\n",
    "%matplotlib inline\n",
    "pd.set_option('display.max_columns', 90)\n",
    "pd.set_option('display.max_rows', 90)\n",
    "\n",
    "from sklearn.linear_model import Ridge, Lasso, ElasticNet, LinearRegression, RidgeCV, LassoCV, ElasticNetCV\n",
    "from sklearn.model_selection import train_test_split, cross_val_score\n",
    "from sklearn.metrics import mean_squared_error, r2_score\n",
    "from sklearn.preprocessing import PolynomialFeatures, StandardScaler"
   ]
  },
  {
   "cell_type": "code",
   "execution_count": 2,
   "metadata": {},
   "outputs": [],
   "source": [
    "df = pd.read_csv('../datasets/df_engineered.csv', index_col=0)\n",
    "holdout = pd.read_csv('../datasets/holdout_engineered.csv', index_col=0)"
   ]
  },
  {
   "cell_type": "code",
   "execution_count": 15,
   "metadata": {},
   "outputs": [
    {
     "data": {
      "text/plain": [
       "(2026, 86)"
      ]
     },
     "execution_count": 15,
     "metadata": {},
     "output_type": "execute_result"
    }
   ],
   "source": [
    "df.shape"
   ]
  },
  {
   "cell_type": "markdown",
   "metadata": {},
   "source": [
    "## Model Prep: Create our features matrix (`X`) and target vector (`y`)"
   ]
  },
  {
   "cell_type": "code",
   "execution_count": 3,
   "metadata": {},
   "outputs": [],
   "source": [
    "numerical_columns = df._get_numeric_data().columns\n",
    "features = [col for col in numerical_columns if col != 'saleprice']\n",
    "X = df[features]\n",
    "y = df['saleprice']"
   ]
  },
  {
   "cell_type": "markdown",
   "metadata": {},
   "source": [
    "## Model Prep: Train/test split"
   ]
  },
  {
   "cell_type": "code",
   "execution_count": 4,
   "metadata": {},
   "outputs": [],
   "source": [
    "X_train, X_test, y_train, y_test = train_test_split(X, y, random_state=42)"
   ]
  },
  {
   "cell_type": "markdown",
   "metadata": {},
   "source": [
    "## Model Prep: Scaling"
   ]
  },
  {
   "cell_type": "code",
   "execution_count": 5,
   "metadata": {},
   "outputs": [],
   "source": [
    "ss = StandardScaler()\n",
    "ss.fit(X_train) # Learning the mean and std for every column\n",
    "X_train_scaled = ss.transform(X_train)\n",
    "X_test_scaled = ss.transform(X_test)"
   ]
  },
  {
   "cell_type": "markdown",
   "metadata": {},
   "source": [
    "## Model Prep: Instantiate our models"
   ]
  },
  {
   "cell_type": "code",
   "execution_count": 6,
   "metadata": {},
   "outputs": [],
   "source": [
    "lr = LinearRegression()\n",
    "lasso = LassoCV()\n",
    "ridge = RidgeCV()"
   ]
  },
  {
   "cell_type": "markdown",
   "metadata": {},
   "source": [
    "## Cross Validation"
   ]
  },
  {
   "cell_type": "code",
   "execution_count": 7,
   "metadata": {},
   "outputs": [
    {
     "data": {
      "text/plain": [
       "-2.4923196311958747e+23"
      ]
     },
     "execution_count": 7,
     "metadata": {},
     "output_type": "execute_result"
    }
   ],
   "source": [
    "cross_val_score(lr, X_train_scaled, y_train, cv=5).mean()"
   ]
  },
  {
   "cell_type": "code",
   "execution_count": 8,
   "metadata": {},
   "outputs": [
    {
     "data": {
      "text/plain": [
       "0.7894525849534599"
      ]
     },
     "execution_count": 8,
     "metadata": {},
     "output_type": "execute_result"
    }
   ],
   "source": [
    "cross_val_score(lasso, X_train_scaled, y_train, cv=5).mean()"
   ]
  },
  {
   "cell_type": "code",
   "execution_count": 9,
   "metadata": {},
   "outputs": [
    {
     "data": {
      "text/plain": [
       "0.7705091464131102"
      ]
     },
     "execution_count": 9,
     "metadata": {},
     "output_type": "execute_result"
    }
   ],
   "source": [
    "cross_val_score(ridge, X_train_scaled, y_train, cv=5).mean()"
   ]
  },
  {
   "cell_type": "markdown",
   "metadata": {},
   "source": [
    "## Model Fitting and Evaluation"
   ]
  },
  {
   "cell_type": "code",
   "execution_count": 10,
   "metadata": {},
   "outputs": [],
   "source": [
    "lasso.fit(X_train_scaled, y_train);"
   ]
  },
  {
   "cell_type": "code",
   "execution_count": 11,
   "metadata": {},
   "outputs": [
    {
     "data": {
      "text/plain": [
       "0.8342159569977194"
      ]
     },
     "execution_count": 11,
     "metadata": {},
     "output_type": "execute_result"
    }
   ],
   "source": [
    "# Train Score\n",
    "lasso.score(X_train_scaled, y_train)"
   ]
  },
  {
   "cell_type": "code",
   "execution_count": 12,
   "metadata": {},
   "outputs": [
    {
     "data": {
      "text/plain": [
       "0.8799372045181327"
      ]
     },
     "execution_count": 12,
     "metadata": {},
     "output_type": "execute_result"
    }
   ],
   "source": [
    "# Test Score\n",
    "lasso.score(X_test_scaled, y_test)"
   ]
  },
  {
   "cell_type": "markdown",
   "metadata": {},
   "source": [
    "## Check Lasso Coefficients of Potential Features"
   ]
  },
  {
   "cell_type": "code",
   "execution_count": 19,
   "metadata": {},
   "outputs": [
    {
     "data": {
      "text/html": [
       "<div>\n",
       "<style scoped>\n",
       "    .dataframe tbody tr th:only-of-type {\n",
       "        vertical-align: middle;\n",
       "    }\n",
       "\n",
       "    .dataframe tbody tr th {\n",
       "        vertical-align: top;\n",
       "    }\n",
       "\n",
       "    .dataframe thead th {\n",
       "        text-align: right;\n",
       "    }\n",
       "</style>\n",
       "<table border=\"1\" class=\"dataframe\">\n",
       "  <thead>\n",
       "    <tr style=\"text-align: right;\">\n",
       "      <th></th>\n",
       "      <th>feature</th>\n",
       "      <th>lasso coef</th>\n",
       "    </tr>\n",
       "  </thead>\n",
       "  <tbody>\n",
       "    <tr>\n",
       "      <th>66</th>\n",
       "      <td>overall_qual_gr_area</td>\n",
       "      <td>19169.730917</td>\n",
       "    </tr>\n",
       "    <tr>\n",
       "      <th>67</th>\n",
       "      <td>overall_qc_gr_area</td>\n",
       "      <td>10500.278486</td>\n",
       "    </tr>\n",
       "    <tr>\n",
       "      <th>63</th>\n",
       "      <td>garage_car_area</td>\n",
       "      <td>9719.735538</td>\n",
       "    </tr>\n",
       "    <tr>\n",
       "      <th>36</th>\n",
       "      <td>kitchen_qual</td>\n",
       "      <td>7237.973090</td>\n",
       "    </tr>\n",
       "    <tr>\n",
       "      <th>12</th>\n",
       "      <td>exter_qual</td>\n",
       "      <td>6073.436173</td>\n",
       "    </tr>\n",
       "    <tr>\n",
       "      <th>7</th>\n",
       "      <td>overall_qual</td>\n",
       "      <td>5885.740851</td>\n",
       "    </tr>\n",
       "    <tr>\n",
       "      <th>9</th>\n",
       "      <td>year_built</td>\n",
       "      <td>5428.452963</td>\n",
       "    </tr>\n",
       "    <tr>\n",
       "      <th>40</th>\n",
       "      <td>fireplace_qu</td>\n",
       "      <td>5240.097863</td>\n",
       "    </tr>\n",
       "    <tr>\n",
       "      <th>26</th>\n",
       "      <td>1st_flr_sf</td>\n",
       "      <td>4834.764523</td>\n",
       "    </tr>\n",
       "    <tr>\n",
       "      <th>16</th>\n",
       "      <td>bsmt_exposure</td>\n",
       "      <td>3749.967088</td>\n",
       "    </tr>\n",
       "    <tr>\n",
       "      <th>55</th>\n",
       "      <td>misc_val</td>\n",
       "      <td>3707.491728</td>\n",
       "    </tr>\n",
       "    <tr>\n",
       "      <th>14</th>\n",
       "      <td>bsmt_qual</td>\n",
       "      <td>2811.356510</td>\n",
       "    </tr>\n",
       "    <tr>\n",
       "      <th>2</th>\n",
       "      <td>ms_subclass</td>\n",
       "      <td>2458.353729</td>\n",
       "    </tr>\n",
       "    <tr>\n",
       "      <th>11</th>\n",
       "      <td>mas_vnr_area</td>\n",
       "      <td>2146.887132</td>\n",
       "    </tr>\n",
       "    <tr>\n",
       "      <th>18</th>\n",
       "      <td>bsmtfin_sf_1</td>\n",
       "      <td>2115.309026</td>\n",
       "    </tr>\n",
       "    <tr>\n",
       "      <th>17</th>\n",
       "      <td>bsmtfin_type_1</td>\n",
       "      <td>1690.467143</td>\n",
       "    </tr>\n",
       "    <tr>\n",
       "      <th>30</th>\n",
       "      <td>bsmt_full_bath</td>\n",
       "      <td>1617.400360</td>\n",
       "    </tr>\n",
       "    <tr>\n",
       "      <th>59</th>\n",
       "      <td>basment_qc</td>\n",
       "      <td>1440.564679</td>\n",
       "    </tr>\n",
       "    <tr>\n",
       "      <th>53</th>\n",
       "      <td>pool_qc</td>\n",
       "      <td>971.903472</td>\n",
       "    </tr>\n",
       "    <tr>\n",
       "      <th>23</th>\n",
       "      <td>heating_qc</td>\n",
       "      <td>702.652455</td>\n",
       "    </tr>\n",
       "    <tr>\n",
       "      <th>32</th>\n",
       "      <td>full_bath</td>\n",
       "      <td>695.008164</td>\n",
       "    </tr>\n",
       "    <tr>\n",
       "      <th>51</th>\n",
       "      <td>screen_porch</td>\n",
       "      <td>367.057270</td>\n",
       "    </tr>\n",
       "    <tr>\n",
       "      <th>6</th>\n",
       "      <td>land_slope</td>\n",
       "      <td>226.702394</td>\n",
       "    </tr>\n",
       "    <tr>\n",
       "      <th>44</th>\n",
       "      <td>garage_qual</td>\n",
       "      <td>0.000000</td>\n",
       "    </tr>\n",
       "    <tr>\n",
       "      <th>46</th>\n",
       "      <td>paved_drive</td>\n",
       "      <td>0.000000</td>\n",
       "    </tr>\n",
       "  </tbody>\n",
       "</table>\n",
       "</div>"
      ],
      "text/plain": [
       "                 feature    lasso coef\n",
       "66  overall_qual_gr_area  19169.730917\n",
       "67    overall_qc_gr_area  10500.278486\n",
       "63       garage_car_area   9719.735538\n",
       "36          kitchen_qual   7237.973090\n",
       "12            exter_qual   6073.436173\n",
       "7           overall_qual   5885.740851\n",
       "9             year_built   5428.452963\n",
       "40          fireplace_qu   5240.097863\n",
       "26            1st_flr_sf   4834.764523\n",
       "16         bsmt_exposure   3749.967088\n",
       "55              misc_val   3707.491728\n",
       "14             bsmt_qual   2811.356510\n",
       "2            ms_subclass   2458.353729\n",
       "11          mas_vnr_area   2146.887132\n",
       "18          bsmtfin_sf_1   2115.309026\n",
       "17        bsmtfin_type_1   1690.467143\n",
       "30        bsmt_full_bath   1617.400360\n",
       "59            basment_qc   1440.564679\n",
       "53               pool_qc    971.903472\n",
       "23            heating_qc    702.652455\n",
       "32             full_bath    695.008164\n",
       "51          screen_porch    367.057270\n",
       "6             land_slope    226.702394\n",
       "44           garage_qual      0.000000\n",
       "46           paved_drive      0.000000"
      ]
     },
     "execution_count": 19,
     "metadata": {},
     "output_type": "execute_result"
    }
   ],
   "source": [
    "coefs = pd.DataFrame({'feature': X.columns, 'lasso coef': abs(lasso.coef_)})\n",
    "coefs.sort_values('lasso coef', ascending=False)[0:25]"
   ]
  },
  {
   "cell_type": "markdown",
   "metadata": {},
   "source": [
    "Top features from the entire dataframe are shown above."
   ]
  },
  {
   "cell_type": "code",
   "execution_count": 28,
   "metadata": {},
   "outputs": [],
   "source": [
    "def lasso_reg_score(features, y = df['saleprice']):\n",
    "    X = features\n",
    "    X_train, X_test, y_train, y_test = train_test_split(X, y, random_state=42)\n",
    "    \n",
    "    ss.fit(X_train)\n",
    "    X_train_sc = ss.transform(X_train)\n",
    "    X_test_sc = ss.transform(X_test)\n",
    "    \n",
    "    l_alphas = np.linspace(0, 500, 100)\n",
    "    lasso_model = LassoCV( cv=5)\n",
    "    lasso_model.fit(X_train_sc, y_train)\n",
    "    print('optimal alpha: ', lasso_model.alpha_)\n",
    "        \n",
    "    lasso = Lasso(alpha = lasso_model.alpha_)\n",
    "    lasso.fit(X_train_sc, y_train)\n",
    "    print('cv score: ', round(cross_val_score(lasso, X_train_sc, y_train, cv=5).mean(), 4))\n",
    "\n",
    "    # Generate predictions\n",
    "    lasso_preds = lasso.predict(X_test_sc)\n",
    "    lasso_preds_train = lasso.predict(X_train_sc)\n",
    "\n",
    "    # Evaluate model.\n",
    "    print('r2 train: ', r2_score(y_train, lasso_preds_train))\n",
    "    print('r2 test: ', r2_score(y_test, lasso_preds))\n",
    "    print('RMSE: ', round(mean_squared_error(y_test, lasso_preds)**0.5, 0))\n",
    "    \n",
    "    coefs = pd.DataFrame({'predictor': X.columns, 'lasso coef': abs(lasso.coef_)})\n",
    "    return lasso"
   ]
  },
  {
   "cell_type": "code",
   "execution_count": 21,
   "metadata": {},
   "outputs": [
    {
     "name": "stdout",
     "output_type": "stream",
     "text": [
      "optimal alpha:  769.6132006541245\n",
      "cv score:  0.7746\n",
      "0.8481392788904798\n",
      "0.8064985711991055\n",
      "RMSE:  31388.0\n"
     ]
    }
   ],
   "source": [
    "models = lasso_reg_score(df[['overall_qual', \n",
    "                    'gr_liv_area', \n",
    "                    'exter_qual', \n",
    "                    'kitchen_qual',\n",
    "                    'garage_area',\n",
    "                   'garage_cars', #increased RMSE\n",
    "                    'total_bsmt_sf',\n",
    "                    'bsmt_qual', \n",
    "                    'bsmt_cond',\n",
    "                    'exter_cond',\n",
    "                    'fireplace_qu',\n",
    "                   'garage_qual', #increased RMSE\n",
    "                   'garage_cond', #increased RMSE\n",
    "                   'heating_qc', #increased RMSE\n",
    "                   'pool_qc', #increased RMSE\n",
    "                   'totrms_abvgrd',#increased RMSE\n",
    "                   'year_built', #increased RMSE\n",
    "                    'full_bath',\n",
    "                    'exter_cond',\n",
    "                    'lot_shape',\n",
    "                    'utilities',\n",
    "                    'functional'\n",
    "                   ]])"
   ]
  },
  {
   "cell_type": "code",
   "execution_count": 58,
   "metadata": {},
   "outputs": [
    {
     "name": "stdout",
     "output_type": "stream",
     "text": [
      "optimal alpha:  138.972976688399\n",
      "cv score:  0.8005\n",
      "0.8995278078433788\n",
      "0.8286237503915816\n",
      "RMSE:  25531.0\n"
     ]
    }
   ],
   "source": [
    "models = lasso_reg_score(df[[\n",
    "    'overall_qual_gr_area',\n",
    "    'garage_car_area',\n",
    "    'kitchen_qual',\n",
    "    'exter_qual',\n",
    "    'year_built',\n",
    "    'fireplace_qu',\n",
    "    '1st_flr_sf',\n",
    "    'bsmt_exposure',\n",
    "#    'misc_val',\n",
    "    'bsmt_qual',\n",
    "    'ms_subclass',\n",
    "    'mas_vnr_area',\n",
    "    'bsmtfin_sf_1',\n",
    "#    'bsmtfin_type_1',\n",
    "    'bsmt_full_bath',\n",
    "#    'pool_qc',\n",
    "#    'heating_qc',\n",
    "#    'full_bath',\n",
    "    'screen_porch',\n",
    "#   'land_slope'\n",
    "                  ]])"
   ]
  },
  {
   "cell_type": "code",
   "execution_count": null,
   "metadata": {},
   "outputs": [],
   "source": []
  },
  {
   "cell_type": "code",
   "execution_count": null,
   "metadata": {},
   "outputs": [],
   "source": []
  }
 ],
 "metadata": {
  "kernelspec": {
   "display_name": "Python 3",
   "language": "python",
   "name": "python3"
  },
  "language_info": {
   "codemirror_mode": {
    "name": "ipython",
    "version": 3
   },
   "file_extension": ".py",
   "mimetype": "text/x-python",
   "name": "python",
   "nbconvert_exporter": "python",
   "pygments_lexer": "ipython3",
   "version": "3.6.8"
  }
 },
 "nbformat": 4,
 "nbformat_minor": 2
}
