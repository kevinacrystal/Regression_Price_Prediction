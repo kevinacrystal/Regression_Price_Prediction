{
 "cells": [
  {
   "cell_type": "code",
   "execution_count": 1,
   "metadata": {},
   "outputs": [],
   "source": [
    "import pandas as pd\n",
    "import numpy as np\n",
    "import matplotlib.pyplot as plt\n",
    "import seaborn as sns\n",
    "%matplotlib inline\n",
    "pd.set_option('display.max_columns', 90)\n",
    "pd.set_option('display.max_rows', 90)\n",
    "\n",
    "from sklearn.linear_model import Ridge, Lasso, ElasticNet, LinearRegression, RidgeCV, LassoCV, ElasticNetCV\n",
    "from sklearn.model_selection import train_test_split, cross_val_score\n",
    "from sklearn.metrics import mean_squared_error, r2_score\n",
    "from sklearn.preprocessing import PolynomialFeatures, StandardScaler"
   ]
  },
  {
   "cell_type": "code",
   "execution_count": 2,
   "metadata": {},
   "outputs": [],
   "source": [
    "df = pd.read_csv('../datasets/df_engineered.csv', index_col=0)\n",
    "holdout = pd.read_csv('../datasets/holdout_engineered.csv', index_col=0)"
   ]
  },
  {
   "cell_type": "markdown",
   "metadata": {},
   "source": [
    "## Benchmark: Single Variable Linear Regression\n",
    "\n",
    "I'll start modeling by checking the score of model trained on only one feature, Overall Quality, which is the feature with the highest Pearson coefficient."
   ]
  },
  {
   "cell_type": "code",
   "execution_count": 3,
   "metadata": {},
   "outputs": [
    {
     "name": "stdout",
     "output_type": "stream",
     "text": [
      "cv score 0.6211065229501409\n",
      "train score  0.6309827113557348\n",
      "test score  0.6681557808804754\n",
      "RMSE:  45539.0\n"
     ]
    }
   ],
   "source": [
    "X = df[['overall_qual']]\n",
    "y = df['saleprice']\n",
    "X_train, X_test, y_train, y_test = train_test_split(X, y, random_state=42)\n",
    "lr = LinearRegression()\n",
    "lr.fit(X_train, y_train)\n",
    "y_pred = lr.predict(X_test)\n",
    "print('cv score', cross_val_score(lr, X_train, y_train, cv=5).mean())\n",
    "print ('train score ', lr.score(X_train, y_train))\n",
    "print('test score ', lr.score(X_test, y_test))\n",
    "print('RMSE: ', round(mean_squared_error(y_test, y_pred)**0.5, 0))"
   ]
  },
  {
   "cell_type": "markdown",
   "metadata": {},
   "source": [
    "## Define a function to streamline this"
   ]
  },
  {
   "cell_type": "code",
   "execution_count": 4,
   "metadata": {},
   "outputs": [],
   "source": [
    "def linear_reg_score(features, y = np.log(df['saleprice'])):\n",
    "    X = features\n",
    "    X_train, X_test, y_train, y_test = train_test_split(X, y, random_state=42)\n",
    "    lr = LinearRegression()\n",
    "    lr.fit(X_train, y_train)\n",
    "    y_pred = lr.predict(X_test)\n",
    "    print('cv score: ', round(cross_val_score(lr, X_train, y_train, cv=5).mean(), 4))\n",
    "    print('train score: ', round(lr.score(X_train, y_train), 4))\n",
    "    print('test score: ', round(lr.score(X_test, y_test), 4))\n",
    "    print('RMSE: ', round(mean_squared_error(np.exp(y_test), np.exp(y_pred))**0.5, 0))"
   ]
  },
  {
   "cell_type": "markdown",
   "metadata": {},
   "source": [
    "## Try out adding a bunch of highly-correlated features"
   ]
  },
  {
   "cell_type": "code",
   "execution_count": 5,
   "metadata": {},
   "outputs": [
    {
     "name": "stdout",
     "output_type": "stream",
     "text": [
      "cv score:  0.7337\n",
      "train score:  0.7425\n",
      "test score:  0.7683\n",
      "RMSE:  34119.0\n"
     ]
    }
   ],
   "source": [
    "linear_reg_score(df[['overall_qual', \n",
    "                    'gr_liv_area']])"
   ]
  },
  {
   "cell_type": "code",
   "execution_count": 6,
   "metadata": {},
   "outputs": [
    {
     "name": "stdout",
     "output_type": "stream",
     "text": [
      "cv score:  0.6142\n",
      "train score:  0.6307\n",
      "test score:  0.7006\n",
      "RMSE:  39261.0\n"
     ]
    }
   ],
   "source": [
    "linear_reg_score(df[['overall_qual_gr_area']])"
   ]
  },
  {
   "cell_type": "code",
   "execution_count": 7,
   "metadata": {},
   "outputs": [
    {
     "name": "stdout",
     "output_type": "stream",
     "text": [
      "cv score:  0.7495\n",
      "train score:  0.7583\n",
      "test score:  0.7719\n",
      "RMSE:  33167.0\n"
     ]
    }
   ],
   "source": [
    "linear_reg_score(df[['overall_qual', \n",
    "                    'gr_liv_area', \n",
    "                    'exter_qual']])"
   ]
  },
  {
   "cell_type": "code",
   "execution_count": 8,
   "metadata": {},
   "outputs": [
    {
     "name": "stdout",
     "output_type": "stream",
     "text": [
      "cv score:  0.7574\n",
      "train score:  0.7661\n",
      "test score:  0.7825\n",
      "RMSE:  31736.0\n"
     ]
    }
   ],
   "source": [
    "linear_reg_score(df[['overall_qual', \n",
    "                    'gr_liv_area', \n",
    "                    'exter_qual', \n",
    "                    'kitchen_qual']])"
   ]
  },
  {
   "cell_type": "code",
   "execution_count": 9,
   "metadata": {},
   "outputs": [
    {
     "name": "stdout",
     "output_type": "stream",
     "text": [
      "cv score:  0.7767\n",
      "train score:  0.7857\n",
      "test score:  0.802\n",
      "RMSE:  29952.0\n"
     ]
    }
   ],
   "source": [
    "linear_reg_score(df[['overall_qual', \n",
    "                    'gr_liv_area', \n",
    "                    'exter_qual', \n",
    "                    'kitchen_qual',\n",
    "                    'garage_area'\n",
    "                   ]])"
   ]
  },
  {
   "cell_type": "code",
   "execution_count": 10,
   "metadata": {},
   "outputs": [
    {
     "name": "stdout",
     "output_type": "stream",
     "text": [
      "cv score:  0.7822\n",
      "train score:  0.7949\n",
      "test score:  0.8219\n",
      "RMSE:  26957.0\n"
     ]
    }
   ],
   "source": [
    "linear_reg_score(df[['overall_qual', \n",
    "                    'gr_liv_area', \n",
    "                    'exter_qual', \n",
    "                    'kitchen_qual',\n",
    "                    'garage_area',\n",
    "#                    'garage_cars', #increased RMSE\n",
    "                    'total_bsmt_sf'\n",
    "                   ]])"
   ]
  },
  {
   "cell_type": "code",
   "execution_count": 11,
   "metadata": {},
   "outputs": [
    {
     "name": "stdout",
     "output_type": "stream",
     "text": [
      "cv score:  0.7843\n",
      "train score:  0.7976\n",
      "test score:  0.8258\n",
      "RMSE:  27095.0\n"
     ]
    }
   ],
   "source": [
    "# add in converted ordinal \n",
    "linear_reg_score(df[['overall_qual', \n",
    "                    'gr_liv_area', \n",
    "                    'exter_qual', \n",
    "                    'kitchen_qual',\n",
    "                    'garage_area',\n",
    "#                    'garage_cars', #increased RMSE\n",
    "                    'total_bsmt_sf',\n",
    "#                    'bsmt_qual', #increased RMSE\n",
    "                    'bsmt_cond'\n",
    "                   ]])"
   ]
  },
  {
   "cell_type": "code",
   "execution_count": 12,
   "metadata": {},
   "outputs": [
    {
     "name": "stdout",
     "output_type": "stream",
     "text": [
      "cv score:  0.7857\n",
      "train score:  0.7997\n",
      "test score:  0.8311\n",
      "RMSE:  26978.0\n"
     ]
    }
   ],
   "source": [
    "# add in converted ordinal \n",
    "linear_reg_score(df[['overall_qual', \n",
    "                    'gr_liv_area', \n",
    "                    'exter_qual', \n",
    "                    'kitchen_qual',\n",
    "                    'garage_area',\n",
    "#                    'garage_cars', #increased RMSE\n",
    "                    'total_bsmt_sf',\n",
    "#                    'bsmt_qual', #increased RMSE\n",
    "                    'bsmt_cond',\n",
    "                    'exter_cond'\n",
    "                   ]])"
   ]
  },
  {
   "cell_type": "code",
   "execution_count": 13,
   "metadata": {},
   "outputs": [
    {
     "name": "stdout",
     "output_type": "stream",
     "text": [
      "cv score:  0.8034\n",
      "train score:  0.8166\n",
      "test score:  0.8321\n",
      "RMSE:  26142.0\n"
     ]
    }
   ],
   "source": [
    "# add in converted ordinal \n",
    "linear_reg_score(df[['overall_qual', \n",
    "                    'gr_liv_area', \n",
    "                    'exter_qual', \n",
    "                    'kitchen_qual',\n",
    "                    'garage_area',\n",
    "#                    'garage_cars', #increased RMSE\n",
    "                    'total_bsmt_sf',\n",
    "                    'bsmt_qual', \n",
    "                    'bsmt_cond',\n",
    "                    'exter_cond',\n",
    "                    'fireplace_qu'\n",
    "                   ]])"
   ]
  },
  {
   "cell_type": "code",
   "execution_count": 14,
   "metadata": {},
   "outputs": [
    {
     "name": "stdout",
     "output_type": "stream",
     "text": [
      "cv score:  0.8045\n",
      "train score:  0.8184\n",
      "test score:  0.8328\n",
      "RMSE:  26337.0\n"
     ]
    }
   ],
   "source": [
    "# add in additional highly correlated values\n",
    "linear_reg_score(df[['overall_qual', \n",
    "                    'gr_liv_area', \n",
    "                    'exter_qual', \n",
    "                    'kitchen_qual',\n",
    "                    'garage_area',\n",
    "#                    'garage_cars', #increased RMSE\n",
    "                    'total_bsmt_sf',\n",
    "                    'bsmt_qual', \n",
    "                    'bsmt_cond',\n",
    "                    'exter_cond',\n",
    "                    'fireplace_qu',\n",
    "#                    'garage_qual', #increased RMSE\n",
    "#                    'garage_cond', #increased RMSE\n",
    "#                    'heating_qc', #increased RMSE\n",
    "#                    'pool_qc' #increased RMSE\n",
    "#                    'totrms_abvgrd'#increased RMSE\n",
    "#                    'year_built' #increased RMSE\n",
    "                    'full_bath'\n",
    "                   ]])"
   ]
  },
  {
   "cell_type": "code",
   "execution_count": 15,
   "metadata": {},
   "outputs": [
    {
     "name": "stdout",
     "output_type": "stream",
     "text": [
      "cv score:  0.8049\n",
      "train score:  0.8203\n",
      "test score:  0.8377\n",
      "RMSE:  26111.0\n"
     ]
    }
   ],
   "source": [
    "# add in additional highly correlated values\n",
    "linear_reg_score(df[['overall_qual', \n",
    "                    'gr_liv_area', \n",
    "                    'exter_qual', \n",
    "                    'kitchen_qual',\n",
    "                    'garage_area',\n",
    "#                    'garage_cars', #increased RMSE\n",
    "                    'total_bsmt_sf',\n",
    "                    'bsmt_qual', \n",
    "                    'bsmt_cond',\n",
    "                    'exter_cond',\n",
    "                    'fireplace_qu',\n",
    "#                    'garage_qual', #increased RMSE\n",
    "#                    'garage_cond', #increased RMSE\n",
    "#                    'heating_qc', #increased RMSE\n",
    "#                    'pool_qc' #increased RMSE\n",
    "#                    'totrms_abvgrd'#increased RMSE\n",
    "#                    'year_built' #increased RMSE\n",
    "                    'full_bath',\n",
    "                    'exter_cond',\n",
    "                    'lot_shape'\n",
    "                   ]])"
   ]
  },
  {
   "cell_type": "code",
   "execution_count": 16,
   "metadata": {},
   "outputs": [
    {
     "name": "stdout",
     "output_type": "stream",
     "text": [
      "cv score:  0.777\n",
      "train score:  0.796\n",
      "test score:  0.818\n",
      "RMSE:  27270.0\n"
     ]
    }
   ],
   "source": [
    "# add in additional highly correlated values\n",
    "linear_reg_score(df[['overall_qual_gr_area', \n",
    "                    #'gr_liv_area', \n",
    "                    'exter_qual', \n",
    "                    'kitchen_qual',\n",
    "                    'garage_area',\n",
    "#                    'garage_cars', #increased RMSE\n",
    "                    'total_bsmt_sf',\n",
    "                    'bsmt_qual', \n",
    "                    'bsmt_cond',\n",
    "                    'exter_cond',\n",
    "                    'fireplace_qu',\n",
    "#                    'garage_qual', #increased RMSE\n",
    "#                    'garage_cond', #increased RMSE\n",
    "#                    'heating_qc', #increased RMSE\n",
    "#                    'pool_qc' #increased RMSE\n",
    "#                    'totrms_abvgrd'#increased RMSE\n",
    "#                    'year_built' #increased RMSE\n",
    "                    'full_bath',\n",
    "                    'lot_shape',\n",
    "                   ]])"
   ]
  },
  {
   "cell_type": "code",
   "execution_count": 17,
   "metadata": {},
   "outputs": [
    {
     "name": "stdout",
     "output_type": "stream",
     "text": [
      "cv score:  0.778\n",
      "train score:  0.7972\n",
      "test score:  0.8156\n",
      "RMSE:  27308.0\n"
     ]
    }
   ],
   "source": [
    "# add in additional highly correlated values\n",
    "linear_reg_score(df[['overall_qual_gr_area', \n",
    "                    'gr_liv_area', \n",
    "                    'exter_qual', \n",
    "                    'kitchen_qual',\n",
    "                    'garage_area',\n",
    "                    'total_bsmt_sf',\n",
    "                    'bsmt_qual', \n",
    "                    'bsmt_cond',\n",
    "                    'exter_cond',\n",
    "                    'fireplace_qu',\n",
    "                    'full_bath',\n",
    "                    'exter_cond',\n",
    "                    'lot_shape',\n",
    "                    'utilities'\n",
    "                   ]])"
   ]
  },
  {
   "cell_type": "markdown",
   "metadata": {},
   "source": [
    "## Linear Regression Submission"
   ]
  },
  {
   "cell_type": "code",
   "execution_count": 18,
   "metadata": {},
   "outputs": [],
   "source": [
    "lr = LinearRegression()\n",
    "features = ['overall_qual_gr_area', \n",
    "                    #'gr_liv_area', \n",
    "                    'exter_qual', \n",
    "                    'kitchen_qual',\n",
    "                    'garage_area',\n",
    "                    'total_bsmt_sf',\n",
    "                    'bsmt_qual', \n",
    "                    'bsmt_cond',\n",
    "                    'exter_cond',\n",
    "                    'fireplace_qu',\n",
    "                    'full_bath',\n",
    "                    'exter_cond',\n",
    "                    'lot_shape',\n",
    "                    'utilities']\n",
    "X = df[features]\n",
    "y = df.saleprice\n",
    "lr.fit(X, y)\n",
    "holdout_preds = lr.predict(holdout[features])\n",
    "\n",
    "submission = pd.DataFrame({'Id': holdout['id'], 'SalePrice': holdout_preds})\n",
    "submission = submission.reset_index(drop=True)\n",
    "submission.to_csv('../submissions/kaggle_sub_linear.csv', index=False)"
   ]
  },
  {
   "cell_type": "code",
   "execution_count": null,
   "metadata": {},
   "outputs": [],
   "source": []
  },
  {
   "cell_type": "markdown",
   "metadata": {},
   "source": [
    "### Ridge Regression"
   ]
  },
  {
   "cell_type": "code",
   "execution_count": 19,
   "metadata": {},
   "outputs": [],
   "source": [
    "def ridge_reg_score(X, y = np.log(df['saleprice'])):\n",
    "    X_train, X_test, y_train, y_test = train_test_split(X, y, random_state=42)\n",
    "    \n",
    "    ss = StandardScaler()\n",
    "    ss.fit(X_train)\n",
    "    X_train_sc = ss.transform(X_train)\n",
    "    X_test_sc = ss.transform(X_test)\n",
    "    \n",
    "    ridge_model = RidgeCV(cv=5)\n",
    "    ridge_model.fit(X_train_sc, y_train)\n",
    "    print('optimal alpha: ', ridge_model.alpha_)\n",
    "        \n",
    "    ridge = Ridge(alpha = ridge_model.alpha_)\n",
    "    ridge.fit(X_train_sc, y_train)\n",
    "    print('cv score: ', round(cross_val_score(ridge, X_train_sc, y_train, cv=5).mean(), 4))\n",
    "\n",
    "    # Generate predictions\n",
    "    ridge_preds = ridge.predict(X_test_sc)\n",
    "    ridge_preds_train = ridge.predict(X_train_sc)\n",
    "\n",
    "    # Evaluate model.\n",
    "    print('r2 train: ', r2_score(y_train, ridge_preds_train))\n",
    "    print('r2 test: ', r2_score(np.exp(y_test), np.exp(ridge_preds)))\n",
    "    print('RMSE: ', round(mean_squared_error(np.exp(y_test), np.exp(ridge_preds))**0.5, 0))\n",
    "    \n",
    "    coefs = pd.DataFrame({'predictor': X.columns, 'ridge coef': abs(ridge.coef_)})\n",
    "    return ridge"
   ]
  },
  {
   "cell_type": "code",
   "execution_count": 20,
   "metadata": {},
   "outputs": [
    {
     "name": "stdout",
     "output_type": "stream",
     "text": [
      "optimal alpha:  10.0\n",
      "cv score:  0.8715\n",
      "r2 train:  0.9394803210032941\n",
      "r2 test:  0.9209425199115208\n",
      "RMSE:  22227.0\n"
     ]
    },
    {
     "data": {
      "text/plain": [
       "Ridge(alpha=10.0, copy_X=True, fit_intercept=True, max_iter=None,\n",
       "   normalize=False, random_state=None, solver='auto', tol=0.001)"
      ]
     },
     "execution_count": 20,
     "metadata": {},
     "output_type": "execute_result"
    }
   ],
   "source": [
    "ridge_reg_score(df.drop(columns='saleprice'))"
   ]
  },
  {
   "cell_type": "markdown",
   "metadata": {},
   "source": [
    "#### Ridge Prediction Submission"
   ]
  },
  {
   "cell_type": "code",
   "execution_count": 21,
   "metadata": {},
   "outputs": [],
   "source": [
    "matching_cols= [col for col in df.columns if col in holdout.columns]\n",
    "\n",
    "X = df[matching_cols]\n",
    "y = np.log(df.saleprice)\n",
    "ridge = RidgeCV(cv=5)\n",
    "ridge.fit(X, y)\n",
    "holdout_preds = np.exp(ridge.predict(holdout[matching_cols]))\n",
    "\n",
    "submission = pd.DataFrame({'Id': holdout['id'], 'SalePrice': holdout_preds})\n",
    "submission = submission.reset_index(drop=True)\n",
    "submission.to_csv('../submissions/ridge.csv', index=False)"
   ]
  },
  {
   "cell_type": "markdown",
   "metadata": {},
   "source": [
    "### Lasso Regression"
   ]
  },
  {
   "cell_type": "code",
   "execution_count": 22,
   "metadata": {},
   "outputs": [],
   "source": [
    "def lasso_reg_score(X, y = np.log(df['saleprice'])):\n",
    "    X_train, X_test, y_train, y_test = train_test_split(X, y, random_state=42)\n",
    "    \n",
    "    ss = StandardScaler()\n",
    "    ss.fit(X_train)\n",
    "    X_train_sc = ss.transform(X_train)\n",
    "    X_test_sc = ss.transform(X_test)\n",
    "    \n",
    "    lasso_model = LassoCV(cv=5)\n",
    "    lasso_model.fit(X_train_sc, y_train)\n",
    "    print('optimal alpha: ', lasso_model.alpha_)\n",
    "        \n",
    "    lasso = Lasso(alpha = lasso_model.alpha_)\n",
    "    lasso.fit(X_train_sc, y_train)\n",
    "    print('cv score: ', round(cross_val_score(lasso, X_train_sc, y_train, cv=5).mean(), 4))\n",
    "\n",
    "    # Generate predictions\n",
    "    lasso_preds = lasso.predict(X_test_sc)\n",
    "    lasso_preds_train = lasso.predict(X_train_sc)\n",
    "\n",
    "    # Evaluate model.\n",
    "    print('r2 train: ', r2_score(y_train, lasso_preds_train))\n",
    "    print('r2 test: ', r2_score(y_test, lasso_preds))\n",
    "    print('RMSE: ', round(mean_squared_error(np.exp(y_test), np.exp(lasso_preds))**0.5, 0))\n",
    "    \n",
    "    coefs = pd.DataFrame({'predictor': X.columns, 'lasso coef': abs(lasso.coef_)})\n",
    "    return lasso"
   ]
  },
  {
   "cell_type": "code",
   "execution_count": 23,
   "metadata": {},
   "outputs": [
    {
     "name": "stdout",
     "output_type": "stream",
     "text": [
      "optimal alpha:  0.0012662886799966583\n",
      "cv score:  0.8697\n",
      "r2 train:  0.9326467711029777\n",
      "r2 test:  0.8921929283050496\n",
      "RMSE:  21162.0\n"
     ]
    },
    {
     "data": {
      "text/plain": [
       "Lasso(alpha=0.0012662886799966583, copy_X=True, fit_intercept=True,\n",
       "   max_iter=1000, normalize=False, positive=False, precompute=False,\n",
       "   random_state=None, selection='cyclic', tol=0.0001, warm_start=False)"
      ]
     },
     "execution_count": 23,
     "metadata": {},
     "output_type": "execute_result"
    }
   ],
   "source": [
    "lasso_reg_score(df.drop(columns='saleprice'))"
   ]
  },
  {
   "cell_type": "markdown",
   "metadata": {},
   "source": [
    "#### Lasso Predictions Submission"
   ]
  },
  {
   "cell_type": "code",
   "execution_count": 24,
   "metadata": {},
   "outputs": [],
   "source": [
    "matching_cols= [col for col in df.columns if col in holdout.columns]\n",
    "\n",
    "X = df[matching_cols]\n",
    "y = np.log(df.saleprice)\n",
    "lasso = LassoCV(cv=5)\n",
    "lasso.fit(X, y)\n",
    "holdout_preds = np.exp(lasso.predict(holdout[matching_cols]))\n",
    "\n",
    "submission = pd.DataFrame({'Id': holdout['id'], 'SalePrice': holdout_preds})\n",
    "submission = submission.reset_index(drop=True)\n",
    "submission.to_csv('../submissions/lasso.csv', index=False)\n"
   ]
  },
  {
   "cell_type": "markdown",
   "metadata": {},
   "source": [
    "### Elastic Net Regression"
   ]
  },
  {
   "cell_type": "code",
   "execution_count": 33,
   "metadata": {},
   "outputs": [],
   "source": [
    "def enet_reg_score(X, y = np.log(df['saleprice'])):\n",
    "    X_train, X_test, y_train, y_test = train_test_split(X, y, random_state=42)\n",
    "    \n",
    "    ss = StandardScaler()\n",
    "    ss.fit(X_train)\n",
    "    X_train_sc = ss.transform(X_train)\n",
    "    X_test_sc = ss.transform(X_test)\n",
    "    \n",
    "    enet_model = ElasticNetCV(cv=5)\n",
    "    enet_model.fit(X_train_sc, y_train)\n",
    "    print('optimal alpha: ', enet_model.alpha_)\n",
    "        \n",
    "    enet = ElasticNet(alpha = enet_model.alpha_)\n",
    "    enet.fit(X_train_sc, y_train)\n",
    "    print('cv score: ', cross_val_score(enet, X_train_sc, y_train, cv=5))\n",
    "\n",
    "    # Generate predictions\n",
    "    enet_preds = enet.predict(X_test_sc)\n",
    "    enet_preds_train = enet.predict(X_train_sc)\n",
    "\n",
    "    # Evaluate model.\n",
    "    print('r2 train: ', r2_score(y_train, enet_preds_train))\n",
    "    print('r2 test: ', r2_score(y_test, enet_preds))\n",
    "    print('RMSE: ', round(mean_squared_error(np.exp(y_test), np.exp(enet_preds))**0.5, 0))\n",
    "    \n",
    "    coefs = pd.DataFrame({'predictor': X.columns, 'enet coef': abs(enet.coef_)})\n",
    "    return enet"
   ]
  },
  {
   "cell_type": "code",
   "execution_count": 34,
   "metadata": {},
   "outputs": [
    {
     "name": "stdout",
     "output_type": "stream",
     "text": [
      "optimal alpha:  0.0023618901221704367\n",
      "cv score:  [0.93057252 0.86569494 0.87749168 0.88364806 0.79025588]\n",
      "r2 train:  0.9325337914838794\n",
      "r2 test:  0.8921424615743792\n",
      "RMSE:  21153.0\n"
     ]
    },
    {
     "data": {
      "text/plain": [
       "ElasticNet(alpha=0.0023618901221704367, copy_X=True, fit_intercept=True,\n",
       "      l1_ratio=0.5, max_iter=1000, normalize=False, positive=False,\n",
       "      precompute=False, random_state=None, selection='cyclic', tol=0.0001,\n",
       "      warm_start=False)"
      ]
     },
     "execution_count": 34,
     "metadata": {},
     "output_type": "execute_result"
    }
   ],
   "source": [
    "enet_reg_score(df.drop(columns='saleprice'))"
   ]
  },
  {
   "cell_type": "markdown",
   "metadata": {},
   "source": [
    "#### ElasticNet Prediction Submission"
   ]
  },
  {
   "cell_type": "code",
   "execution_count": 27,
   "metadata": {},
   "outputs": [],
   "source": [
    "matching_cols= [col for col in df.columns if col in holdout.columns]\n",
    "\n",
    "X = df[matching_cols]\n",
    "y = np.log(df.saleprice)\n",
    "enet = ElasticNetCV(cv=5)\n",
    "enet.fit(X, y)\n",
    "holdout_preds = np.exp(enet.predict(holdout[matching_cols]))\n",
    "\n",
    "submission = pd.DataFrame({'Id': holdout['id'], 'SalePrice': holdout_preds})\n",
    "submission = submission.reset_index(drop=True)\n",
    "submission.to_csv('../submissions/enet.csv', index=False)"
   ]
  },
  {
   "cell_type": "code",
   "execution_count": null,
   "metadata": {},
   "outputs": [],
   "source": []
  },
  {
   "cell_type": "code",
   "execution_count": null,
   "metadata": {},
   "outputs": [],
   "source": []
  },
  {
   "cell_type": "code",
   "execution_count": null,
   "metadata": {},
   "outputs": [],
   "source": [
    "pipe = Pipeline([\n",
    "    ('poly', PolynomialFeatures()),\n",
    "    ('scaler', StandardScaler()),\n",
    "    ('lcv', LassoCV(0.00418)),\n",
    "])"
   ]
  }
 ],
 "metadata": {
  "kernelspec": {
   "display_name": "Python 3",
   "language": "python",
   "name": "python3"
  },
  "language_info": {
   "codemirror_mode": {
    "name": "ipython",
    "version": 3
   },
   "file_extension": ".py",
   "mimetype": "text/x-python",
   "name": "python",
   "nbconvert_exporter": "python",
   "pygments_lexer": "ipython3",
   "version": "3.6.8"
  }
 },
 "nbformat": 4,
 "nbformat_minor": 2
}
