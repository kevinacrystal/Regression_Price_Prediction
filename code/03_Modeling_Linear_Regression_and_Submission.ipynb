{
 "cells": [
  {
   "cell_type": "code",
   "execution_count": 1,
   "metadata": {},
   "outputs": [],
   "source": [
    "import pandas as pd\n",
    "import numpy as np\n",
    "import matplotlib.pyplot as plt\n",
    "import seaborn as sns\n",
    "%matplotlib inline\n",
    "pd.set_option('display.max_columns', 90)\n",
    "pd.set_option('display.max_rows', 90)\n",
    "\n",
    "from sklearn.linear_model import Ridge, Lasso, ElasticNet, LinearRegression, RidgeCV, LassoCV, ElasticNetCV\n",
    "from sklearn.model_selection import train_test_split, cross_val_score\n",
    "from sklearn.metrics import mean_squared_error, r2_score\n",
    "from sklearn.preprocessing import PolynomialFeatures, StandardScaler"
   ]
  },
  {
   "cell_type": "code",
   "execution_count": 2,
   "metadata": {},
   "outputs": [],
   "source": [
    "df = pd.read_csv('../datasets/df_engineered.csv', index_col=0)\n",
    "holdout = pd.read_csv('../datasets/holdout_engineered.csv', index_col=0)"
   ]
  },
  {
   "cell_type": "markdown",
   "metadata": {},
   "source": [
    "## Start Modeling with a simple Linear Regression\n",
    "#### Using only as Overall Quality as a feature, CV score is 0.63, RMSE is 45539"
   ]
  },
  {
   "cell_type": "code",
   "execution_count": 3,
   "metadata": {},
   "outputs": [
    {
     "name": "stdout",
     "output_type": "stream",
     "text": [
      "cv score 0.6211065229501409\n",
      "train score  0.6309827113557348\n",
      "test score  0.6681557808804754\n",
      "RMSE:  45539.0\n"
     ]
    }
   ],
   "source": [
    "X = df[['overall_qual']]\n",
    "y = df['saleprice']\n",
    "X_train, X_test, y_train, y_test = train_test_split(X, y, random_state=42)\n",
    "lr = LinearRegression()\n",
    "lr.fit(X_train, y_train)\n",
    "y_pred = lr.predict(X_test)\n",
    "print('cv score', cross_val_score(lr, X_train, y_train, cv=5).mean())\n",
    "print ('train score ', lr.score(X_train, y_train))\n",
    "print('test score ', lr.score(X_test, y_test))\n",
    "print('RMSE: ', round(mean_squared_error(y_test, y_pred)**0.5, 0))"
   ]
  },
  {
   "cell_type": "markdown",
   "metadata": {},
   "source": [
    "## Define a function to streamline this"
   ]
  },
  {
   "cell_type": "code",
   "execution_count": 4,
   "metadata": {},
   "outputs": [],
   "source": [
    "def linear_reg_score(features, y = df['saleprice']):\n",
    "    X = features\n",
    "    X_train, X_test, y_train, y_test = train_test_split(X, y, random_state=42)\n",
    "    lr = LinearRegression()\n",
    "    lr.fit(X_train, y_train)\n",
    "    y_pred = lr.predict(X_test)\n",
    "    print('cv score: ', round(cross_val_score(lr, X_train, y_train, cv=5).mean(), 4))\n",
    "    print('train score: ', round(lr.score(X_train, y_train), 4))\n",
    "    print('test score: ', round(lr.score(X_test, y_test), 4))\n",
    "    print('RMSE: ', round(mean_squared_error(y_test, y_pred)**0.5, 0))"
   ]
  },
  {
   "cell_type": "markdown",
   "metadata": {},
   "source": [
    "## Try out adding a bunch of highly-correlated features"
   ]
  },
  {
   "cell_type": "code",
   "execution_count": 5,
   "metadata": {},
   "outputs": [
    {
     "name": "stdout",
     "output_type": "stream",
     "text": [
      "cv score:  0.7081\n",
      "train score:  0.7158\n",
      "test score:  0.7631\n",
      "RMSE:  38473.0\n"
     ]
    }
   ],
   "source": [
    "linear_reg_score(df[['overall_qual', \n",
    "                    'gr_liv_area']])"
   ]
  },
  {
   "cell_type": "code",
   "execution_count": 6,
   "metadata": {},
   "outputs": [
    {
     "name": "stdout",
     "output_type": "stream",
     "text": [
      "cv score:  0.6649\n",
      "train score:  0.6795\n",
      "test score:  0.7626\n",
      "RMSE:  38518.0\n"
     ]
    }
   ],
   "source": [
    "linear_reg_score(df[['overall_qual_gr_area']])"
   ]
  },
  {
   "cell_type": "code",
   "execution_count": 7,
   "metadata": {},
   "outputs": [
    {
     "name": "stdout",
     "output_type": "stream",
     "text": [
      "cv score:  0.7394\n",
      "train score:  0.7467\n",
      "test score:  0.7857\n",
      "RMSE:  36599.0\n"
     ]
    }
   ],
   "source": [
    "linear_reg_score(df[['overall_qual', \n",
    "                    'gr_liv_area', \n",
    "                    'exter_qual']])"
   ]
  },
  {
   "cell_type": "code",
   "execution_count": 8,
   "metadata": {},
   "outputs": [
    {
     "name": "stdout",
     "output_type": "stream",
     "text": [
      "cv score:  0.7474\n",
      "train score:  0.7552\n",
      "test score:  0.8016\n",
      "RMSE:  35209.0\n"
     ]
    }
   ],
   "source": [
    "linear_reg_score(df[['overall_qual', \n",
    "                    'gr_liv_area', \n",
    "                    'exter_qual', \n",
    "                    'kitchen_qual']])"
   ]
  },
  {
   "cell_type": "code",
   "execution_count": 9,
   "metadata": {},
   "outputs": [
    {
     "name": "stdout",
     "output_type": "stream",
     "text": [
      "cv score:  0.7649\n",
      "train score:  0.7733\n",
      "test score:  0.8234\n",
      "RMSE:  33222.0\n"
     ]
    }
   ],
   "source": [
    "linear_reg_score(df[['overall_qual', \n",
    "                    'gr_liv_area', \n",
    "                    'exter_qual', \n",
    "                    'kitchen_qual',\n",
    "                    'garage_area'\n",
    "                   ]])"
   ]
  },
  {
   "cell_type": "code",
   "execution_count": 10,
   "metadata": {},
   "outputs": [
    {
     "name": "stdout",
     "output_type": "stream",
     "text": [
      "cv score:  0.7718\n",
      "train score:  0.7845\n",
      "test score:  0.8486\n",
      "RMSE:  30758.0\n"
     ]
    }
   ],
   "source": [
    "linear_reg_score(df[['overall_qual', \n",
    "                    'gr_liv_area', \n",
    "                    'exter_qual', \n",
    "                    'kitchen_qual',\n",
    "                    'garage_area',\n",
    "#                    'garage_cars', #increased RMSE\n",
    "                    'total_bsmt_sf'\n",
    "                   ]])"
   ]
  },
  {
   "cell_type": "code",
   "execution_count": 11,
   "metadata": {},
   "outputs": [
    {
     "name": "stdout",
     "output_type": "stream",
     "text": [
      "cv score:  0.7699\n",
      "train score:  0.7845\n",
      "test score:  0.849\n",
      "RMSE:  30721.0\n"
     ]
    }
   ],
   "source": [
    "# add in converted ordinal \n",
    "linear_reg_score(df[['overall_qual', \n",
    "                    'gr_liv_area', \n",
    "                    'exter_qual', \n",
    "                    'kitchen_qual',\n",
    "                    'garage_area',\n",
    "#                    'garage_cars', #increased RMSE\n",
    "                    'total_bsmt_sf',\n",
    "#                    'bsmt_qual', #increased RMSE\n",
    "                    'bsmt_cond'\n",
    "                   ]])"
   ]
  },
  {
   "cell_type": "code",
   "execution_count": 12,
   "metadata": {},
   "outputs": [
    {
     "name": "stdout",
     "output_type": "stream",
     "text": [
      "cv score:  0.7698\n",
      "train score:  0.7846\n",
      "test score:  0.8494\n",
      "RMSE:  30677.0\n"
     ]
    }
   ],
   "source": [
    "# add in converted ordinal \n",
    "linear_reg_score(df[['overall_qual', \n",
    "                    'gr_liv_area', \n",
    "                    'exter_qual', \n",
    "                    'kitchen_qual',\n",
    "                    'garage_area',\n",
    "#                    'garage_cars', #increased RMSE\n",
    "                    'total_bsmt_sf',\n",
    "#                    'bsmt_qual', #increased RMSE\n",
    "                    'bsmt_cond',\n",
    "                    'exter_cond'\n",
    "                   ]])"
   ]
  },
  {
   "cell_type": "code",
   "execution_count": 13,
   "metadata": {},
   "outputs": [
    {
     "name": "stdout",
     "output_type": "stream",
     "text": [
      "cv score:  0.7853\n",
      "train score:  0.7997\n",
      "test score:  0.8552\n",
      "RMSE:  30079.0\n"
     ]
    }
   ],
   "source": [
    "# add in converted ordinal \n",
    "linear_reg_score(df[['overall_qual', \n",
    "                    'gr_liv_area', \n",
    "                    'exter_qual', \n",
    "                    'kitchen_qual',\n",
    "                    'garage_area',\n",
    "#                    'garage_cars', #increased RMSE\n",
    "                    'total_bsmt_sf',\n",
    "                    'bsmt_qual', \n",
    "                    'bsmt_cond',\n",
    "                    'exter_cond',\n",
    "                    'fireplace_qu'\n",
    "                   ]])"
   ]
  },
  {
   "cell_type": "code",
   "execution_count": 14,
   "metadata": {},
   "outputs": [
    {
     "name": "stdout",
     "output_type": "stream",
     "text": [
      "cv score:  0.7826\n",
      "train score:  0.7997\n",
      "test score:  0.8554\n",
      "RMSE:  30066.0\n"
     ]
    }
   ],
   "source": [
    "# add in additional highly correlated values\n",
    "linear_reg_score(df[['overall_qual', \n",
    "                    'gr_liv_area', \n",
    "                    'exter_qual', \n",
    "                    'kitchen_qual',\n",
    "                    'garage_area',\n",
    "#                    'garage_cars', #increased RMSE\n",
    "                    'total_bsmt_sf',\n",
    "                    'bsmt_qual', \n",
    "                    'bsmt_cond',\n",
    "                    'exter_cond',\n",
    "                    'fireplace_qu',\n",
    "#                    'garage_qual', #increased RMSE\n",
    "#                    'garage_cond', #increased RMSE\n",
    "#                    'heating_qc', #increased RMSE\n",
    "#                    'pool_qc' #increased RMSE\n",
    "#                    'totrms_abvgrd'#increased RMSE\n",
    "#                    'year_built' #increased RMSE\n",
    "                    'full_bath'\n",
    "                   ]])"
   ]
  },
  {
   "cell_type": "code",
   "execution_count": 15,
   "metadata": {},
   "outputs": [
    {
     "name": "stdout",
     "output_type": "stream",
     "text": [
      "cv score:  0.7809\n",
      "train score:  0.8002\n",
      "test score:  0.8569\n",
      "RMSE:  29901.0\n"
     ]
    }
   ],
   "source": [
    "# add in additional highly correlated values\n",
    "linear_reg_score(df[['overall_qual', \n",
    "                    'gr_liv_area', \n",
    "                    'exter_qual', \n",
    "                    'kitchen_qual',\n",
    "                    'garage_area',\n",
    "#                    'garage_cars', #increased RMSE\n",
    "                    'total_bsmt_sf',\n",
    "                    'bsmt_qual', \n",
    "                    'bsmt_cond',\n",
    "                    'exter_cond',\n",
    "                    'fireplace_qu',\n",
    "#                    'garage_qual', #increased RMSE\n",
    "#                    'garage_cond', #increased RMSE\n",
    "#                    'heating_qc', #increased RMSE\n",
    "#                    'pool_qc' #increased RMSE\n",
    "#                    'totrms_abvgrd'#increased RMSE\n",
    "#                    'year_built' #increased RMSE\n",
    "                    'full_bath',\n",
    "                    'exter_cond',\n",
    "                    'lot_shape'\n",
    "                   ]])"
   ]
  },
  {
   "cell_type": "code",
   "execution_count": 16,
   "metadata": {},
   "outputs": [
    {
     "name": "stdout",
     "output_type": "stream",
     "text": [
      "cv score:  0.7765\n",
      "train score:  0.8023\n",
      "test score:  0.8658\n",
      "RMSE:  28963.0\n"
     ]
    }
   ],
   "source": [
    "# add in additional highly correlated values\n",
    "linear_reg_score(df[['overall_qual_gr_area', \n",
    "                    #'gr_liv_area', \n",
    "                    'exter_qual', \n",
    "                    'kitchen_qual',\n",
    "                    'garage_area',\n",
    "#                    'garage_cars', #increased RMSE\n",
    "                    'total_bsmt_sf',\n",
    "                    'bsmt_qual', \n",
    "                    'bsmt_cond',\n",
    "                    'exter_cond',\n",
    "                    'fireplace_qu',\n",
    "#                    'garage_qual', #increased RMSE\n",
    "#                    'garage_cond', #increased RMSE\n",
    "#                    'heating_qc', #increased RMSE\n",
    "#                    'pool_qc' #increased RMSE\n",
    "#                    'totrms_abvgrd'#increased RMSE\n",
    "#                    'year_built' #increased RMSE\n",
    "                    'full_bath',\n",
    "                    'lot_shape',\n",
    "                   ]])"
   ]
  },
  {
   "cell_type": "code",
   "execution_count": 17,
   "metadata": {},
   "outputs": [
    {
     "name": "stdout",
     "output_type": "stream",
     "text": [
      "cv score:  0.7765\n",
      "train score:  0.8031\n",
      "test score:  0.8676\n",
      "RMSE:  28767.0\n"
     ]
    }
   ],
   "source": [
    "# add in additional highly correlated values\n",
    "linear_reg_score(df[['overall_qual_gr_area', \n",
    "                    'gr_liv_area', \n",
    "                    'exter_qual', \n",
    "                    'kitchen_qual',\n",
    "                    'garage_area',\n",
    "                    'total_bsmt_sf',\n",
    "                    'bsmt_qual', \n",
    "                    'bsmt_cond',\n",
    "                    'exter_cond',\n",
    "                    'fireplace_qu',\n",
    "                    'full_bath',\n",
    "                    'exter_cond',\n",
    "                    'lot_shape',\n",
    "                    'utilities'\n",
    "                   ]])"
   ]
  },
  {
   "cell_type": "markdown",
   "metadata": {},
   "source": [
    "## Linear Regression Submission"
   ]
  },
  {
   "cell_type": "code",
   "execution_count": 18,
   "metadata": {},
   "outputs": [],
   "source": [
    "lr = LinearRegression()\n",
    "features = ['overall_qual_gr_area', \n",
    "                    'gr_liv_area', \n",
    "                    'exter_qual', \n",
    "                    'kitchen_qual',\n",
    "                    'garage_area',\n",
    "                    'total_bsmt_sf',\n",
    "                    'bsmt_qual', \n",
    "                    'bsmt_cond',\n",
    "                    'exter_cond',\n",
    "                    'fireplace_qu',\n",
    "                    'full_bath',\n",
    "                    'exter_cond',\n",
    "                    'lot_shape',\n",
    "                    'utilities']\n",
    "X = df[features]\n",
    "y = df.saleprice\n",
    "lr.fit(X, y)\n",
    "holdout_preds = lr.predict(holdout[features])\n",
    "\n",
    "submission = pd.DataFrame({'Id': holdout['id'], 'SalePrice': holdout_preds})\n",
    "submission = submission.reset_index(drop=True)\n",
    "submission.to_csv('../submissions/kaggle_sub_linear.csv', index=False)"
   ]
  },
  {
   "cell_type": "code",
   "execution_count": null,
   "metadata": {},
   "outputs": [],
   "source": []
  }
 ],
 "metadata": {
  "kernelspec": {
   "display_name": "Python 3",
   "language": "python",
   "name": "python3"
  },
  "language_info": {
   "codemirror_mode": {
    "name": "ipython",
    "version": 3
   },
   "file_extension": ".py",
   "mimetype": "text/x-python",
   "name": "python",
   "nbconvert_exporter": "python",
   "pygments_lexer": "ipython3",
   "version": "3.6.8"
  }
 },
 "nbformat": 4,
 "nbformat_minor": 2
}
