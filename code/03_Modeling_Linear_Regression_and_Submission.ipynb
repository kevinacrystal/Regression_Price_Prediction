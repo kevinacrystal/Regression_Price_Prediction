{
 "cells": [
  {
   "cell_type": "code",
   "execution_count": 1,
   "metadata": {},
   "outputs": [],
   "source": [
    "import pandas as pd\n",
    "import numpy as np\n",
    "import matplotlib.pyplot as plt\n",
    "import seaborn as sns\n",
    "%matplotlib inline\n",
    "pd.set_option('display.max_columns', 90)\n",
    "pd.set_option('display.max_rows', 90)\n",
    "\n",
    "from sklearn.linear_model import Ridge, Lasso, ElasticNet, LinearRegression, RidgeCV, LassoCV, ElasticNetCV\n",
    "from sklearn.model_selection import train_test_split, cross_val_score\n",
    "from sklearn.metrics import mean_squared_error, r2_score\n",
    "from sklearn.preprocessing import PolynomialFeatures, StandardScaler"
   ]
  },
  {
   "cell_type": "code",
   "execution_count": 2,
   "metadata": {},
   "outputs": [],
   "source": [
    "df = pd.read_csv('../datasets/df_engineered.csv', index_col=0)\n",
    "holdout = pd.read_csv('../datasets/holdout_engineered.csv', index_col=0)"
   ]
  },
  {
   "cell_type": "markdown",
   "metadata": {},
   "source": [
    "## Start Modeling with a simple Linear Regression\n",
    "#### Using only as Overall Quality as a feature, CV score is 0.63, RMSE is 45539"
   ]
  },
  {
   "cell_type": "code",
   "execution_count": 3,
   "metadata": {},
   "outputs": [
    {
     "name": "stdout",
     "output_type": "stream",
     "text": [
      "cv score 0.6276121552873748\n",
      "train score  0.6311306764237692\n",
      "test score  0.6638051214676336\n",
      "RMSE:  46702.0\n"
     ]
    }
   ],
   "source": [
    "X = df[['overall_qual']]\n",
    "y = df['saleprice']\n",
    "X_train, X_test, y_train, y_test = train_test_split(X, y, random_state=42)\n",
    "lr = LinearRegression()\n",
    "lr.fit(X_train, y_train)\n",
    "y_pred = lr.predict(X_test)\n",
    "print('cv score', cross_val_score(lr, X_train, y_train, cv=5).mean())\n",
    "print ('train score ', lr.score(X_train, y_train))\n",
    "print('test score ', lr.score(X_test, y_test))\n",
    "print('RMSE: ', round(mean_squared_error(y_test, y_pred)**0.5, 0))"
   ]
  },
  {
   "cell_type": "markdown",
   "metadata": {},
   "source": [
    "## Define a function to streamline this"
   ]
  },
  {
   "cell_type": "code",
   "execution_count": 4,
   "metadata": {},
   "outputs": [],
   "source": [
    "def linear_reg_score(features, y = df['saleprice']):\n",
    "    X = features\n",
    "    X_train, X_test, y_train, y_test = train_test_split(X, y, random_state=42)\n",
    "    lr = LinearRegression()\n",
    "    lr.fit(X_train, y_train)\n",
    "    y_pred = lr.predict(X_test)\n",
    "    print('cv score: ', round(cross_val_score(lr, X_train, y_train, cv=5).mean(), 4))\n",
    "    print('train score: ', round(lr.score(X_train, y_train), 4))\n",
    "    print('test score: ', round(lr.score(X_test, y_test), 4))\n",
    "    print('RMSE: ', round(mean_squared_error(y_test, y_pred)**0.5, 0))"
   ]
  },
  {
   "cell_type": "markdown",
   "metadata": {},
   "source": [
    "## Try out adding a bunch of highly-correlated features"
   ]
  },
  {
   "cell_type": "code",
   "execution_count": 5,
   "metadata": {},
   "outputs": [
    {
     "name": "stdout",
     "output_type": "stream",
     "text": [
      "cv score:  0.7032\n",
      "train score:  0.7143\n",
      "test score:  0.7587\n",
      "RMSE:  39566.0\n"
     ]
    }
   ],
   "source": [
    "linear_reg_score(df[['overall_qual', \n",
    "                    'gr_liv_area']])"
   ]
  },
  {
   "cell_type": "code",
   "execution_count": 6,
   "metadata": {},
   "outputs": [
    {
     "name": "stdout",
     "output_type": "stream",
     "text": [
      "cv score:  0.65\n",
      "train score:  0.6739\n",
      "test score:  0.7699\n",
      "RMSE:  38641.0\n"
     ]
    }
   ],
   "source": [
    "linear_reg_score(df[['overall_qual_gr_area']])"
   ]
  },
  {
   "cell_type": "code",
   "execution_count": 7,
   "metadata": {},
   "outputs": [
    {
     "name": "stdout",
     "output_type": "stream",
     "text": [
      "cv score:  0.7291\n",
      "train score:  0.7416\n",
      "test score:  0.7946\n",
      "RMSE:  36508.0\n"
     ]
    }
   ],
   "source": [
    "linear_reg_score(df[['overall_qual', \n",
    "                    'gr_liv_area', \n",
    "                    'exter_qual']])"
   ]
  },
  {
   "cell_type": "code",
   "execution_count": 8,
   "metadata": {},
   "outputs": [
    {
     "name": "stdout",
     "output_type": "stream",
     "text": [
      "cv score:  0.7392\n",
      "train score:  0.7519\n",
      "test score:  0.8045\n",
      "RMSE:  35616.0\n"
     ]
    }
   ],
   "source": [
    "linear_reg_score(df[['overall_qual', \n",
    "                    'gr_liv_area', \n",
    "                    'exter_qual', \n",
    "                    'kitchen_qual']])"
   ]
  },
  {
   "cell_type": "code",
   "execution_count": 9,
   "metadata": {},
   "outputs": [
    {
     "name": "stdout",
     "output_type": "stream",
     "text": [
      "cv score:  0.7565\n",
      "train score:  0.7699\n",
      "test score:  0.8255\n",
      "RMSE:  33650.0\n"
     ]
    }
   ],
   "source": [
    "linear_reg_score(df[['overall_qual', \n",
    "                    'gr_liv_area', \n",
    "                    'exter_qual', \n",
    "                    'kitchen_qual',\n",
    "                    'garage_area'\n",
    "                   ]])"
   ]
  },
  {
   "cell_type": "code",
   "execution_count": 10,
   "metadata": {},
   "outputs": [
    {
     "name": "stdout",
     "output_type": "stream",
     "text": [
      "cv score:  0.761\n",
      "train score:  0.7833\n",
      "test score:  0.8449\n",
      "RMSE:  31723.0\n"
     ]
    }
   ],
   "source": [
    "linear_reg_score(df[['overall_qual', \n",
    "                    'gr_liv_area', \n",
    "                    'exter_qual', \n",
    "                    'kitchen_qual',\n",
    "                    'garage_area',\n",
    "#                    'garage_cars', #increased RMSE\n",
    "                    'total_bsmt_sf'\n",
    "                   ]])"
   ]
  },
  {
   "cell_type": "code",
   "execution_count": 11,
   "metadata": {},
   "outputs": [
    {
     "name": "stdout",
     "output_type": "stream",
     "text": [
      "cv score:  0.7604\n",
      "train score:  0.7834\n",
      "test score:  0.8452\n",
      "RMSE:  31689.0\n"
     ]
    }
   ],
   "source": [
    "# add in converted ordinal \n",
    "linear_reg_score(df[['overall_qual', \n",
    "                    'gr_liv_area', \n",
    "                    'exter_qual', \n",
    "                    'kitchen_qual',\n",
    "                    'garage_area',\n",
    "#                    'garage_cars', #increased RMSE\n",
    "                    'total_bsmt_sf',\n",
    "#                    'bsmt_qual', #increased RMSE\n",
    "                    'bsmt_cond'\n",
    "                   ]])"
   ]
  },
  {
   "cell_type": "code",
   "execution_count": 12,
   "metadata": {},
   "outputs": [
    {
     "name": "stdout",
     "output_type": "stream",
     "text": [
      "cv score:  0.7605\n",
      "train score:  0.7838\n",
      "test score:  0.8447\n",
      "RMSE:  31737.0\n"
     ]
    }
   ],
   "source": [
    "# add in converted ordinal \n",
    "linear_reg_score(df[['overall_qual', \n",
    "                    'gr_liv_area', \n",
    "                    'exter_qual', \n",
    "                    'kitchen_qual',\n",
    "                    'garage_area',\n",
    "#                    'garage_cars', #increased RMSE\n",
    "                    'total_bsmt_sf',\n",
    "#                    'bsmt_qual', #increased RMSE\n",
    "                    'bsmt_cond',\n",
    "                    'exter_cond'\n",
    "                   ]])"
   ]
  },
  {
   "cell_type": "code",
   "execution_count": 13,
   "metadata": {},
   "outputs": [
    {
     "name": "stdout",
     "output_type": "stream",
     "text": [
      "cv score:  0.7782\n",
      "train score:  0.7996\n",
      "test score:  0.8491\n",
      "RMSE:  31292.0\n"
     ]
    }
   ],
   "source": [
    "# add in converted ordinal \n",
    "linear_reg_score(df[['overall_qual', \n",
    "                    'gr_liv_area', \n",
    "                    'exter_qual', \n",
    "                    'kitchen_qual',\n",
    "                    'garage_area',\n",
    "#                    'garage_cars', #increased RMSE\n",
    "                    'total_bsmt_sf',\n",
    "                    'bsmt_qual', \n",
    "                    'bsmt_cond',\n",
    "                    'exter_cond',\n",
    "                    'fireplace_qu'\n",
    "                   ]])"
   ]
  },
  {
   "cell_type": "code",
   "execution_count": 14,
   "metadata": {},
   "outputs": [
    {
     "name": "stdout",
     "output_type": "stream",
     "text": [
      "cv score:  0.777\n",
      "train score:  0.7997\n",
      "test score:  0.8482\n",
      "RMSE:  31380.0\n"
     ]
    }
   ],
   "source": [
    "# add in additional highly correlated values\n",
    "linear_reg_score(df[['overall_qual', \n",
    "                    'gr_liv_area', \n",
    "                    'exter_qual', \n",
    "                    'kitchen_qual',\n",
    "                    'garage_area',\n",
    "#                    'garage_cars', #increased RMSE\n",
    "                    'total_bsmt_sf',\n",
    "                    'bsmt_qual', \n",
    "                    'bsmt_cond',\n",
    "                    'exter_cond',\n",
    "                    'fireplace_qu',\n",
    "#                    'garage_qual', #increased RMSE\n",
    "#                    'garage_cond', #increased RMSE\n",
    "#                    'heating_qc', #increased RMSE\n",
    "#                    'pool_qc' #increased RMSE\n",
    "#                    'totrms_abvgrd'#increased RMSE\n",
    "#                    'year_built' #increased RMSE\n",
    "                    'full_bath'\n",
    "                   ]])"
   ]
  },
  {
   "cell_type": "code",
   "execution_count": 15,
   "metadata": {},
   "outputs": [
    {
     "name": "stdout",
     "output_type": "stream",
     "text": [
      "cv score:  0.7771\n",
      "train score:  0.8004\n",
      "test score:  0.8494\n",
      "RMSE:  31261.0\n"
     ]
    }
   ],
   "source": [
    "# add in additional highly correlated values\n",
    "linear_reg_score(df[['overall_qual', \n",
    "                    'gr_liv_area', \n",
    "                    'exter_qual', \n",
    "                    'kitchen_qual',\n",
    "                    'garage_area',\n",
    "#                    'garage_cars', #increased RMSE\n",
    "                    'total_bsmt_sf',\n",
    "                    'bsmt_qual', \n",
    "                    'bsmt_cond',\n",
    "                    'exter_cond',\n",
    "                    'fireplace_qu',\n",
    "#                    'garage_qual', #increased RMSE\n",
    "#                    'garage_cond', #increased RMSE\n",
    "#                    'heating_qc', #increased RMSE\n",
    "#                    'pool_qc' #increased RMSE\n",
    "#                    'totrms_abvgrd'#increased RMSE\n",
    "#                    'year_built' #increased RMSE\n",
    "                    'full_bath',\n",
    "                    'exter_cond',\n",
    "                    'lot_shape'\n",
    "                   ]])"
   ]
  },
  {
   "cell_type": "code",
   "execution_count": 16,
   "metadata": {},
   "outputs": [
    {
     "name": "stdout",
     "output_type": "stream",
     "text": [
      "cv score:  0.7721\n",
      "train score:  0.8007\n",
      "test score:  0.8628\n",
      "RMSE:  29839.0\n"
     ]
    }
   ],
   "source": [
    "# add in additional highly correlated values\n",
    "linear_reg_score(df[['overall_qual_gr_area', \n",
    "                    #'gr_liv_area', \n",
    "                    'exter_qual', \n",
    "                    'kitchen_qual',\n",
    "                    'garage_area',\n",
    "#                    'garage_cars', #increased RMSE\n",
    "                    'total_bsmt_sf',\n",
    "                    'bsmt_qual', \n",
    "                    'bsmt_cond',\n",
    "                    'exter_cond',\n",
    "                    'fireplace_qu',\n",
    "#                    'garage_qual', #increased RMSE\n",
    "#                    'garage_cond', #increased RMSE\n",
    "#                    'heating_qc', #increased RMSE\n",
    "#                    'pool_qc' #increased RMSE\n",
    "#                    'totrms_abvgrd'#increased RMSE\n",
    "#                    'year_built' #increased RMSE\n",
    "                    'full_bath',\n",
    "                    'lot_shape',\n",
    "                   ]])"
   ]
  },
  {
   "cell_type": "code",
   "execution_count": 17,
   "metadata": {},
   "outputs": [
    {
     "name": "stdout",
     "output_type": "stream",
     "text": [
      "cv score:  0.7726\n",
      "train score:  0.8013\n",
      "test score:  0.8652\n",
      "RMSE:  29575.0\n"
     ]
    }
   ],
   "source": [
    "# add in additional highly correlated values\n",
    "linear_reg_score(df[['overall_qual_gr_area', \n",
    "                    'gr_liv_area', \n",
    "                    'exter_qual', \n",
    "                    'kitchen_qual',\n",
    "                    'garage_area',\n",
    "                    'total_bsmt_sf',\n",
    "                    'bsmt_qual', \n",
    "                    'bsmt_cond',\n",
    "                    'exter_cond',\n",
    "                    'fireplace_qu',\n",
    "                    'full_bath',\n",
    "                    'exter_cond',\n",
    "                    'lot_shape',\n",
    "                    'utilities'\n",
    "                   ]])"
   ]
  },
  {
   "cell_type": "markdown",
   "metadata": {},
   "source": [
    "## Linear Regression Submission"
   ]
  },
  {
   "cell_type": "code",
   "execution_count": 18,
   "metadata": {},
   "outputs": [],
   "source": [
    "lr = LinearRegression()\n",
    "features = ['overall_qual_gr_area', \n",
    "                    'gr_liv_area', \n",
    "                    'exter_qual', \n",
    "                    'kitchen_qual',\n",
    "                    'garage_area',\n",
    "                    'total_bsmt_sf',\n",
    "                    'bsmt_qual', \n",
    "                    'bsmt_cond',\n",
    "                    'exter_cond',\n",
    "                    'fireplace_qu',\n",
    "                    'full_bath',\n",
    "                    'exter_cond',\n",
    "                    'lot_shape',\n",
    "                    'utilities']\n",
    "X = df[features]\n",
    "y = df.saleprice\n",
    "lr.fit(X, y)\n",
    "holdout_preds = lr.predict(holdout[features])\n",
    "\n",
    "submission = pd.DataFrame({'Id': holdout['id'], 'SalePrice': holdout_preds})\n",
    "submission = submission.reset_index(drop=True)\n",
    "submission.to_csv('kaggle_sub_linear.csv', index=False)"
   ]
  }
 ],
 "metadata": {
  "kernelspec": {
   "display_name": "Python 3",
   "language": "python",
   "name": "python3"
  },
  "language_info": {
   "codemirror_mode": {
    "name": "ipython",
    "version": 3
   },
   "file_extension": ".py",
   "mimetype": "text/x-python",
   "name": "python",
   "nbconvert_exporter": "python",
   "pygments_lexer": "ipython3",
   "version": "3.6.8"
  }
 },
 "nbformat": 4,
 "nbformat_minor": 2
}
