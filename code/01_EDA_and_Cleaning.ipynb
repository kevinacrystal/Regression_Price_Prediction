{
 "cells": [
  {
   "cell_type": "markdown",
   "metadata": {},
   "source": [
    "### Import Starter Libraries"
   ]
  },
  {
   "cell_type": "code",
   "execution_count": 1,
   "metadata": {},
   "outputs": [],
   "source": [
    "import pandas as pd\n",
    "import numpy as np\n",
    "import matplotlib.pyplot as plt\n",
    "import seaborn as sns\n",
    "%matplotlib inline"
   ]
  },
  {
   "cell_type": "markdown",
   "metadata": {},
   "source": [
    "### Load Data"
   ]
  },
  {
   "cell_type": "code",
   "execution_count": 2,
   "metadata": {},
   "outputs": [],
   "source": [
    "# import the training set and assign it to 'df'\n",
    "df = pd.read_csv('../datasets/train.csv')\n",
    "# import the holdout set and assign it to 'holdout'\n",
    "holdout = pd.read_csv('../datasets/test.csv')"
   ]
  },
  {
   "cell_type": "markdown",
   "metadata": {},
   "source": [
    "### EDA and Cleaning"
   ]
  },
  {
   "cell_type": "code",
   "execution_count": 3,
   "metadata": {},
   "outputs": [
    {
     "data": {
      "text/plain": [
       "(2051, 81)"
      ]
     },
     "execution_count": 3,
     "metadata": {},
     "output_type": "execute_result"
    }
   ],
   "source": [
    "# display the shape of the training data\n",
    "df.shape"
   ]
  },
  {
   "cell_type": "markdown",
   "metadata": {},
   "source": [
    "The training dataset contains 2,051 rows (each represents a house sold) and 81 columns (each represents a feature, or characteristic of the house)."
   ]
  },
  {
   "cell_type": "code",
   "execution_count": 4,
   "metadata": {},
   "outputs": [
    {
     "data": {
      "text/plain": [
       "(879, 80)"
      ]
     },
     "execution_count": 4,
     "metadata": {},
     "output_type": "execute_result"
    }
   ],
   "source": [
    "# # display the shape of the holdout data\n",
    "holdout.shape"
   ]
  },
  {
   "cell_type": "markdown",
   "metadata": {},
   "source": [
    "The holdout dataset contains 879 rows and 80 columns. The target column, sales price, has been removed from the holdout dataset.\n",
    "\n",
    "Together, the testing and holdout sets describe 2,930 houses; these have been split so that 70 percent are in the training set and 30 percent are in the holdout set."
   ]
  },
  {
   "cell_type": "code",
   "execution_count": 5,
   "metadata": {},
   "outputs": [
    {
     "data": {
      "text/html": [
       "<div>\n",
       "<style scoped>\n",
       "    .dataframe tbody tr th:only-of-type {\n",
       "        vertical-align: middle;\n",
       "    }\n",
       "\n",
       "    .dataframe tbody tr th {\n",
       "        vertical-align: top;\n",
       "    }\n",
       "\n",
       "    .dataframe thead th {\n",
       "        text-align: right;\n",
       "    }\n",
       "</style>\n",
       "<table border=\"1\" class=\"dataframe\">\n",
       "  <thead>\n",
       "    <tr style=\"text-align: right;\">\n",
       "      <th></th>\n",
       "      <th>Id</th>\n",
       "      <th>PID</th>\n",
       "      <th>MS SubClass</th>\n",
       "      <th>MS Zoning</th>\n",
       "      <th>Lot Frontage</th>\n",
       "      <th>Lot Area</th>\n",
       "      <th>Street</th>\n",
       "      <th>Alley</th>\n",
       "      <th>Lot Shape</th>\n",
       "      <th>Land Contour</th>\n",
       "      <th>...</th>\n",
       "      <th>Screen Porch</th>\n",
       "      <th>Pool Area</th>\n",
       "      <th>Pool QC</th>\n",
       "      <th>Fence</th>\n",
       "      <th>Misc Feature</th>\n",
       "      <th>Misc Val</th>\n",
       "      <th>Mo Sold</th>\n",
       "      <th>Yr Sold</th>\n",
       "      <th>Sale Type</th>\n",
       "      <th>SalePrice</th>\n",
       "    </tr>\n",
       "  </thead>\n",
       "  <tbody>\n",
       "    <tr>\n",
       "      <th>0</th>\n",
       "      <td>109</td>\n",
       "      <td>533352170</td>\n",
       "      <td>60</td>\n",
       "      <td>RL</td>\n",
       "      <td>NaN</td>\n",
       "      <td>13517</td>\n",
       "      <td>Pave</td>\n",
       "      <td>NaN</td>\n",
       "      <td>IR1</td>\n",
       "      <td>Lvl</td>\n",
       "      <td>...</td>\n",
       "      <td>0</td>\n",
       "      <td>0</td>\n",
       "      <td>NaN</td>\n",
       "      <td>NaN</td>\n",
       "      <td>NaN</td>\n",
       "      <td>0</td>\n",
       "      <td>3</td>\n",
       "      <td>2010</td>\n",
       "      <td>WD</td>\n",
       "      <td>130500</td>\n",
       "    </tr>\n",
       "    <tr>\n",
       "      <th>1</th>\n",
       "      <td>544</td>\n",
       "      <td>531379050</td>\n",
       "      <td>60</td>\n",
       "      <td>RL</td>\n",
       "      <td>43.0</td>\n",
       "      <td>11492</td>\n",
       "      <td>Pave</td>\n",
       "      <td>NaN</td>\n",
       "      <td>IR1</td>\n",
       "      <td>Lvl</td>\n",
       "      <td>...</td>\n",
       "      <td>0</td>\n",
       "      <td>0</td>\n",
       "      <td>NaN</td>\n",
       "      <td>NaN</td>\n",
       "      <td>NaN</td>\n",
       "      <td>0</td>\n",
       "      <td>4</td>\n",
       "      <td>2009</td>\n",
       "      <td>WD</td>\n",
       "      <td>220000</td>\n",
       "    </tr>\n",
       "    <tr>\n",
       "      <th>2</th>\n",
       "      <td>153</td>\n",
       "      <td>535304180</td>\n",
       "      <td>20</td>\n",
       "      <td>RL</td>\n",
       "      <td>68.0</td>\n",
       "      <td>7922</td>\n",
       "      <td>Pave</td>\n",
       "      <td>NaN</td>\n",
       "      <td>Reg</td>\n",
       "      <td>Lvl</td>\n",
       "      <td>...</td>\n",
       "      <td>0</td>\n",
       "      <td>0</td>\n",
       "      <td>NaN</td>\n",
       "      <td>NaN</td>\n",
       "      <td>NaN</td>\n",
       "      <td>0</td>\n",
       "      <td>1</td>\n",
       "      <td>2010</td>\n",
       "      <td>WD</td>\n",
       "      <td>109000</td>\n",
       "    </tr>\n",
       "    <tr>\n",
       "      <th>3</th>\n",
       "      <td>318</td>\n",
       "      <td>916386060</td>\n",
       "      <td>60</td>\n",
       "      <td>RL</td>\n",
       "      <td>73.0</td>\n",
       "      <td>9802</td>\n",
       "      <td>Pave</td>\n",
       "      <td>NaN</td>\n",
       "      <td>Reg</td>\n",
       "      <td>Lvl</td>\n",
       "      <td>...</td>\n",
       "      <td>0</td>\n",
       "      <td>0</td>\n",
       "      <td>NaN</td>\n",
       "      <td>NaN</td>\n",
       "      <td>NaN</td>\n",
       "      <td>0</td>\n",
       "      <td>4</td>\n",
       "      <td>2010</td>\n",
       "      <td>WD</td>\n",
       "      <td>174000</td>\n",
       "    </tr>\n",
       "    <tr>\n",
       "      <th>4</th>\n",
       "      <td>255</td>\n",
       "      <td>906425045</td>\n",
       "      <td>50</td>\n",
       "      <td>RL</td>\n",
       "      <td>82.0</td>\n",
       "      <td>14235</td>\n",
       "      <td>Pave</td>\n",
       "      <td>NaN</td>\n",
       "      <td>IR1</td>\n",
       "      <td>Lvl</td>\n",
       "      <td>...</td>\n",
       "      <td>0</td>\n",
       "      <td>0</td>\n",
       "      <td>NaN</td>\n",
       "      <td>NaN</td>\n",
       "      <td>NaN</td>\n",
       "      <td>0</td>\n",
       "      <td>3</td>\n",
       "      <td>2010</td>\n",
       "      <td>WD</td>\n",
       "      <td>138500</td>\n",
       "    </tr>\n",
       "  </tbody>\n",
       "</table>\n",
       "<p>5 rows × 81 columns</p>\n",
       "</div>"
      ],
      "text/plain": [
       "    Id        PID  MS SubClass MS Zoning  Lot Frontage  Lot Area Street Alley  \\\n",
       "0  109  533352170           60        RL           NaN     13517   Pave   NaN   \n",
       "1  544  531379050           60        RL          43.0     11492   Pave   NaN   \n",
       "2  153  535304180           20        RL          68.0      7922   Pave   NaN   \n",
       "3  318  916386060           60        RL          73.0      9802   Pave   NaN   \n",
       "4  255  906425045           50        RL          82.0     14235   Pave   NaN   \n",
       "\n",
       "  Lot Shape Land Contour  ... Screen Porch Pool Area Pool QC Fence  \\\n",
       "0       IR1          Lvl  ...            0         0     NaN   NaN   \n",
       "1       IR1          Lvl  ...            0         0     NaN   NaN   \n",
       "2       Reg          Lvl  ...            0         0     NaN   NaN   \n",
       "3       Reg          Lvl  ...            0         0     NaN   NaN   \n",
       "4       IR1          Lvl  ...            0         0     NaN   NaN   \n",
       "\n",
       "  Misc Feature Misc Val Mo Sold Yr Sold  Sale Type  SalePrice  \n",
       "0          NaN        0       3    2010        WD      130500  \n",
       "1          NaN        0       4    2009        WD      220000  \n",
       "2          NaN        0       1    2010        WD      109000  \n",
       "3          NaN        0       4    2010        WD      174000  \n",
       "4          NaN        0       3    2010        WD      138500  \n",
       "\n",
       "[5 rows x 81 columns]"
      ]
     },
     "execution_count": 5,
     "metadata": {},
     "output_type": "execute_result"
    }
   ],
   "source": [
    "# display the first 5 rows of the training data using df.head()\n",
    "df.head()"
   ]
  },
  {
   "cell_type": "markdown",
   "metadata": {},
   "source": [
    "Each house is described in great detail. It will take some investigation to determine the extent to which each feature can be used in developing a predictive model."
   ]
  },
  {
   "cell_type": "markdown",
   "metadata": {},
   "source": [
    "#### Rename Columns\n",
    "\n",
    "Before I work with columns, I like to rename them to eliminate capital letters and replace spaces with underscores. For me, this makes it easier to work with the data."
   ]
  },
  {
   "cell_type": "code",
   "execution_count": 6,
   "metadata": {},
   "outputs": [],
   "source": [
    "# replace spaces in column names with underscores\n",
    "# and convert all to lowercase\n",
    "df.columns = [x.replace(\" \", \"_\").lower() for x in df.columns]\n",
    "holdout.columns = [x.replace(\" \", \"_\").lower() for x in holdout.columns]"
   ]
  },
  {
   "cell_type": "markdown",
   "metadata": {},
   "source": [
    "#### Check Missingness and Datatypes"
   ]
  },
  {
   "cell_type": "code",
   "execution_count": 7,
   "metadata": {},
   "outputs": [
    {
     "name": "stdout",
     "output_type": "stream",
     "text": [
      "<class 'pandas.core.frame.DataFrame'>\n",
      "RangeIndex: 2051 entries, 0 to 2050\n",
      "Data columns (total 81 columns):\n",
      "id                 2051 non-null int64\n",
      "pid                2051 non-null int64\n",
      "ms_subclass        2051 non-null int64\n",
      "ms_zoning          2051 non-null object\n",
      "lot_frontage       1721 non-null float64\n",
      "lot_area           2051 non-null int64\n",
      "street             2051 non-null object\n",
      "alley              140 non-null object\n",
      "lot_shape          2051 non-null object\n",
      "land_contour       2051 non-null object\n",
      "utilities          2051 non-null object\n",
      "lot_config         2051 non-null object\n",
      "land_slope         2051 non-null object\n",
      "neighborhood       2051 non-null object\n",
      "condition_1        2051 non-null object\n",
      "condition_2        2051 non-null object\n",
      "bldg_type          2051 non-null object\n",
      "house_style        2051 non-null object\n",
      "overall_qual       2051 non-null int64\n",
      "overall_cond       2051 non-null int64\n",
      "year_built         2051 non-null int64\n",
      "year_remod/add     2051 non-null int64\n",
      "roof_style         2051 non-null object\n",
      "roof_matl          2051 non-null object\n",
      "exterior_1st       2051 non-null object\n",
      "exterior_2nd       2051 non-null object\n",
      "mas_vnr_type       2029 non-null object\n",
      "mas_vnr_area       2029 non-null float64\n",
      "exter_qual         2051 non-null object\n",
      "exter_cond         2051 non-null object\n",
      "foundation         2051 non-null object\n",
      "bsmt_qual          1996 non-null object\n",
      "bsmt_cond          1996 non-null object\n",
      "bsmt_exposure      1993 non-null object\n",
      "bsmtfin_type_1     1996 non-null object\n",
      "bsmtfin_sf_1       2050 non-null float64\n",
      "bsmtfin_type_2     1995 non-null object\n",
      "bsmtfin_sf_2       2050 non-null float64\n",
      "bsmt_unf_sf        2050 non-null float64\n",
      "total_bsmt_sf      2050 non-null float64\n",
      "heating            2051 non-null object\n",
      "heating_qc         2051 non-null object\n",
      "central_air        2051 non-null object\n",
      "electrical         2051 non-null object\n",
      "1st_flr_sf         2051 non-null int64\n",
      "2nd_flr_sf         2051 non-null int64\n",
      "low_qual_fin_sf    2051 non-null int64\n",
      "gr_liv_area        2051 non-null int64\n",
      "bsmt_full_bath     2049 non-null float64\n",
      "bsmt_half_bath     2049 non-null float64\n",
      "full_bath          2051 non-null int64\n",
      "half_bath          2051 non-null int64\n",
      "bedroom_abvgr      2051 non-null int64\n",
      "kitchen_abvgr      2051 non-null int64\n",
      "kitchen_qual       2051 non-null object\n",
      "totrms_abvgrd      2051 non-null int64\n",
      "functional         2051 non-null object\n",
      "fireplaces         2051 non-null int64\n",
      "fireplace_qu       1051 non-null object\n",
      "garage_type        1938 non-null object\n",
      "garage_yr_blt      1937 non-null float64\n",
      "garage_finish      1937 non-null object\n",
      "garage_cars        2050 non-null float64\n",
      "garage_area        2050 non-null float64\n",
      "garage_qual        1937 non-null object\n",
      "garage_cond        1937 non-null object\n",
      "paved_drive        2051 non-null object\n",
      "wood_deck_sf       2051 non-null int64\n",
      "open_porch_sf      2051 non-null int64\n",
      "enclosed_porch     2051 non-null int64\n",
      "3ssn_porch         2051 non-null int64\n",
      "screen_porch       2051 non-null int64\n",
      "pool_area          2051 non-null int64\n",
      "pool_qc            9 non-null object\n",
      "fence              400 non-null object\n",
      "misc_feature       65 non-null object\n",
      "misc_val           2051 non-null int64\n",
      "mo_sold            2051 non-null int64\n",
      "yr_sold            2051 non-null int64\n",
      "sale_type          2051 non-null object\n",
      "saleprice          2051 non-null int64\n",
      "dtypes: float64(11), int64(28), object(42)\n",
      "memory usage: 1.3+ MB\n"
     ]
    }
   ],
   "source": [
    "# investigate general information about the dataset using df.info()\n",
    "# this includes inormation on the number of nulls in each column\n",
    "# and the datatype of each column.\n",
    "df.info()"
   ]
  },
  {
   "cell_type": "code",
   "execution_count": 8,
   "metadata": {},
   "outputs": [
    {
     "name": "stdout",
     "output_type": "stream",
     "text": [
      "total null values\n",
      "---------\n",
      "training set:  9822\n",
      "holdout set:  4175\n"
     ]
    }
   ],
   "source": [
    "# check the total number of null values in the dataset\n",
    "print('total null values\\n---------\\ntraining set: ', df.isnull().sum().sum())\n",
    "print('holdout set: ', holdout.isnull().sum().sum())"
   ]
  },
  {
   "cell_type": "markdown",
   "metadata": {},
   "source": [
    "#### Two key takeaways from this:\n",
    "\n",
    "1. There are many null values, which will throw errors during modeling if they're not addressed. \n",
    "\n",
    "2. 42 of the columns in the training dataset are stored as objects, which will need to be changed to numeric types, if possible, in order to be used in modeling."
   ]
  },
  {
   "cell_type": "markdown",
   "metadata": {},
   "source": [
    "#### Null Values\n",
    "\n",
    "I will have to systematically go through the columns with nulls to address them, so I will define a simple function to display all of the nulls in descending order (most nulls shown first) by calling the function on the dataframe."
   ]
  },
  {
   "cell_type": "code",
   "execution_count": 9,
   "metadata": {},
   "outputs": [],
   "source": [
    "# define a function to return all the null values in descending order\n",
    "def check_nulls(dataframe):\n",
    "    nulls = dataframe.isnull().sum().sort_values(ascending=False)\n",
    "    return nulls[nulls > 0]"
   ]
  },
  {
   "cell_type": "code",
   "execution_count": 10,
   "metadata": {},
   "outputs": [
    {
     "data": {
      "text/plain": [
       "pool_qc           2042\n",
       "misc_feature      1986\n",
       "alley             1911\n",
       "fence             1651\n",
       "fireplace_qu      1000\n",
       "lot_frontage       330\n",
       "garage_finish      114\n",
       "garage_cond        114\n",
       "garage_qual        114\n",
       "garage_yr_blt      114\n",
       "garage_type        113\n",
       "bsmt_exposure       58\n",
       "bsmtfin_type_2      56\n",
       "bsmtfin_type_1      55\n",
       "bsmt_cond           55\n",
       "bsmt_qual           55\n",
       "mas_vnr_type        22\n",
       "mas_vnr_area        22\n",
       "bsmt_half_bath       2\n",
       "bsmt_full_bath       2\n",
       "garage_cars          1\n",
       "garage_area          1\n",
       "bsmt_unf_sf          1\n",
       "bsmtfin_sf_2         1\n",
       "total_bsmt_sf        1\n",
       "bsmtfin_sf_1         1\n",
       "dtype: int64"
      ]
     },
     "execution_count": 10,
     "metadata": {},
     "output_type": "execute_result"
    }
   ],
   "source": [
    "# display the number of nulls for all columns with nulls\n",
    "check_nulls(df)"
   ]
  },
  {
   "cell_type": "code",
   "execution_count": 11,
   "metadata": {},
   "outputs": [
    {
     "data": {
      "text/plain": [
       "pool_qc           875\n",
       "misc_feature      838\n",
       "alley             821\n",
       "fence             707\n",
       "fireplace_qu      422\n",
       "lot_frontage      160\n",
       "garage_cond        45\n",
       "garage_qual        45\n",
       "garage_yr_blt      45\n",
       "garage_finish      45\n",
       "garage_type        44\n",
       "bsmt_exposure      25\n",
       "bsmtfin_type_1     25\n",
       "bsmt_qual          25\n",
       "bsmtfin_type_2     25\n",
       "bsmt_cond          25\n",
       "mas_vnr_area        1\n",
       "mas_vnr_type        1\n",
       "electrical          1\n",
       "dtype: int64"
      ]
     },
     "execution_count": 11,
     "metadata": {},
     "output_type": "execute_result"
    }
   ],
   "source": [
    "# check nulls on the holdout set\n",
    "check_nulls(holdout)"
   ]
  },
  {
   "cell_type": "markdown",
   "metadata": {},
   "source": [
    "Some of these columns have huge portions which are null values. In order to get a better sense of which columns I might want to drop entirely, I'd also like to see the number of nulls as a percentage of the total observations."
   ]
  },
  {
   "cell_type": "code",
   "execution_count": 12,
   "metadata": {},
   "outputs": [
    {
     "data": {
      "text/plain": [
       "pool_qc         0.995612\n",
       "misc_feature    0.968308\n",
       "alley           0.931741\n",
       "fence           0.804973\n",
       "fireplace_qu    0.487567\n",
       "dtype: float64"
      ]
     },
     "execution_count": 12,
     "metadata": {},
     "output_type": "execute_result"
    }
   ],
   "source": [
    "# display the percentage of nulls for all columns with null percentage over 25%\n",
    "nulls = df.isnull().sum().sort_values(ascending=False)\n",
    "nulls[nulls / df.shape[0] > 0.25] / df.shape[0]"
   ]
  },
  {
   "cell_type": "markdown",
   "metadata": {},
   "source": [
    "These five features seem to be missing data for more than 25 percent of their observations, making them candidates to be dropped entirely. However, the data dictionary suggests that an NA value for these categories means that the specified feature is missing from the home (e.g. a home with an NA for pool_qc does not have a pool), so it may be wrong to treat these as missing data. A few options exist:\n",
    "\n",
    "1. *Drop the columns entirely*\n",
    "2. *Impute values of zero where the feature is specified as ordinal (pool_qc, alley, fence, fireplace_qu)*\n",
    "3. *Binarize the columns that indicate the presence or non-presence of the feature (e.g. impute a 1 if the property has a pool and a 0 if it doesn't have a pool)*\n",
    "\n",
    "In the interest of simplicity, I'm going to drop the four columns with greater than 80% null values. In the future it would be interesting to reconsider this for some or all of these columns.\n",
    "\n",
    "I'll also have to drop these from the holdout set, since the model will expect the number of input features to be the same when applied to the holdout set."
   ]
  },
  {
   "cell_type": "code",
   "execution_count": 13,
   "metadata": {},
   "outputs": [],
   "source": [
    "# define the columns to drop\n",
    "# I'll also drop 'pid' since it's an arbitrary identification number\n",
    "drop_columns = ['pool_qc', 'misc_feature', 'alley', 'fence', 'pid']\n",
    "\n",
    "# drop columns with over 80% null values in the training and holdout sets\n",
    "df.drop(columns=drop_columns, inplace=True)\n",
    "holdout.drop(columns=drop_columns, inplace=True)"
   ]
  },
  {
   "cell_type": "markdown",
   "metadata": {},
   "source": [
    "Before looking at the remaining null values directly, I will move on with converting the non-numeric columns, since this will address many of the \"nulls\" (which actually represent non-existent features, not missing data)."
   ]
  },
  {
   "cell_type": "markdown",
   "metadata": {},
   "source": [
    "#### Converting Non-Numeric Columns (Ordinal Values to Scale)"
   ]
  },
  {
   "cell_type": "markdown",
   "metadata": {},
   "source": [
    "Based on the data dictionary, many of the non_numeric columns have ordinal values. For example, the column describing basement quality (basement height) includes the following values:    \n",
    "   \n",
    "   - Ex   Excellent (100+ inches) \n",
    "   - Gd   Good (90-99 inches)\n",
    "   - TA   Typical (80-89 inches)\n",
    "   - Fa   Fair (70-79 inches)\n",
    "   - Po   Poor (&lt;70 inches\n",
    "   - NA   No Basement \n",
    "\n",
    "Thus I will assign numerical values to these ratings, such that \"Ex\" is converted to 5, \"Gd\" is converted to 4, and so on through to \"NA\" being assigned to 0. This should have the secondary benefit of removing some of the remaining null values from these columns."
   ]
  },
  {
   "cell_type": "code",
   "execution_count": 14,
   "metadata": {},
   "outputs": [],
   "source": [
    "# define a function to convert the ordinal columns \n",
    "# with the Ex-Gd-TA-Fa-Po-NA scale to numeric\n",
    "def ex_scale(df, column_list):\n",
    "    for column in column_list:\n",
    "        # replace ordinal objects with ordinal numbers\n",
    "        df[column] = df[column].map({'Ex': 5, 'Gd': 4, 'TA': 3, 'Fa': 2, 'Po': 1, 'NA': 0})\n",
    "        # convert columns from object to numeric datatype\n",
    "        df[column] = pd.to_numeric(df[column])\n",
    "        # replace null values with 0\n",
    "        df[column] = df[column].fillna(0)"
   ]
  },
  {
   "cell_type": "code",
   "execution_count": 15,
   "metadata": {},
   "outputs": [],
   "source": [
    "# run the ex_scale function on the appropriate ordinal columns\n",
    "column_list = ['bsmt_qual', \n",
    "               'bsmt_cond',\n",
    "               'exter_qual',\n",
    "               'exter_cond',\n",
    "               'fireplace_qu',\n",
    "               'garage_qual',\n",
    "               'garage_cond',\n",
    "               'heating_qc',\n",
    "               'kitchen_qual']\n",
    "ex_scale(df, column_list)\n",
    "ex_scale(holdout, column_list)"
   ]
  },
  {
   "cell_type": "markdown",
   "metadata": {},
   "source": [
    "Additional ordinal characterstics specified in the data dictionary have to be converted in a more piecemeal fashion:"
   ]
  },
  {
   "cell_type": "code",
   "execution_count": 16,
   "metadata": {},
   "outputs": [],
   "source": [
    "# define a function to streamline the process and apply the changes\n",
    "# to both the testing and the holdout sets\n",
    "def var_scale(column, reassign_dict, data_set_list = [df, holdout]):\n",
    "    for data_set in data_set_list:\n",
    "        data_set[column] = pd.to_numeric(data_set[column].map(reassign_dict))\n",
    "        data_set[column] = data_set[column].fillna(0)\n",
    "        #print(data_set[column].value_counts().sum())     \n",
    "        "
   ]
  },
  {
   "cell_type": "code",
   "execution_count": 17,
   "metadata": {},
   "outputs": [],
   "source": [
    "# convert additional ordinal characteristics\n",
    "var_scale('lot_shape', {'Reg': 3, 'IR1': 2, 'IR2': 1, 'IR3': 0})\n",
    "var_scale('utilities', {'AllPub': 3, 'NoSewr': 2, 'NoSeWa': 1, 'ELO': 0})\n",
    "var_scale('land_slope', {'Gtl': 2, 'Mod': 1, 'Sev': 0})\n",
    "var_scale('bsmt_exposure', {'Gd': 4, 'Av': 3, 'Mn': 2, 'No': 1, 'NA': 0})\n",
    "var_scale('bsmtfin_type_1', {'GLQ': 6, 'ALQ': 5, 'BLQ': 4, 'Rec': 3, 'LwQ': 2, 'Unf': 1, 'NA': 0})\n",
    "var_scale('bsmtfin_type_2', {'GLQ': 6, 'ALQ': 5, 'BLQ': 4, 'Rec': 3, 'LwQ': 2, 'Unf': 1, 'NA': 0})\n",
    "var_scale('electrical', {'SBrkr': 4, 'FuseA': 3, 'FuseF': 2, 'FuseP': 1, 'Mix': 0})\n",
    "var_scale('functional', {'Typ': 7, 'Min1': 6, 'Min2': 5, 'Mod': 4, 'Maj1': 3, 'Maj2': 2, 'Sev': 1, 'Sal': 0})\n",
    "var_scale('garage_finish', {'Fin': 3, 'Rfn': 2, 'Unf': 1})\n",
    "var_scale('paved_drive', {'Y': 2, 'P': 1, 'N': 0})"
   ]
  },
  {
   "cell_type": "code",
   "execution_count": 18,
   "metadata": {},
   "outputs": [],
   "source": [
    "# convert binary 'central_air' column to 1 for yes, 0 for no\n",
    "df['central_air'] = pd.to_numeric(df.central_air.map({'Y': 1, 'N': 0}))\n",
    "holdout['central_air'] = pd.to_numeric(holdout.central_air.map({'Y': 1, 'N': 0}))"
   ]
  },
  {
   "cell_type": "markdown",
   "metadata": {},
   "source": [
    "#### Converting Non-Numeric Columns (Non-Ordinal Values to Dummies)"
   ]
  },
  {
   "cell_type": "code",
   "execution_count": 19,
   "metadata": {},
   "outputs": [],
   "source": [
    "# create a list of the remaining non-numeric columns.\n",
    "# these are the columns that could not be converted based on ordinal scales\n",
    "non_ordinal_columns = [col for col in df.select_dtypes(include='object')]"
   ]
  },
  {
   "cell_type": "code",
   "execution_count": 20,
   "metadata": {},
   "outputs": [],
   "source": [
    "# convert non-ordinal columns to dummies for the test set\n",
    "df = pd.get_dummies(df, columns=non_ordinal_columns, drop_first=True)\n",
    "\n",
    "# convert non-ordinal columns to dummies for the holdout set\n",
    "holdout = pd.get_dummies(holdout, columns=non_ordinal_columns, drop_first=True)"
   ]
  },
  {
   "cell_type": "code",
   "execution_count": 21,
   "metadata": {},
   "outputs": [
    {
     "data": {
      "text/plain": [
       "0"
      ]
     },
     "execution_count": 21,
     "metadata": {},
     "output_type": "execute_result"
    }
   ],
   "source": [
    "# double check that no columns remain object type\n",
    "len(df.dtypes[df.dtypes == 'object']) + len(holdout.dtypes[holdout.dtypes == 'object'])"
   ]
  },
  {
   "cell_type": "markdown",
   "metadata": {},
   "source": [
    "All of the object type columns have been converted to numerical. All that remains is to deal with null values."
   ]
  },
  {
   "cell_type": "markdown",
   "metadata": {},
   "source": [
    "#### Re-check Nulls"
   ]
  },
  {
   "cell_type": "code",
   "execution_count": 22,
   "metadata": {},
   "outputs": [
    {
     "data": {
      "text/plain": [
       "lot_frontage      330\n",
       "garage_yr_blt     114\n",
       "mas_vnr_area       22\n",
       "bsmt_full_bath      2\n",
       "bsmt_half_bath      2\n",
       "garage_area         1\n",
       "bsmtfin_sf_1        1\n",
       "total_bsmt_sf       1\n",
       "bsmtfin_sf_2        1\n",
       "garage_cars         1\n",
       "bsmt_unf_sf         1\n",
       "dtype: int64"
      ]
     },
     "execution_count": 22,
     "metadata": {},
     "output_type": "execute_result"
    }
   ],
   "source": [
    "# check nulls on test set\n",
    "check_nulls(df)"
   ]
  },
  {
   "cell_type": "code",
   "execution_count": 23,
   "metadata": {},
   "outputs": [
    {
     "data": {
      "text/plain": [
       "lot_frontage     160\n",
       "garage_yr_blt     45\n",
       "mas_vnr_area       1\n",
       "dtype: int64"
      ]
     },
     "execution_count": 23,
     "metadata": {},
     "output_type": "execute_result"
    }
   ],
   "source": [
    "# check nulls on holdout set\n",
    "check_nulls(holdout)"
   ]
  },
  {
   "cell_type": "markdown",
   "metadata": {},
   "source": [
    "Nice. Many of the nulls were addressed by converting to ordinal scales. The remaining columns can be addressed directly. I'm going to use regression to impute values for lot_frontage, but it will be easier to do so after addressing the other nulls, so I'll come back to lot_frontage last."
   ]
  },
  {
   "cell_type": "markdown",
   "metadata": {},
   "source": [
    "#### garage_yr_built Nulls"
   ]
  },
  {
   "cell_type": "code",
   "execution_count": 24,
   "metadata": {},
   "outputs": [
    {
     "data": {
      "text/html": [
       "<div>\n",
       "<style scoped>\n",
       "    .dataframe tbody tr th:only-of-type {\n",
       "        vertical-align: middle;\n",
       "    }\n",
       "\n",
       "    .dataframe tbody tr th {\n",
       "        vertical-align: top;\n",
       "    }\n",
       "\n",
       "    .dataframe thead th {\n",
       "        text-align: right;\n",
       "    }\n",
       "</style>\n",
       "<table border=\"1\" class=\"dataframe\">\n",
       "  <thead>\n",
       "    <tr style=\"text-align: right;\">\n",
       "      <th></th>\n",
       "      <th>garage_yr_blt</th>\n",
       "      <th>garage_finish</th>\n",
       "      <th>garage_cars</th>\n",
       "      <th>garage_area</th>\n",
       "      <th>garage_qual</th>\n",
       "      <th>garage_cond</th>\n",
       "      <th>garage_type_Attchd</th>\n",
       "      <th>garage_type_Basment</th>\n",
       "      <th>garage_type_BuiltIn</th>\n",
       "      <th>garage_type_CarPort</th>\n",
       "      <th>garage_type_Detchd</th>\n",
       "    </tr>\n",
       "  </thead>\n",
       "  <tbody>\n",
       "  </tbody>\n",
       "</table>\n",
       "</div>"
      ],
      "text/plain": [
       "Empty DataFrame\n",
       "Columns: [garage_yr_blt, garage_finish, garage_cars, garage_area, garage_qual, garage_cond, garage_type_Attchd, garage_type_Basment, garage_type_BuiltIn, garage_type_CarPort, garage_type_Detchd]\n",
       "Index: []"
      ]
     },
     "execution_count": 24,
     "metadata": {},
     "output_type": "execute_result"
    }
   ],
   "source": [
    "# take a look at the rows for which garage_yr_built is null\n",
    "# to see if there are actually any garages there\n",
    "garage_df = df[[col for col in df.columns if 'garage' in col]]\n",
    "garage_df[(df.garage_yr_blt.isnull()) & (df.garage_qual != 0)]"
   ]
  },
  {
   "cell_type": "markdown",
   "metadata": {},
   "source": [
    "We know that a 'garage_qual' value of zero means there is no garage. Since there's no year value I can impute for houses with no garage, and there is a lot of other garage information that can contribute to the impact of the garage on the final model, I am going to drop 'garage_yr_blt'."
   ]
  },
  {
   "cell_type": "code",
   "execution_count": 25,
   "metadata": {},
   "outputs": [],
   "source": [
    "# drop garage_yr_blt from both the training set and the holdout set\n",
    "df.drop(columns='garage_yr_blt', inplace=True)\n",
    "holdout.drop(columns='garage_yr_blt', inplace=True)"
   ]
  },
  {
   "cell_type": "markdown",
   "metadata": {},
   "source": [
    "#### mas_vnr_area Nulls"
   ]
  },
  {
   "cell_type": "code",
   "execution_count": 26,
   "metadata": {},
   "outputs": [
    {
     "data": {
      "text/html": [
       "<div>\n",
       "<style scoped>\n",
       "    .dataframe tbody tr th:only-of-type {\n",
       "        vertical-align: middle;\n",
       "    }\n",
       "\n",
       "    .dataframe tbody tr th {\n",
       "        vertical-align: top;\n",
       "    }\n",
       "\n",
       "    .dataframe thead th {\n",
       "        text-align: right;\n",
       "    }\n",
       "</style>\n",
       "<table border=\"1\" class=\"dataframe\">\n",
       "  <thead>\n",
       "    <tr style=\"text-align: right;\">\n",
       "      <th></th>\n",
       "      <th>mas_vnr_area</th>\n",
       "      <th>mas_vnr_type_BrkFace</th>\n",
       "      <th>mas_vnr_type_None</th>\n",
       "      <th>mas_vnr_type_Stone</th>\n",
       "    </tr>\n",
       "  </thead>\n",
       "  <tbody>\n",
       "    <tr>\n",
       "      <th>22</th>\n",
       "      <td>NaN</td>\n",
       "      <td>0</td>\n",
       "      <td>0</td>\n",
       "      <td>0</td>\n",
       "    </tr>\n",
       "    <tr>\n",
       "      <th>41</th>\n",
       "      <td>NaN</td>\n",
       "      <td>0</td>\n",
       "      <td>0</td>\n",
       "      <td>0</td>\n",
       "    </tr>\n",
       "    <tr>\n",
       "      <th>86</th>\n",
       "      <td>NaN</td>\n",
       "      <td>0</td>\n",
       "      <td>0</td>\n",
       "      <td>0</td>\n",
       "    </tr>\n",
       "    <tr>\n",
       "      <th>212</th>\n",
       "      <td>NaN</td>\n",
       "      <td>0</td>\n",
       "      <td>0</td>\n",
       "      <td>0</td>\n",
       "    </tr>\n",
       "    <tr>\n",
       "      <th>276</th>\n",
       "      <td>NaN</td>\n",
       "      <td>0</td>\n",
       "      <td>0</td>\n",
       "      <td>0</td>\n",
       "    </tr>\n",
       "    <tr>\n",
       "      <th>338</th>\n",
       "      <td>NaN</td>\n",
       "      <td>0</td>\n",
       "      <td>0</td>\n",
       "      <td>0</td>\n",
       "    </tr>\n",
       "    <tr>\n",
       "      <th>431</th>\n",
       "      <td>NaN</td>\n",
       "      <td>0</td>\n",
       "      <td>0</td>\n",
       "      <td>0</td>\n",
       "    </tr>\n",
       "    <tr>\n",
       "      <th>451</th>\n",
       "      <td>NaN</td>\n",
       "      <td>0</td>\n",
       "      <td>0</td>\n",
       "      <td>0</td>\n",
       "    </tr>\n",
       "    <tr>\n",
       "      <th>591</th>\n",
       "      <td>NaN</td>\n",
       "      <td>0</td>\n",
       "      <td>0</td>\n",
       "      <td>0</td>\n",
       "    </tr>\n",
       "    <tr>\n",
       "      <th>844</th>\n",
       "      <td>NaN</td>\n",
       "      <td>0</td>\n",
       "      <td>0</td>\n",
       "      <td>0</td>\n",
       "    </tr>\n",
       "    <tr>\n",
       "      <th>913</th>\n",
       "      <td>NaN</td>\n",
       "      <td>0</td>\n",
       "      <td>0</td>\n",
       "      <td>0</td>\n",
       "    </tr>\n",
       "    <tr>\n",
       "      <th>939</th>\n",
       "      <td>NaN</td>\n",
       "      <td>0</td>\n",
       "      <td>0</td>\n",
       "      <td>0</td>\n",
       "    </tr>\n",
       "    <tr>\n",
       "      <th>1025</th>\n",
       "      <td>NaN</td>\n",
       "      <td>0</td>\n",
       "      <td>0</td>\n",
       "      <td>0</td>\n",
       "    </tr>\n",
       "    <tr>\n",
       "      <th>1244</th>\n",
       "      <td>NaN</td>\n",
       "      <td>0</td>\n",
       "      <td>0</td>\n",
       "      <td>0</td>\n",
       "    </tr>\n",
       "    <tr>\n",
       "      <th>1306</th>\n",
       "      <td>NaN</td>\n",
       "      <td>0</td>\n",
       "      <td>0</td>\n",
       "      <td>0</td>\n",
       "    </tr>\n",
       "    <tr>\n",
       "      <th>1430</th>\n",
       "      <td>NaN</td>\n",
       "      <td>0</td>\n",
       "      <td>0</td>\n",
       "      <td>0</td>\n",
       "    </tr>\n",
       "    <tr>\n",
       "      <th>1434</th>\n",
       "      <td>NaN</td>\n",
       "      <td>0</td>\n",
       "      <td>0</td>\n",
       "      <td>0</td>\n",
       "    </tr>\n",
       "    <tr>\n",
       "      <th>1606</th>\n",
       "      <td>NaN</td>\n",
       "      <td>0</td>\n",
       "      <td>0</td>\n",
       "      <td>0</td>\n",
       "    </tr>\n",
       "    <tr>\n",
       "      <th>1699</th>\n",
       "      <td>NaN</td>\n",
       "      <td>0</td>\n",
       "      <td>0</td>\n",
       "      <td>0</td>\n",
       "    </tr>\n",
       "    <tr>\n",
       "      <th>1815</th>\n",
       "      <td>NaN</td>\n",
       "      <td>0</td>\n",
       "      <td>0</td>\n",
       "      <td>0</td>\n",
       "    </tr>\n",
       "    <tr>\n",
       "      <th>1820</th>\n",
       "      <td>NaN</td>\n",
       "      <td>0</td>\n",
       "      <td>0</td>\n",
       "      <td>0</td>\n",
       "    </tr>\n",
       "    <tr>\n",
       "      <th>1941</th>\n",
       "      <td>NaN</td>\n",
       "      <td>0</td>\n",
       "      <td>0</td>\n",
       "      <td>0</td>\n",
       "    </tr>\n",
       "  </tbody>\n",
       "</table>\n",
       "</div>"
      ],
      "text/plain": [
       "      mas_vnr_area  mas_vnr_type_BrkFace  mas_vnr_type_None  \\\n",
       "22             NaN                     0                  0   \n",
       "41             NaN                     0                  0   \n",
       "86             NaN                     0                  0   \n",
       "212            NaN                     0                  0   \n",
       "276            NaN                     0                  0   \n",
       "338            NaN                     0                  0   \n",
       "431            NaN                     0                  0   \n",
       "451            NaN                     0                  0   \n",
       "591            NaN                     0                  0   \n",
       "844            NaN                     0                  0   \n",
       "913            NaN                     0                  0   \n",
       "939            NaN                     0                  0   \n",
       "1025           NaN                     0                  0   \n",
       "1244           NaN                     0                  0   \n",
       "1306           NaN                     0                  0   \n",
       "1430           NaN                     0                  0   \n",
       "1434           NaN                     0                  0   \n",
       "1606           NaN                     0                  0   \n",
       "1699           NaN                     0                  0   \n",
       "1815           NaN                     0                  0   \n",
       "1820           NaN                     0                  0   \n",
       "1941           NaN                     0                  0   \n",
       "\n",
       "      mas_vnr_type_Stone  \n",
       "22                     0  \n",
       "41                     0  \n",
       "86                     0  \n",
       "212                    0  \n",
       "276                    0  \n",
       "338                    0  \n",
       "431                    0  \n",
       "451                    0  \n",
       "591                    0  \n",
       "844                    0  \n",
       "913                    0  \n",
       "939                    0  \n",
       "1025                   0  \n",
       "1244                   0  \n",
       "1306                   0  \n",
       "1430                   0  \n",
       "1434                   0  \n",
       "1606                   0  \n",
       "1699                   0  \n",
       "1815                   0  \n",
       "1820                   0  \n",
       "1941                   0  "
      ]
     },
     "execution_count": 26,
     "metadata": {},
     "output_type": "execute_result"
    }
   ],
   "source": [
    "# take a look at the rows for which mas_vnr_area is null\n",
    "masonry_df = df[[col for col in df.columns if 'mas_' in col]]\n",
    "masonry_df[df.mas_vnr_area.isnull()]"
   ]
  },
  {
   "cell_type": "markdown",
   "metadata": {},
   "source": [
    "There's no values for any of the veneer types, so I will impute an area of zero for these values."
   ]
  },
  {
   "cell_type": "code",
   "execution_count": 27,
   "metadata": {},
   "outputs": [],
   "source": [
    "# replace the nulls with zeroes\n",
    "df['mas_vnr_area'] = df.mas_vnr_area.fillna(value=0)"
   ]
  },
  {
   "cell_type": "code",
   "execution_count": 28,
   "metadata": {},
   "outputs": [
    {
     "data": {
      "text/html": [
       "<div>\n",
       "<style scoped>\n",
       "    .dataframe tbody tr th:only-of-type {\n",
       "        vertical-align: middle;\n",
       "    }\n",
       "\n",
       "    .dataframe tbody tr th {\n",
       "        vertical-align: top;\n",
       "    }\n",
       "\n",
       "    .dataframe thead th {\n",
       "        text-align: right;\n",
       "    }\n",
       "</style>\n",
       "<table border=\"1\" class=\"dataframe\">\n",
       "  <thead>\n",
       "    <tr style=\"text-align: right;\">\n",
       "      <th></th>\n",
       "      <th>mas_vnr_area</th>\n",
       "      <th>mas_vnr_type_BrkFace</th>\n",
       "      <th>mas_vnr_type_CBlock</th>\n",
       "      <th>mas_vnr_type_None</th>\n",
       "      <th>mas_vnr_type_Stone</th>\n",
       "    </tr>\n",
       "  </thead>\n",
       "  <tbody>\n",
       "    <tr>\n",
       "      <th>866</th>\n",
       "      <td>NaN</td>\n",
       "      <td>0</td>\n",
       "      <td>0</td>\n",
       "      <td>0</td>\n",
       "      <td>0</td>\n",
       "    </tr>\n",
       "  </tbody>\n",
       "</table>\n",
       "</div>"
      ],
      "text/plain": [
       "     mas_vnr_area  mas_vnr_type_BrkFace  mas_vnr_type_CBlock  \\\n",
       "866           NaN                     0                    0   \n",
       "\n",
       "     mas_vnr_type_None  mas_vnr_type_Stone  \n",
       "866                  0                   0  "
      ]
     },
     "execution_count": 28,
     "metadata": {},
     "output_type": "execute_result"
    }
   ],
   "source": [
    "# take a look at the rows for which mas_vnr_area is null (holdout)\n",
    "masonry_df = holdout[[col for col in holdout.columns if 'mas_' in col]]\n",
    "masonry_df[holdout.mas_vnr_area.isnull()]"
   ]
  },
  {
   "cell_type": "code",
   "execution_count": 29,
   "metadata": {},
   "outputs": [],
   "source": [
    "# impute a value of zero for the holdout set's null value\n",
    "holdout['mas_vnr_area'] = holdout.mas_vnr_area.fillna(value=0)"
   ]
  },
  {
   "cell_type": "markdown",
   "metadata": {},
   "source": [
    "#### Re-check Nulls"
   ]
  },
  {
   "cell_type": "code",
   "execution_count": 30,
   "metadata": {},
   "outputs": [
    {
     "data": {
      "text/plain": [
       "lot_frontage      330\n",
       "bsmt_full_bath      2\n",
       "bsmt_half_bath      2\n",
       "total_bsmt_sf       1\n",
       "bsmt_unf_sf         1\n",
       "garage_area         1\n",
       "garage_cars         1\n",
       "bsmtfin_sf_2        1\n",
       "bsmtfin_sf_1        1\n",
       "dtype: int64"
      ]
     },
     "execution_count": 30,
     "metadata": {},
     "output_type": "execute_result"
    }
   ],
   "source": [
    "# check remaining nulls for test set\n",
    "check_nulls(df)"
   ]
  },
  {
   "cell_type": "code",
   "execution_count": 31,
   "metadata": {},
   "outputs": [
    {
     "data": {
      "text/plain": [
       "lot_frontage    160\n",
       "dtype: int64"
      ]
     },
     "execution_count": 31,
     "metadata": {},
     "output_type": "execute_result"
    }
   ],
   "source": [
    "# check remaining nulls for holdout set\n",
    "check_nulls(holdout)"
   ]
  },
  {
   "cell_type": "markdown",
   "metadata": {},
   "source": [
    "#### bsmt Column Nulls"
   ]
  },
  {
   "cell_type": "code",
   "execution_count": 32,
   "metadata": {},
   "outputs": [
    {
     "data": {
      "text/html": [
       "<div>\n",
       "<style scoped>\n",
       "    .dataframe tbody tr th:only-of-type {\n",
       "        vertical-align: middle;\n",
       "    }\n",
       "\n",
       "    .dataframe tbody tr th {\n",
       "        vertical-align: top;\n",
       "    }\n",
       "\n",
       "    .dataframe thead th {\n",
       "        text-align: right;\n",
       "    }\n",
       "</style>\n",
       "<table border=\"1\" class=\"dataframe\">\n",
       "  <thead>\n",
       "    <tr style=\"text-align: right;\">\n",
       "      <th></th>\n",
       "      <th>bsmt_qual</th>\n",
       "      <th>bsmt_cond</th>\n",
       "      <th>bsmt_exposure</th>\n",
       "      <th>bsmtfin_type_1</th>\n",
       "      <th>bsmtfin_sf_1</th>\n",
       "      <th>bsmtfin_type_2</th>\n",
       "      <th>bsmtfin_sf_2</th>\n",
       "      <th>bsmt_unf_sf</th>\n",
       "      <th>total_bsmt_sf</th>\n",
       "      <th>bsmt_full_bath</th>\n",
       "      <th>bsmt_half_bath</th>\n",
       "    </tr>\n",
       "  </thead>\n",
       "  <tbody>\n",
       "    <tr>\n",
       "      <th>616</th>\n",
       "      <td>0.0</td>\n",
       "      <td>0.0</td>\n",
       "      <td>0.0</td>\n",
       "      <td>0.0</td>\n",
       "      <td>0.0</td>\n",
       "      <td>0.0</td>\n",
       "      <td>0.0</td>\n",
       "      <td>0.0</td>\n",
       "      <td>0.0</td>\n",
       "      <td>NaN</td>\n",
       "      <td>NaN</td>\n",
       "    </tr>\n",
       "    <tr>\n",
       "      <th>1327</th>\n",
       "      <td>0.0</td>\n",
       "      <td>0.0</td>\n",
       "      <td>0.0</td>\n",
       "      <td>0.0</td>\n",
       "      <td>NaN</td>\n",
       "      <td>0.0</td>\n",
       "      <td>NaN</td>\n",
       "      <td>NaN</td>\n",
       "      <td>NaN</td>\n",
       "      <td>NaN</td>\n",
       "      <td>NaN</td>\n",
       "    </tr>\n",
       "  </tbody>\n",
       "</table>\n",
       "</div>"
      ],
      "text/plain": [
       "      bsmt_qual  bsmt_cond  bsmt_exposure  bsmtfin_type_1  bsmtfin_sf_1  \\\n",
       "616         0.0        0.0            0.0             0.0           0.0   \n",
       "1327        0.0        0.0            0.0             0.0           NaN   \n",
       "\n",
       "      bsmtfin_type_2  bsmtfin_sf_2  bsmt_unf_sf  total_bsmt_sf  \\\n",
       "616              0.0           0.0          0.0            0.0   \n",
       "1327             0.0           NaN          NaN            NaN   \n",
       "\n",
       "      bsmt_full_bath  bsmt_half_bath  \n",
       "616              NaN             NaN  \n",
       "1327             NaN             NaN  "
      ]
     },
     "execution_count": 32,
     "metadata": {},
     "output_type": "execute_result"
    }
   ],
   "source": [
    "# locate the basement features and rows that have null values\n",
    "bsmt_cols = df[[col for col in df.columns if 'bsmt' in col]]\n",
    "bsmt_cols[df.bsmt_full_bath.isnull() > 0]"
   ]
  },
  {
   "cell_type": "markdown",
   "metadata": {},
   "source": [
    "A bsmt_qual score of zero implies there is no basement present, so zeroes can be imputed for these nulls."
   ]
  },
  {
   "cell_type": "code",
   "execution_count": 33,
   "metadata": {},
   "outputs": [],
   "source": [
    "df.loc[[616, 1327], list(bsmt_cols)] = df.loc[[616, 1327], list(bsmt_cols)].fillna(0)"
   ]
  },
  {
   "cell_type": "code",
   "execution_count": 34,
   "metadata": {},
   "outputs": [
    {
     "data": {
      "text/plain": [
       "lot_frontage    330\n",
       "garage_area       1\n",
       "garage_cars       1\n",
       "dtype: int64"
      ]
     },
     "execution_count": 34,
     "metadata": {},
     "output_type": "execute_result"
    }
   ],
   "source": [
    "check_nulls(df)"
   ]
  },
  {
   "cell_type": "markdown",
   "metadata": {},
   "source": [
    "#### garage Column Nulls"
   ]
  },
  {
   "cell_type": "code",
   "execution_count": 35,
   "metadata": {},
   "outputs": [
    {
     "data": {
      "text/html": [
       "<div>\n",
       "<style scoped>\n",
       "    .dataframe tbody tr th:only-of-type {\n",
       "        vertical-align: middle;\n",
       "    }\n",
       "\n",
       "    .dataframe tbody tr th {\n",
       "        vertical-align: top;\n",
       "    }\n",
       "\n",
       "    .dataframe thead th {\n",
       "        text-align: right;\n",
       "    }\n",
       "</style>\n",
       "<table border=\"1\" class=\"dataframe\">\n",
       "  <thead>\n",
       "    <tr style=\"text-align: right;\">\n",
       "      <th></th>\n",
       "      <th>garage_finish</th>\n",
       "      <th>garage_cars</th>\n",
       "      <th>garage_area</th>\n",
       "      <th>garage_qual</th>\n",
       "      <th>garage_cond</th>\n",
       "      <th>garage_type_Attchd</th>\n",
       "      <th>garage_type_Basment</th>\n",
       "      <th>garage_type_BuiltIn</th>\n",
       "      <th>garage_type_CarPort</th>\n",
       "      <th>garage_type_Detchd</th>\n",
       "    </tr>\n",
       "  </thead>\n",
       "  <tbody>\n",
       "    <tr>\n",
       "      <th>1712</th>\n",
       "      <td>0.0</td>\n",
       "      <td>NaN</td>\n",
       "      <td>NaN</td>\n",
       "      <td>0.0</td>\n",
       "      <td>0.0</td>\n",
       "      <td>0</td>\n",
       "      <td>0</td>\n",
       "      <td>0</td>\n",
       "      <td>0</td>\n",
       "      <td>1</td>\n",
       "    </tr>\n",
       "  </tbody>\n",
       "</table>\n",
       "</div>"
      ],
      "text/plain": [
       "      garage_finish  garage_cars  garage_area  garage_qual  garage_cond  \\\n",
       "1712            0.0          NaN          NaN          0.0          0.0   \n",
       "\n",
       "      garage_type_Attchd  garage_type_Basment  garage_type_BuiltIn  \\\n",
       "1712                   0                    0                    0   \n",
       "\n",
       "      garage_type_CarPort  garage_type_Detchd  \n",
       "1712                    0                   1  "
      ]
     },
     "execution_count": 35,
     "metadata": {},
     "output_type": "execute_result"
    }
   ],
   "source": [
    "garage_cols = df[[col for col in df.columns if 'garage' in col]]\n",
    "garage_cols[df.garage_area.isnull() > 0]"
   ]
  },
  {
   "cell_type": "markdown",
   "metadata": {},
   "source": [
    "A garage_qual value of zero implies there is no garage present, but this conflicts with the fact that there is a garage_type listed. Since there's no way of telling which of the conflicting pieces of information is correct, I'll just drop this row completely."
   ]
  },
  {
   "cell_type": "code",
   "execution_count": 36,
   "metadata": {},
   "outputs": [],
   "source": [
    "df.drop([1712], inplace=True)"
   ]
  },
  {
   "cell_type": "code",
   "execution_count": 37,
   "metadata": {},
   "outputs": [
    {
     "data": {
      "text/plain": [
       "lot_frontage    330\n",
       "dtype: int64"
      ]
     },
     "execution_count": 37,
     "metadata": {},
     "output_type": "execute_result"
    }
   ],
   "source": [
    "check_nulls(df)"
   ]
  },
  {
   "cell_type": "markdown",
   "metadata": {},
   "source": [
    "#### Impute Missing lot_frontage Values with Linear Regression"
   ]
  },
  {
   "cell_type": "code",
   "execution_count": 38,
   "metadata": {},
   "outputs": [
    {
     "data": {
      "text/plain": [
       "lot_frontage     1.000000\n",
       "lot_area         0.574085\n",
       "1st_flr_sf       0.463776\n",
       "gr_liv_area      0.384314\n",
       "totrms_abvgrd    0.362657\n",
       "Name: lot_frontage, dtype: float64"
      ]
     },
     "execution_count": 38,
     "metadata": {},
     "output_type": "execute_result"
    },
    {
     "data": {
      "text/plain": [
       "<Figure size 864x864 with 0 Axes>"
      ]
     },
     "metadata": {},
     "output_type": "display_data"
    }
   ],
   "source": [
    "# check top correlation with lot_frontage\n",
    "plt.figure(figsize = (12,12))\n",
    "lot_front_corr = df.corr()['lot_frontage'].sort_values(ascending=False)\n",
    "abs(lot_front_corr).head()"
   ]
  },
  {
   "cell_type": "code",
   "execution_count": 39,
   "metadata": {},
   "outputs": [
    {
     "name": "stderr",
     "output_type": "stream",
     "text": [
      "/Users/kevinc/anaconda3/lib/python3.6/site-packages/matplotlib/axes/_axes.py:6521: MatplotlibDeprecationWarning: \n",
      "The 'normed' kwarg was deprecated in Matplotlib 2.1 and will be removed in 3.1. Use 'density' instead.\n",
      "  alternative=\"'density'\", removal=\"3.1\")\n",
      "/Users/kevinc/anaconda3/lib/python3.6/site-packages/numpy/lib/histograms.py:824: RuntimeWarning: invalid value encountered in greater_equal\n",
      "  keep = (tmp_a >= first_edge)\n",
      "/Users/kevinc/anaconda3/lib/python3.6/site-packages/numpy/lib/histograms.py:825: RuntimeWarning: invalid value encountered in less_equal\n",
      "  keep &= (tmp_a <= last_edge)\n",
      "/Users/kevinc/anaconda3/lib/python3.6/site-packages/statsmodels/nonparametric/kde.py:448: RuntimeWarning: invalid value encountered in greater\n",
      "  X = X[np.logical_and(X > clip[0], X < clip[1])] # won't work for two columns.\n",
      "/Users/kevinc/anaconda3/lib/python3.6/site-packages/statsmodels/nonparametric/kde.py:448: RuntimeWarning: invalid value encountered in less\n",
      "  X = X[np.logical_and(X > clip[0], X < clip[1])] # won't work for two columns.\n",
      "/Users/kevinc/anaconda3/lib/python3.6/site-packages/matplotlib/axes/_axes.py:6521: MatplotlibDeprecationWarning: \n",
      "The 'normed' kwarg was deprecated in Matplotlib 2.1 and will be removed in 3.1. Use 'density' instead.\n",
      "  alternative=\"'density'\", removal=\"3.1\")\n",
      "/Users/kevinc/anaconda3/lib/python3.6/site-packages/matplotlib/axes/_axes.py:6521: MatplotlibDeprecationWarning: \n",
      "The 'normed' kwarg was deprecated in Matplotlib 2.1 and will be removed in 3.1. Use 'density' instead.\n",
      "  alternative=\"'density'\", removal=\"3.1\")\n",
      "/Users/kevinc/anaconda3/lib/python3.6/site-packages/matplotlib/axes/_axes.py:6521: MatplotlibDeprecationWarning: \n",
      "The 'normed' kwarg was deprecated in Matplotlib 2.1 and will be removed in 3.1. Use 'density' instead.\n",
      "  alternative=\"'density'\", removal=\"3.1\")\n"
     ]
    },
    {
     "data": {
      "text/plain": [
       "<matplotlib.axes._subplots.AxesSubplot at 0x124b12828>"
      ]
     },
     "execution_count": 39,
     "metadata": {},
     "output_type": "execute_result"
    },
    {
     "data": {
      "image/png": "[encoded data removed]",
      "text/plain": [
       "<Figure size 1296x792 with 4 Axes>"
      ]
     },
     "metadata": {
      "needs_background": "light"
     },
     "output_type": "display_data"
    }
   ],
   "source": [
    "# look at the distributions of the target and its most highly correlated feature\n",
    "fig, ax = plt.subplots(nrows=2, ncols=2, figsize=(18,11))\n",
    "sns.distplot(df.lot_frontage, bins=20, ax=ax[0,0])\n",
    "sns.distplot(np.log(df.lot_frontage), bins =20, ax=ax[0,1], axlabel='log(lot_frontage)')\n",
    "sns.distplot(df.lot_area, bins=20, ax=ax[1,0])\n",
    "sns.distplot(np.log(df.lot_area), bins =20, ax=ax[1,1], axlabel='log(lot_area)')"
   ]
  },
  {
   "cell_type": "markdown",
   "metadata": {},
   "source": [
    "The log of the target, lot_area, is significantly more normal than the non-log, so I'll use the log when I train the regression."
   ]
  },
  {
   "cell_type": "code",
   "execution_count": 40,
   "metadata": {},
   "outputs": [],
   "source": [
    "# define X and y values for training based on the values that are not null\n",
    "lot_not_null = df[df.lot_frontage.notnull()]\n",
    "X = lot_not_null.drop(columns=['lot_frontage', 'id'])\n",
    "y = np.log(lot_not_null.lot_frontage)"
   ]
  },
  {
   "cell_type": "code",
   "execution_count": 41,
   "metadata": {},
   "outputs": [],
   "source": [
    "# import libraries\n",
    "from sklearn.model_selection import train_test_split, cross_val_score\n",
    "from sklearn.linear_model import LinearRegression, LassoCV, RidgeCV\n",
    "from sklearn.preprocessing import StandardScaler"
   ]
  },
  {
   "cell_type": "code",
   "execution_count": 42,
   "metadata": {},
   "outputs": [],
   "source": [
    "# train test split\n",
    "X_train, X_test, y_train, y_test = train_test_split(X, y, random_state = 42)"
   ]
  },
  {
   "cell_type": "code",
   "execution_count": 43,
   "metadata": {},
   "outputs": [],
   "source": [
    "# scale\n",
    "ss = StandardScaler()\n",
    "X_train_sc = ss.fit_transform(X_train)\n",
    "X_test_sc = ss.transform(X_test)"
   ]
  },
  {
   "cell_type": "code",
   "execution_count": 44,
   "metadata": {},
   "outputs": [
    {
     "name": "stdout",
     "output_type": "stream",
     "text": [
      "train score:  0.8148317983620186\n",
      "test score:  -1.248295378153235e+20\n"
     ]
    }
   ],
   "source": [
    "# run linear regression\n",
    "lr = LinearRegression()\n",
    "lr.fit(X_train_sc, y_train)\n",
    "print('train score: ', lr.score(X_train_sc, y_train))\n",
    "print('test score: ', lr.score(X_test_sc, y_test))"
   ]
  },
  {
   "cell_type": "code",
   "execution_count": 45,
   "metadata": {},
   "outputs": [
    {
     "name": "stdout",
     "output_type": "stream",
     "text": [
      "train score:  0.7882349458679414\n",
      "test score:  0.7531759822686407\n"
     ]
    }
   ],
   "source": [
    "# run lasso regression\n",
    "lasso = LassoCV(cv=10)\n",
    "lasso.fit(X_train_sc, y_train)\n",
    "print('train score: ', lasso.score(X_train_sc, y_train))\n",
    "print('test score: ', lasso.score(X_test_sc, y_test))"
   ]
  },
  {
   "cell_type": "code",
   "execution_count": 46,
   "metadata": {},
   "outputs": [
    {
     "name": "stdout",
     "output_type": "stream",
     "text": [
      "train_score:  0.8137465428193953\n",
      "test_score:  0.7349891890361875\n"
     ]
    }
   ],
   "source": [
    "# run ridge regression\n",
    "ridge = RidgeCV(cv=10)\n",
    "ridge.fit(X_train_sc, y_train)\n",
    "print('train_score: ', ridge.score(X_train_sc, y_train))\n",
    "print('test_score: ', ridge.score(X_test_sc, y_test))"
   ]
  },
  {
   "cell_type": "markdown",
   "metadata": {},
   "source": [
    "Lasso has the best r2 scores, so I'm going to use this to impute the values."
   ]
  },
  {
   "cell_type": "code",
   "execution_count": 47,
   "metadata": {},
   "outputs": [
    {
     "name": "stderr",
     "output_type": "stream",
     "text": [
      "/Users/kevinc/anaconda3/lib/python3.6/site-packages/pandas/core/frame.py:3940: SettingWithCopyWarning: \n",
      "A value is trying to be set on a copy of a slice from a DataFrame\n",
      "\n",
      "See the caveats in the documentation: http://pandas.pydata.org/pandas-docs/stable/indexing.html#indexing-view-versus-copy\n",
      "  errors=errors)\n"
     ]
    }
   ],
   "source": [
    "# focus on just the null rows\n",
    "lot_null = df[df.lot_frontage.isnull()]\n",
    "\n",
    "# drop the lot_frontage column, which is all nulls\n",
    "lot_null.drop(columns=['lot_frontage', 'id'], inplace=True)\n",
    "\n",
    "# scale the values\n",
    "lot_null_sc = ss.transform(lot_null)\n",
    "\n",
    "# generate predictions\n",
    "preds = np.exp(lasso.predict(lot_null_sc))\n",
    "\n",
    "# insert the predictions into the testing dataframe\n",
    "null_lot_indices = list(df[df.lot_frontage.isnull()].index)\n",
    "for j,i in enumerate(null_lot_indices):\n",
    "    df.loc[i, 'lot_frontage'] = preds[j]"
   ]
  },
  {
   "cell_type": "markdown",
   "metadata": {},
   "source": [
    "I want to check that the right predictions were imputed."
   ]
  },
  {
   "cell_type": "code",
   "execution_count": 48,
   "metadata": {},
   "outputs": [
    {
     "name": "stdout",
     "output_type": "stream",
     "text": [
      "predictions: [51.48087857 79.05055432 69.21300819 69.15482855 68.37303498]\n",
      "\n",
      "imputations:\n",
      " 0     51.480879\n",
      "7     79.050554\n",
      "8     69.213008\n",
      "23    69.154829\n",
      "27    68.373035\n",
      "Name: lot_frontage, dtype: float64\n"
     ]
    }
   ],
   "source": [
    "# check first five predictions\n",
    "print('predictions:', preds[:5])\n",
    "\n",
    "# check first five imputations\n",
    "print('\\nimputations:\\n', df.lot_frontage[null_lot_indices].head())"
   ]
  },
  {
   "cell_type": "markdown",
   "metadata": {},
   "source": [
    "Looks good. Now I have to impute the values for the holdout set."
   ]
  },
  {
   "cell_type": "code",
   "execution_count": 49,
   "metadata": {},
   "outputs": [],
   "source": [
    "# define X and y values for training based on the values that are not null\n",
    "holdout_lot_not_null = holdout[holdout.lot_frontage.notnull()]\n",
    "X = holdout_lot_not_null.drop(columns=['lot_frontage', 'id'])\n",
    "y = np.log(holdout_lot_not_null.lot_frontage)"
   ]
  },
  {
   "cell_type": "code",
   "execution_count": 50,
   "metadata": {},
   "outputs": [],
   "source": [
    "X_train, X_test, y_train, y_test = train_test_split(X, y, random_state = 42)"
   ]
  },
  {
   "cell_type": "code",
   "execution_count": 51,
   "metadata": {},
   "outputs": [],
   "source": [
    "# scale\n",
    "ss = StandardScaler()\n",
    "X_train_sc = ss.fit_transform(X_train)\n",
    "X_test_sc = ss.transform(X_test)"
   ]
  },
  {
   "cell_type": "code",
   "execution_count": 52,
   "metadata": {},
   "outputs": [
    {
     "name": "stdout",
     "output_type": "stream",
     "text": [
      "train score:  0.7802999468962758\n",
      "test score:  0.6862402299981372\n"
     ]
    }
   ],
   "source": [
    "# run lasso regression\n",
    "lasso = LassoCV(cv=10)\n",
    "lasso.fit(X_train_sc, y_train)\n",
    "print('train score: ', lasso.score(X_train_sc, y_train))\n",
    "print('test score: ', lasso.score(X_test_sc, y_test))"
   ]
  },
  {
   "cell_type": "code",
   "execution_count": 53,
   "metadata": {},
   "outputs": [
    {
     "name": "stdout",
     "output_type": "stream",
     "text": [
      "train_score:  0.8477733438015469\n",
      "test_score:  0.6078163614887584\n"
     ]
    }
   ],
   "source": [
    "# run ridge regression\n",
    "ridge = RidgeCV(cv=10)\n",
    "ridge.fit(X_train_sc, y_train)\n",
    "print('train_score: ', ridge.score(X_train_sc, y_train))\n",
    "print('test_score: ', ridge.score(X_test_sc, y_test))"
   ]
  },
  {
   "cell_type": "markdown",
   "metadata": {},
   "source": [
    "Lasso has higher scores again, so I'll impute with Lasso regression."
   ]
  },
  {
   "cell_type": "code",
   "execution_count": 54,
   "metadata": {},
   "outputs": [
    {
     "name": "stdout",
     "output_type": "stream",
     "text": [
      "predictions: [77.15590217 79.58259757 55.74751405 82.95344376 75.6520643 ]\n",
      "\n",
      "imputations:\n",
      " 1     77.155902\n",
      "4     79.582598\n",
      "7     55.747514\n",
      "13    82.953444\n",
      "20    75.652064\n",
      "Name: lot_frontage, dtype: float64\n"
     ]
    },
    {
     "name": "stderr",
     "output_type": "stream",
     "text": [
      "/Users/kevinc/anaconda3/lib/python3.6/site-packages/pandas/core/frame.py:3940: SettingWithCopyWarning: \n",
      "A value is trying to be set on a copy of a slice from a DataFrame\n",
      "\n",
      "See the caveats in the documentation: http://pandas.pydata.org/pandas-docs/stable/indexing.html#indexing-view-versus-copy\n",
      "  errors=errors)\n"
     ]
    }
   ],
   "source": [
    "# focus on just the null rows\n",
    "holdout_lot_null = holdout[holdout.lot_frontage.isnull()]\n",
    "\n",
    "# drop the lot_frontage column, which is all nulls\n",
    "holdout_lot_null.drop(columns=['lot_frontage', 'id'], inplace=True)\n",
    "\n",
    "# scale the values\n",
    "holdout_lot_null_sc = ss.transform(holdout_lot_null)\n",
    "\n",
    "# generate predictions\n",
    "preds = np.exp(lasso.predict(holdout_lot_null_sc))\n",
    "\n",
    "# insert predictions into the holdout dataframe\n",
    "holdout_indices = list(holdout[holdout.lot_frontage.isnull()].index)\n",
    "for j,i in enumerate(holdout_indices):\n",
    "    holdout.loc[i, 'lot_frontage'] = preds[j]\n",
    "\n",
    "# check first five predictions\n",
    "print('predictions:', preds[:5])\n",
    "\n",
    "# check first five imputations\n",
    "print('\\nimputations:\\n', holdout.lot_frontage[holdout_indices].head())"
   ]
  },
  {
   "cell_type": "code",
   "execution_count": 55,
   "metadata": {},
   "outputs": [
    {
     "data": {
      "text/plain": [
       "0"
      ]
     },
     "execution_count": 55,
     "metadata": {},
     "output_type": "execute_result"
    }
   ],
   "source": [
    "# check remaining nulls for test set\n",
    "len(check_nulls(df))"
   ]
  },
  {
   "cell_type": "code",
   "execution_count": 56,
   "metadata": {},
   "outputs": [
    {
     "data": {
      "text/plain": [
       "0"
      ]
     },
     "execution_count": 56,
     "metadata": {},
     "output_type": "execute_result"
    }
   ],
   "source": [
    "# check remaining nulls for holdout set\n",
    "len(check_nulls(holdout))"
   ]
  },
  {
   "cell_type": "markdown",
   "metadata": {},
   "source": [
    "## Describe the summary statistics for the columns"
   ]
  },
  {
   "cell_type": "code",
   "execution_count": 57,
   "metadata": {},
   "outputs": [
    {
     "data": {
      "text/html": [
       "<div>\n",
       "<style scoped>\n",
       "    .dataframe tbody tr th:only-of-type {\n",
       "        vertical-align: middle;\n",
       "    }\n",
       "\n",
       "    .dataframe tbody tr th {\n",
       "        vertical-align: top;\n",
       "    }\n",
       "\n",
       "    .dataframe thead th {\n",
       "        text-align: right;\n",
       "    }\n",
       "</style>\n",
       "<table border=\"1\" class=\"dataframe\">\n",
       "  <thead>\n",
       "    <tr style=\"text-align: right;\">\n",
       "      <th></th>\n",
       "      <th>count</th>\n",
       "      <th>mean</th>\n",
       "      <th>std</th>\n",
       "      <th>min</th>\n",
       "      <th>25%</th>\n",
       "      <th>50%</th>\n",
       "      <th>75%</th>\n",
       "      <th>max</th>\n",
       "    </tr>\n",
       "  </thead>\n",
       "  <tbody>\n",
       "    <tr>\n",
       "      <th>id</th>\n",
       "      <td>2050.0</td>\n",
       "      <td>1473.661463</td>\n",
       "      <td>844.018399</td>\n",
       "      <td>1.0</td>\n",
       "      <td>753.25</td>\n",
       "      <td>1483.5</td>\n",
       "      <td>2196.50</td>\n",
       "      <td>2930.000000</td>\n",
       "    </tr>\n",
       "    <tr>\n",
       "      <th>ms_subclass</th>\n",
       "      <td>2050.0</td>\n",
       "      <td>57.002439</td>\n",
       "      <td>42.833710</td>\n",
       "      <td>20.0</td>\n",
       "      <td>20.00</td>\n",
       "      <td>50.0</td>\n",
       "      <td>70.00</td>\n",
       "      <td>190.000000</td>\n",
       "    </tr>\n",
       "    <tr>\n",
       "      <th>lot_frontage</th>\n",
       "      <td>2050.0</td>\n",
       "      <td>69.347415</td>\n",
       "      <td>23.431611</td>\n",
       "      <td>21.0</td>\n",
       "      <td>58.00</td>\n",
       "      <td>69.0</td>\n",
       "      <td>80.00</td>\n",
       "      <td>314.769671</td>\n",
       "    </tr>\n",
       "    <tr>\n",
       "      <th>lot_area</th>\n",
       "      <td>2050.0</td>\n",
       "      <td>10065.698537</td>\n",
       "      <td>6744.097442</td>\n",
       "      <td>1300.0</td>\n",
       "      <td>7500.00</td>\n",
       "      <td>9432.0</td>\n",
       "      <td>11514.25</td>\n",
       "      <td>159000.000000</td>\n",
       "    </tr>\n",
       "    <tr>\n",
       "      <th>lot_shape</th>\n",
       "      <td>2050.0</td>\n",
       "      <td>2.595610</td>\n",
       "      <td>0.566582</td>\n",
       "      <td>0.0</td>\n",
       "      <td>2.00</td>\n",
       "      <td>3.0</td>\n",
       "      <td>3.00</td>\n",
       "      <td>3.000000</td>\n",
       "    </tr>\n",
       "    <tr>\n",
       "      <th>utilities</th>\n",
       "      <td>2050.0</td>\n",
       "      <td>2.998537</td>\n",
       "      <td>0.049377</td>\n",
       "      <td>1.0</td>\n",
       "      <td>3.00</td>\n",
       "      <td>3.0</td>\n",
       "      <td>3.00</td>\n",
       "      <td>3.000000</td>\n",
       "    </tr>\n",
       "    <tr>\n",
       "      <th>land_slope</th>\n",
       "      <td>2050.0</td>\n",
       "      <td>1.947317</td>\n",
       "      <td>0.244321</td>\n",
       "      <td>0.0</td>\n",
       "      <td>2.00</td>\n",
       "      <td>2.0</td>\n",
       "      <td>2.00</td>\n",
       "      <td>2.000000</td>\n",
       "    </tr>\n",
       "    <tr>\n",
       "      <th>overall_qual</th>\n",
       "      <td>2050.0</td>\n",
       "      <td>6.112683</td>\n",
       "      <td>1.426407</td>\n",
       "      <td>1.0</td>\n",
       "      <td>5.00</td>\n",
       "      <td>6.0</td>\n",
       "      <td>7.00</td>\n",
       "      <td>10.000000</td>\n",
       "    </tr>\n",
       "    <tr>\n",
       "      <th>overall_cond</th>\n",
       "      <td>2050.0</td>\n",
       "      <td>5.561951</td>\n",
       "      <td>1.104724</td>\n",
       "      <td>1.0</td>\n",
       "      <td>5.00</td>\n",
       "      <td>5.0</td>\n",
       "      <td>6.00</td>\n",
       "      <td>9.000000</td>\n",
       "    </tr>\n",
       "    <tr>\n",
       "      <th>year_built</th>\n",
       "      <td>2050.0</td>\n",
       "      <td>1971.732683</td>\n",
       "      <td>30.166057</td>\n",
       "      <td>1872.0</td>\n",
       "      <td>1954.00</td>\n",
       "      <td>1974.0</td>\n",
       "      <td>2001.00</td>\n",
       "      <td>2010.000000</td>\n",
       "    </tr>\n",
       "    <tr>\n",
       "      <th>year_remod/add</th>\n",
       "      <td>2050.0</td>\n",
       "      <td>1984.182927</td>\n",
       "      <td>21.038838</td>\n",
       "      <td>1950.0</td>\n",
       "      <td>1964.25</td>\n",
       "      <td>1993.0</td>\n",
       "      <td>2004.00</td>\n",
       "      <td>2010.000000</td>\n",
       "    </tr>\n",
       "    <tr>\n",
       "      <th>mas_vnr_area</th>\n",
       "      <td>2050.0</td>\n",
       "      <td>98.674634</td>\n",
       "      <td>174.353604</td>\n",
       "      <td>0.0</td>\n",
       "      <td>0.00</td>\n",
       "      <td>0.0</td>\n",
       "      <td>159.50</td>\n",
       "      <td>1600.000000</td>\n",
       "    </tr>\n",
       "    <tr>\n",
       "      <th>exter_qual</th>\n",
       "      <td>2050.0</td>\n",
       "      <td>3.406341</td>\n",
       "      <td>0.588037</td>\n",
       "      <td>2.0</td>\n",
       "      <td>3.00</td>\n",
       "      <td>3.0</td>\n",
       "      <td>4.00</td>\n",
       "      <td>5.000000</td>\n",
       "    </tr>\n",
       "    <tr>\n",
       "      <th>exter_cond</th>\n",
       "      <td>2050.0</td>\n",
       "      <td>3.085854</td>\n",
       "      <td>0.372879</td>\n",
       "      <td>1.0</td>\n",
       "      <td>3.00</td>\n",
       "      <td>3.0</td>\n",
       "      <td>3.00</td>\n",
       "      <td>5.000000</td>\n",
       "    </tr>\n",
       "    <tr>\n",
       "      <th>bsmt_qual</th>\n",
       "      <td>2050.0</td>\n",
       "      <td>3.489756</td>\n",
       "      <td>0.901786</td>\n",
       "      <td>0.0</td>\n",
       "      <td>3.00</td>\n",
       "      <td>4.0</td>\n",
       "      <td>4.00</td>\n",
       "      <td>5.000000</td>\n",
       "    </tr>\n",
       "    <tr>\n",
       "      <th>bsmt_cond</th>\n",
       "      <td>2050.0</td>\n",
       "      <td>2.929268</td>\n",
       "      <td>0.572147</td>\n",
       "      <td>0.0</td>\n",
       "      <td>3.00</td>\n",
       "      <td>3.0</td>\n",
       "      <td>3.00</td>\n",
       "      <td>5.000000</td>\n",
       "    </tr>\n",
       "    <tr>\n",
       "      <th>bsmt_exposure</th>\n",
       "      <td>2050.0</td>\n",
       "      <td>1.629268</td>\n",
       "      <td>1.079614</td>\n",
       "      <td>0.0</td>\n",
       "      <td>1.00</td>\n",
       "      <td>1.0</td>\n",
       "      <td>2.00</td>\n",
       "      <td>4.000000</td>\n",
       "    </tr>\n",
       "    <tr>\n",
       "      <th>bsmtfin_type_1</th>\n",
       "      <td>2050.0</td>\n",
       "      <td>3.563902</td>\n",
       "      <td>2.125874</td>\n",
       "      <td>0.0</td>\n",
       "      <td>1.00</td>\n",
       "      <td>4.0</td>\n",
       "      <td>6.00</td>\n",
       "      <td>6.000000</td>\n",
       "    </tr>\n",
       "    <tr>\n",
       "      <th>bsmtfin_sf_1</th>\n",
       "      <td>2050.0</td>\n",
       "      <td>442.033171</td>\n",
       "      <td>461.301632</td>\n",
       "      <td>0.0</td>\n",
       "      <td>0.00</td>\n",
       "      <td>368.0</td>\n",
       "      <td>733.75</td>\n",
       "      <td>5644.000000</td>\n",
       "    </tr>\n",
       "    <tr>\n",
       "      <th>bsmtfin_type_2</th>\n",
       "      <td>2050.0</td>\n",
       "      <td>1.274634</td>\n",
       "      <td>0.949784</td>\n",
       "      <td>0.0</td>\n",
       "      <td>1.00</td>\n",
       "      <td>1.0</td>\n",
       "      <td>1.00</td>\n",
       "      <td>6.000000</td>\n",
       "    </tr>\n",
       "    <tr>\n",
       "      <th>bsmtfin_sf_2</th>\n",
       "      <td>2050.0</td>\n",
       "      <td>47.959024</td>\n",
       "      <td>165.000901</td>\n",
       "      <td>0.0</td>\n",
       "      <td>0.00</td>\n",
       "      <td>0.0</td>\n",
       "      <td>0.00</td>\n",
       "      <td>1474.000000</td>\n",
       "    </tr>\n",
       "    <tr>\n",
       "      <th>bsmt_unf_sf</th>\n",
       "      <td>2050.0</td>\n",
       "      <td>567.576585</td>\n",
       "      <td>445.095355</td>\n",
       "      <td>0.0</td>\n",
       "      <td>220.00</td>\n",
       "      <td>474.5</td>\n",
       "      <td>811.00</td>\n",
       "      <td>2336.000000</td>\n",
       "    </tr>\n",
       "    <tr>\n",
       "      <th>total_bsmt_sf</th>\n",
       "      <td>2050.0</td>\n",
       "      <td>1057.568780</td>\n",
       "      <td>449.996406</td>\n",
       "      <td>0.0</td>\n",
       "      <td>793.00</td>\n",
       "      <td>994.5</td>\n",
       "      <td>1318.75</td>\n",
       "      <td>6110.000000</td>\n",
       "    </tr>\n",
       "    <tr>\n",
       "      <th>heating_qc</th>\n",
       "      <td>2050.0</td>\n",
       "      <td>4.158049</td>\n",
       "      <td>0.964168</td>\n",
       "      <td>1.0</td>\n",
       "      <td>3.00</td>\n",
       "      <td>5.0</td>\n",
       "      <td>5.00</td>\n",
       "      <td>5.000000</td>\n",
       "    </tr>\n",
       "    <tr>\n",
       "      <th>central_air</th>\n",
       "      <td>2050.0</td>\n",
       "      <td>0.931220</td>\n",
       "      <td>0.253142</td>\n",
       "      <td>0.0</td>\n",
       "      <td>1.00</td>\n",
       "      <td>1.0</td>\n",
       "      <td>1.00</td>\n",
       "      <td>1.000000</td>\n",
       "    </tr>\n",
       "    <tr>\n",
       "      <th>electrical</th>\n",
       "      <td>2050.0</td>\n",
       "      <td>3.885366</td>\n",
       "      <td>0.402567</td>\n",
       "      <td>0.0</td>\n",
       "      <td>4.00</td>\n",
       "      <td>4.0</td>\n",
       "      <td>4.00</td>\n",
       "      <td>4.000000</td>\n",
       "    </tr>\n",
       "    <tr>\n",
       "      <th>1st_flr_sf</th>\n",
       "      <td>2050.0</td>\n",
       "      <td>1164.596585</td>\n",
       "      <td>396.513176</td>\n",
       "      <td>334.0</td>\n",
       "      <td>879.25</td>\n",
       "      <td>1093.0</td>\n",
       "      <td>1405.00</td>\n",
       "      <td>5095.000000</td>\n",
       "    </tr>\n",
       "    <tr>\n",
       "      <th>2nd_flr_sf</th>\n",
       "      <td>2050.0</td>\n",
       "      <td>329.057561</td>\n",
       "      <td>425.597182</td>\n",
       "      <td>0.0</td>\n",
       "      <td>0.00</td>\n",
       "      <td>0.0</td>\n",
       "      <td>690.75</td>\n",
       "      <td>1862.000000</td>\n",
       "    </tr>\n",
       "    <tr>\n",
       "      <th>low_qual_fin_sf</th>\n",
       "      <td>2050.0</td>\n",
       "      <td>5.515610</td>\n",
       "      <td>51.081185</td>\n",
       "      <td>0.0</td>\n",
       "      <td>0.00</td>\n",
       "      <td>0.0</td>\n",
       "      <td>0.00</td>\n",
       "      <td>1064.000000</td>\n",
       "    </tr>\n",
       "    <tr>\n",
       "      <th>gr_liv_area</th>\n",
       "      <td>2050.0</td>\n",
       "      <td>1499.169756</td>\n",
       "      <td>500.517246</td>\n",
       "      <td>334.0</td>\n",
       "      <td>1128.50</td>\n",
       "      <td>1444.0</td>\n",
       "      <td>1728.00</td>\n",
       "      <td>5642.000000</td>\n",
       "    </tr>\n",
       "    <tr>\n",
       "      <th>...</th>\n",
       "      <td>...</td>\n",
       "      <td>...</td>\n",
       "      <td>...</td>\n",
       "      <td>...</td>\n",
       "      <td>...</td>\n",
       "      <td>...</td>\n",
       "      <td>...</td>\n",
       "      <td>...</td>\n",
       "    </tr>\n",
       "    <tr>\n",
       "      <th>exterior_2nd_Stone</th>\n",
       "      <td>2050.0</td>\n",
       "      <td>0.002927</td>\n",
       "      <td>0.054034</td>\n",
       "      <td>0.0</td>\n",
       "      <td>0.00</td>\n",
       "      <td>0.0</td>\n",
       "      <td>0.00</td>\n",
       "      <td>1.000000</td>\n",
       "    </tr>\n",
       "    <tr>\n",
       "      <th>exterior_2nd_Stucco</th>\n",
       "      <td>2050.0</td>\n",
       "      <td>0.014634</td>\n",
       "      <td>0.120113</td>\n",
       "      <td>0.0</td>\n",
       "      <td>0.00</td>\n",
       "      <td>0.0</td>\n",
       "      <td>0.00</td>\n",
       "      <td>1.000000</td>\n",
       "    </tr>\n",
       "    <tr>\n",
       "      <th>exterior_2nd_VinylSd</th>\n",
       "      <td>2050.0</td>\n",
       "      <td>0.351707</td>\n",
       "      <td>0.477620</td>\n",
       "      <td>0.0</td>\n",
       "      <td>0.00</td>\n",
       "      <td>0.0</td>\n",
       "      <td>1.00</td>\n",
       "      <td>1.000000</td>\n",
       "    </tr>\n",
       "    <tr>\n",
       "      <th>exterior_2nd_Wd Sdng</th>\n",
       "      <td>2050.0</td>\n",
       "      <td>0.127805</td>\n",
       "      <td>0.333954</td>\n",
       "      <td>0.0</td>\n",
       "      <td>0.00</td>\n",
       "      <td>0.0</td>\n",
       "      <td>0.00</td>\n",
       "      <td>1.000000</td>\n",
       "    </tr>\n",
       "    <tr>\n",
       "      <th>exterior_2nd_Wd Shng</th>\n",
       "      <td>2050.0</td>\n",
       "      <td>0.030732</td>\n",
       "      <td>0.172632</td>\n",
       "      <td>0.0</td>\n",
       "      <td>0.00</td>\n",
       "      <td>0.0</td>\n",
       "      <td>0.00</td>\n",
       "      <td>1.000000</td>\n",
       "    </tr>\n",
       "    <tr>\n",
       "      <th>mas_vnr_type_BrkFace</th>\n",
       "      <td>2050.0</td>\n",
       "      <td>0.307317</td>\n",
       "      <td>0.461495</td>\n",
       "      <td>0.0</td>\n",
       "      <td>0.00</td>\n",
       "      <td>0.0</td>\n",
       "      <td>1.00</td>\n",
       "      <td>1.000000</td>\n",
       "    </tr>\n",
       "    <tr>\n",
       "      <th>mas_vnr_type_None</th>\n",
       "      <td>2050.0</td>\n",
       "      <td>0.593659</td>\n",
       "      <td>0.491270</td>\n",
       "      <td>0.0</td>\n",
       "      <td>0.00</td>\n",
       "      <td>1.0</td>\n",
       "      <td>1.00</td>\n",
       "      <td>1.000000</td>\n",
       "    </tr>\n",
       "    <tr>\n",
       "      <th>mas_vnr_type_Stone</th>\n",
       "      <td>2050.0</td>\n",
       "      <td>0.081951</td>\n",
       "      <td>0.274357</td>\n",
       "      <td>0.0</td>\n",
       "      <td>0.00</td>\n",
       "      <td>0.0</td>\n",
       "      <td>0.00</td>\n",
       "      <td>1.000000</td>\n",
       "    </tr>\n",
       "    <tr>\n",
       "      <th>foundation_CBlock</th>\n",
       "      <td>2050.0</td>\n",
       "      <td>0.420976</td>\n",
       "      <td>0.493836</td>\n",
       "      <td>0.0</td>\n",
       "      <td>0.00</td>\n",
       "      <td>0.0</td>\n",
       "      <td>1.00</td>\n",
       "      <td>1.000000</td>\n",
       "    </tr>\n",
       "    <tr>\n",
       "      <th>foundation_PConc</th>\n",
       "      <td>2050.0</td>\n",
       "      <td>0.451707</td>\n",
       "      <td>0.497784</td>\n",
       "      <td>0.0</td>\n",
       "      <td>0.00</td>\n",
       "      <td>0.0</td>\n",
       "      <td>1.00</td>\n",
       "      <td>1.000000</td>\n",
       "    </tr>\n",
       "    <tr>\n",
       "      <th>foundation_Slab</th>\n",
       "      <td>2050.0</td>\n",
       "      <td>0.016585</td>\n",
       "      <td>0.127743</td>\n",
       "      <td>0.0</td>\n",
       "      <td>0.00</td>\n",
       "      <td>0.0</td>\n",
       "      <td>0.00</td>\n",
       "      <td>1.000000</td>\n",
       "    </tr>\n",
       "    <tr>\n",
       "      <th>foundation_Stone</th>\n",
       "      <td>2050.0</td>\n",
       "      <td>0.002439</td>\n",
       "      <td>0.049338</td>\n",
       "      <td>0.0</td>\n",
       "      <td>0.00</td>\n",
       "      <td>0.0</td>\n",
       "      <td>0.00</td>\n",
       "      <td>1.000000</td>\n",
       "    </tr>\n",
       "    <tr>\n",
       "      <th>foundation_Wood</th>\n",
       "      <td>2050.0</td>\n",
       "      <td>0.000976</td>\n",
       "      <td>0.031227</td>\n",
       "      <td>0.0</td>\n",
       "      <td>0.00</td>\n",
       "      <td>0.0</td>\n",
       "      <td>0.00</td>\n",
       "      <td>1.000000</td>\n",
       "    </tr>\n",
       "    <tr>\n",
       "      <th>heating_GasW</th>\n",
       "      <td>2050.0</td>\n",
       "      <td>0.009756</td>\n",
       "      <td>0.098314</td>\n",
       "      <td>0.0</td>\n",
       "      <td>0.00</td>\n",
       "      <td>0.0</td>\n",
       "      <td>0.00</td>\n",
       "      <td>1.000000</td>\n",
       "    </tr>\n",
       "    <tr>\n",
       "      <th>heating_Grav</th>\n",
       "      <td>2050.0</td>\n",
       "      <td>0.002439</td>\n",
       "      <td>0.049338</td>\n",
       "      <td>0.0</td>\n",
       "      <td>0.00</td>\n",
       "      <td>0.0</td>\n",
       "      <td>0.00</td>\n",
       "      <td>1.000000</td>\n",
       "    </tr>\n",
       "    <tr>\n",
       "      <th>heating_OthW</th>\n",
       "      <td>2050.0</td>\n",
       "      <td>0.000976</td>\n",
       "      <td>0.031227</td>\n",
       "      <td>0.0</td>\n",
       "      <td>0.00</td>\n",
       "      <td>0.0</td>\n",
       "      <td>0.00</td>\n",
       "      <td>1.000000</td>\n",
       "    </tr>\n",
       "    <tr>\n",
       "      <th>heating_Wall</th>\n",
       "      <td>2050.0</td>\n",
       "      <td>0.002927</td>\n",
       "      <td>0.054034</td>\n",
       "      <td>0.0</td>\n",
       "      <td>0.00</td>\n",
       "      <td>0.0</td>\n",
       "      <td>0.00</td>\n",
       "      <td>1.000000</td>\n",
       "    </tr>\n",
       "    <tr>\n",
       "      <th>garage_type_Attchd</th>\n",
       "      <td>2050.0</td>\n",
       "      <td>0.591707</td>\n",
       "      <td>0.491638</td>\n",
       "      <td>0.0</td>\n",
       "      <td>0.00</td>\n",
       "      <td>1.0</td>\n",
       "      <td>1.00</td>\n",
       "      <td>1.000000</td>\n",
       "    </tr>\n",
       "    <tr>\n",
       "      <th>garage_type_Basment</th>\n",
       "      <td>2050.0</td>\n",
       "      <td>0.013171</td>\n",
       "      <td>0.114033</td>\n",
       "      <td>0.0</td>\n",
       "      <td>0.00</td>\n",
       "      <td>0.0</td>\n",
       "      <td>0.00</td>\n",
       "      <td>1.000000</td>\n",
       "    </tr>\n",
       "    <tr>\n",
       "      <th>garage_type_BuiltIn</th>\n",
       "      <td>2050.0</td>\n",
       "      <td>0.064390</td>\n",
       "      <td>0.245507</td>\n",
       "      <td>0.0</td>\n",
       "      <td>0.00</td>\n",
       "      <td>0.0</td>\n",
       "      <td>0.00</td>\n",
       "      <td>1.000000</td>\n",
       "    </tr>\n",
       "    <tr>\n",
       "      <th>garage_type_CarPort</th>\n",
       "      <td>2050.0</td>\n",
       "      <td>0.005366</td>\n",
       "      <td>0.073073</td>\n",
       "      <td>0.0</td>\n",
       "      <td>0.00</td>\n",
       "      <td>0.0</td>\n",
       "      <td>0.00</td>\n",
       "      <td>1.000000</td>\n",
       "    </tr>\n",
       "    <tr>\n",
       "      <th>garage_type_Detchd</th>\n",
       "      <td>2050.0</td>\n",
       "      <td>0.260976</td>\n",
       "      <td>0.439274</td>\n",
       "      <td>0.0</td>\n",
       "      <td>0.00</td>\n",
       "      <td>0.0</td>\n",
       "      <td>1.00</td>\n",
       "      <td>1.000000</td>\n",
       "    </tr>\n",
       "    <tr>\n",
       "      <th>sale_type_CWD</th>\n",
       "      <td>2050.0</td>\n",
       "      <td>0.004878</td>\n",
       "      <td>0.069689</td>\n",
       "      <td>0.0</td>\n",
       "      <td>0.00</td>\n",
       "      <td>0.0</td>\n",
       "      <td>0.00</td>\n",
       "      <td>1.000000</td>\n",
       "    </tr>\n",
       "    <tr>\n",
       "      <th>sale_type_Con</th>\n",
       "      <td>2050.0</td>\n",
       "      <td>0.001951</td>\n",
       "      <td>0.044140</td>\n",
       "      <td>0.0</td>\n",
       "      <td>0.00</td>\n",
       "      <td>0.0</td>\n",
       "      <td>0.00</td>\n",
       "      <td>1.000000</td>\n",
       "    </tr>\n",
       "    <tr>\n",
       "      <th>sale_type_ConLD</th>\n",
       "      <td>2050.0</td>\n",
       "      <td>0.008293</td>\n",
       "      <td>0.090708</td>\n",
       "      <td>0.0</td>\n",
       "      <td>0.00</td>\n",
       "      <td>0.0</td>\n",
       "      <td>0.00</td>\n",
       "      <td>1.000000</td>\n",
       "    </tr>\n",
       "    <tr>\n",
       "      <th>sale_type_ConLI</th>\n",
       "      <td>2050.0</td>\n",
       "      <td>0.003415</td>\n",
       "      <td>0.058349</td>\n",
       "      <td>0.0</td>\n",
       "      <td>0.00</td>\n",
       "      <td>0.0</td>\n",
       "      <td>0.00</td>\n",
       "      <td>1.000000</td>\n",
       "    </tr>\n",
       "    <tr>\n",
       "      <th>sale_type_ConLw</th>\n",
       "      <td>2050.0</td>\n",
       "      <td>0.002439</td>\n",
       "      <td>0.049338</td>\n",
       "      <td>0.0</td>\n",
       "      <td>0.00</td>\n",
       "      <td>0.0</td>\n",
       "      <td>0.00</td>\n",
       "      <td>1.000000</td>\n",
       "    </tr>\n",
       "    <tr>\n",
       "      <th>sale_type_New</th>\n",
       "      <td>2050.0</td>\n",
       "      <td>0.078049</td>\n",
       "      <td>0.268314</td>\n",
       "      <td>0.0</td>\n",
       "      <td>0.00</td>\n",
       "      <td>0.0</td>\n",
       "      <td>0.00</td>\n",
       "      <td>1.000000</td>\n",
       "    </tr>\n",
       "    <tr>\n",
       "      <th>sale_type_Oth</th>\n",
       "      <td>2050.0</td>\n",
       "      <td>0.001951</td>\n",
       "      <td>0.044140</td>\n",
       "      <td>0.0</td>\n",
       "      <td>0.00</td>\n",
       "      <td>0.0</td>\n",
       "      <td>0.00</td>\n",
       "      <td>1.000000</td>\n",
       "    </tr>\n",
       "    <tr>\n",
       "      <th>sale_type_WD</th>\n",
       "      <td>2050.0</td>\n",
       "      <td>0.868293</td>\n",
       "      <td>0.338255</td>\n",
       "      <td>0.0</td>\n",
       "      <td>1.00</td>\n",
       "      <td>1.0</td>\n",
       "      <td>1.00</td>\n",
       "      <td>1.000000</td>\n",
       "    </tr>\n",
       "  </tbody>\n",
       "</table>\n",
       "<p>187 rows × 8 columns</p>\n",
       "</div>"
      ],
      "text/plain": [
       "                       count          mean          std     min      25%  \\\n",
       "id                    2050.0   1473.661463   844.018399     1.0   753.25   \n",
       "ms_subclass           2050.0     57.002439    42.833710    20.0    20.00   \n",
       "lot_frontage          2050.0     69.347415    23.431611    21.0    58.00   \n",
       "lot_area              2050.0  10065.698537  6744.097442  1300.0  7500.00   \n",
       "lot_shape             2050.0      2.595610     0.566582     0.0     2.00   \n",
       "utilities             2050.0      2.998537     0.049377     1.0     3.00   \n",
       "land_slope            2050.0      1.947317     0.244321     0.0     2.00   \n",
       "overall_qual          2050.0      6.112683     1.426407     1.0     5.00   \n",
       "overall_cond          2050.0      5.561951     1.104724     1.0     5.00   \n",
       "year_built            2050.0   1971.732683    30.166057  1872.0  1954.00   \n",
       "year_remod/add        2050.0   1984.182927    21.038838  1950.0  1964.25   \n",
       "mas_vnr_area          2050.0     98.674634   174.353604     0.0     0.00   \n",
       "exter_qual            2050.0      3.406341     0.588037     2.0     3.00   \n",
       "exter_cond            2050.0      3.085854     0.372879     1.0     3.00   \n",
       "bsmt_qual             2050.0      3.489756     0.901786     0.0     3.00   \n",
       "bsmt_cond             2050.0      2.929268     0.572147     0.0     3.00   \n",
       "bsmt_exposure         2050.0      1.629268     1.079614     0.0     1.00   \n",
       "bsmtfin_type_1        2050.0      3.563902     2.125874     0.0     1.00   \n",
       "bsmtfin_sf_1          2050.0    442.033171   461.301632     0.0     0.00   \n",
       "bsmtfin_type_2        2050.0      1.274634     0.949784     0.0     1.00   \n",
       "bsmtfin_sf_2          2050.0     47.959024   165.000901     0.0     0.00   \n",
       "bsmt_unf_sf           2050.0    567.576585   445.095355     0.0   220.00   \n",
       "total_bsmt_sf         2050.0   1057.568780   449.996406     0.0   793.00   \n",
       "heating_qc            2050.0      4.158049     0.964168     1.0     3.00   \n",
       "central_air           2050.0      0.931220     0.253142     0.0     1.00   \n",
       "electrical            2050.0      3.885366     0.402567     0.0     4.00   \n",
       "1st_flr_sf            2050.0   1164.596585   396.513176   334.0   879.25   \n",
       "2nd_flr_sf            2050.0    329.057561   425.597182     0.0     0.00   \n",
       "low_qual_fin_sf       2050.0      5.515610    51.081185     0.0     0.00   \n",
       "gr_liv_area           2050.0   1499.169756   500.517246   334.0  1128.50   \n",
       "...                      ...           ...          ...     ...      ...   \n",
       "exterior_2nd_Stone    2050.0      0.002927     0.054034     0.0     0.00   \n",
       "exterior_2nd_Stucco   2050.0      0.014634     0.120113     0.0     0.00   \n",
       "exterior_2nd_VinylSd  2050.0      0.351707     0.477620     0.0     0.00   \n",
       "exterior_2nd_Wd Sdng  2050.0      0.127805     0.333954     0.0     0.00   \n",
       "exterior_2nd_Wd Shng  2050.0      0.030732     0.172632     0.0     0.00   \n",
       "mas_vnr_type_BrkFace  2050.0      0.307317     0.461495     0.0     0.00   \n",
       "mas_vnr_type_None     2050.0      0.593659     0.491270     0.0     0.00   \n",
       "mas_vnr_type_Stone    2050.0      0.081951     0.274357     0.0     0.00   \n",
       "foundation_CBlock     2050.0      0.420976     0.493836     0.0     0.00   \n",
       "foundation_PConc      2050.0      0.451707     0.497784     0.0     0.00   \n",
       "foundation_Slab       2050.0      0.016585     0.127743     0.0     0.00   \n",
       "foundation_Stone      2050.0      0.002439     0.049338     0.0     0.00   \n",
       "foundation_Wood       2050.0      0.000976     0.031227     0.0     0.00   \n",
       "heating_GasW          2050.0      0.009756     0.098314     0.0     0.00   \n",
       "heating_Grav          2050.0      0.002439     0.049338     0.0     0.00   \n",
       "heating_OthW          2050.0      0.000976     0.031227     0.0     0.00   \n",
       "heating_Wall          2050.0      0.002927     0.054034     0.0     0.00   \n",
       "garage_type_Attchd    2050.0      0.591707     0.491638     0.0     0.00   \n",
       "garage_type_Basment   2050.0      0.013171     0.114033     0.0     0.00   \n",
       "garage_type_BuiltIn   2050.0      0.064390     0.245507     0.0     0.00   \n",
       "garage_type_CarPort   2050.0      0.005366     0.073073     0.0     0.00   \n",
       "garage_type_Detchd    2050.0      0.260976     0.439274     0.0     0.00   \n",
       "sale_type_CWD         2050.0      0.004878     0.069689     0.0     0.00   \n",
       "sale_type_Con         2050.0      0.001951     0.044140     0.0     0.00   \n",
       "sale_type_ConLD       2050.0      0.008293     0.090708     0.0     0.00   \n",
       "sale_type_ConLI       2050.0      0.003415     0.058349     0.0     0.00   \n",
       "sale_type_ConLw       2050.0      0.002439     0.049338     0.0     0.00   \n",
       "sale_type_New         2050.0      0.078049     0.268314     0.0     0.00   \n",
       "sale_type_Oth         2050.0      0.001951     0.044140     0.0     0.00   \n",
       "sale_type_WD          2050.0      0.868293     0.338255     0.0     1.00   \n",
       "\n",
       "                         50%       75%            max  \n",
       "id                    1483.5   2196.50    2930.000000  \n",
       "ms_subclass             50.0     70.00     190.000000  \n",
       "lot_frontage            69.0     80.00     314.769671  \n",
       "lot_area              9432.0  11514.25  159000.000000  \n",
       "lot_shape                3.0      3.00       3.000000  \n",
       "utilities                3.0      3.00       3.000000  \n",
       "land_slope               2.0      2.00       2.000000  \n",
       "overall_qual             6.0      7.00      10.000000  \n",
       "overall_cond             5.0      6.00       9.000000  \n",
       "year_built            1974.0   2001.00    2010.000000  \n",
       "year_remod/add        1993.0   2004.00    2010.000000  \n",
       "mas_vnr_area             0.0    159.50    1600.000000  \n",
       "exter_qual               3.0      4.00       5.000000  \n",
       "exter_cond               3.0      3.00       5.000000  \n",
       "bsmt_qual                4.0      4.00       5.000000  \n",
       "bsmt_cond                3.0      3.00       5.000000  \n",
       "bsmt_exposure            1.0      2.00       4.000000  \n",
       "bsmtfin_type_1           4.0      6.00       6.000000  \n",
       "bsmtfin_sf_1           368.0    733.75    5644.000000  \n",
       "bsmtfin_type_2           1.0      1.00       6.000000  \n",
       "bsmtfin_sf_2             0.0      0.00    1474.000000  \n",
       "bsmt_unf_sf            474.5    811.00    2336.000000  \n",
       "total_bsmt_sf          994.5   1318.75    6110.000000  \n",
       "heating_qc               5.0      5.00       5.000000  \n",
       "central_air              1.0      1.00       1.000000  \n",
       "electrical               4.0      4.00       4.000000  \n",
       "1st_flr_sf            1093.0   1405.00    5095.000000  \n",
       "2nd_flr_sf               0.0    690.75    1862.000000  \n",
       "low_qual_fin_sf          0.0      0.00    1064.000000  \n",
       "gr_liv_area           1444.0   1728.00    5642.000000  \n",
       "...                      ...       ...            ...  \n",
       "exterior_2nd_Stone       0.0      0.00       1.000000  \n",
       "exterior_2nd_Stucco      0.0      0.00       1.000000  \n",
       "exterior_2nd_VinylSd     0.0      1.00       1.000000  \n",
       "exterior_2nd_Wd Sdng     0.0      0.00       1.000000  \n",
       "exterior_2nd_Wd Shng     0.0      0.00       1.000000  \n",
       "mas_vnr_type_BrkFace     0.0      1.00       1.000000  \n",
       "mas_vnr_type_None        1.0      1.00       1.000000  \n",
       "mas_vnr_type_Stone       0.0      0.00       1.000000  \n",
       "foundation_CBlock        0.0      1.00       1.000000  \n",
       "foundation_PConc         0.0      1.00       1.000000  \n",
       "foundation_Slab          0.0      0.00       1.000000  \n",
       "foundation_Stone         0.0      0.00       1.000000  \n",
       "foundation_Wood          0.0      0.00       1.000000  \n",
       "heating_GasW             0.0      0.00       1.000000  \n",
       "heating_Grav             0.0      0.00       1.000000  \n",
       "heating_OthW             0.0      0.00       1.000000  \n",
       "heating_Wall             0.0      0.00       1.000000  \n",
       "garage_type_Attchd       1.0      1.00       1.000000  \n",
       "garage_type_Basment      0.0      0.00       1.000000  \n",
       "garage_type_BuiltIn      0.0      0.00       1.000000  \n",
       "garage_type_CarPort      0.0      0.00       1.000000  \n",
       "garage_type_Detchd       0.0      1.00       1.000000  \n",
       "sale_type_CWD            0.0      0.00       1.000000  \n",
       "sale_type_Con            0.0      0.00       1.000000  \n",
       "sale_type_ConLD          0.0      0.00       1.000000  \n",
       "sale_type_ConLI          0.0      0.00       1.000000  \n",
       "sale_type_ConLw          0.0      0.00       1.000000  \n",
       "sale_type_New            0.0      0.00       1.000000  \n",
       "sale_type_Oth            0.0      0.00       1.000000  \n",
       "sale_type_WD             1.0      1.00       1.000000  \n",
       "\n",
       "[187 rows x 8 columns]"
      ]
     },
     "execution_count": 57,
     "metadata": {},
     "output_type": "execute_result"
    }
   ],
   "source": [
    "df.describe().T"
   ]
  },
  {
   "cell_type": "markdown",
   "metadata": {},
   "source": [
    "## Check distributions"
   ]
  },
  {
   "cell_type": "code",
   "execution_count": 58,
   "metadata": {},
   "outputs": [
    {
     "data": {
      "image/png": "[encoded data removed]",
      "text/plain": [
       "<Figure size 1440x864 with 196 Axes>"
      ]
     },
     "metadata": {
      "needs_background": "light"
     },
     "output_type": "display_data"
    }
   ],
   "source": [
    "df.hist(figsize=(20, 12), bins = 20)\n",
    "plt.tight_layout();"
   ]
  },
  {
   "cell_type": "markdown",
   "metadata": {},
   "source": [
    "## Check correlations relative to target"
   ]
  },
  {
   "cell_type": "code",
   "execution_count": 59,
   "metadata": {},
   "outputs": [
    {
     "data": {
      "text/plain": [
       "Index(['saleprice', 'overall_qual', 'exter_qual', 'gr_liv_area',\n",
       "       'kitchen_qual', 'garage_area', 'garage_cars', 'total_bsmt_sf',\n",
       "       '1st_flr_sf', 'bsmt_qual'],\n",
       "      dtype='object')"
      ]
     },
     "execution_count": 59,
     "metadata": {},
     "output_type": "execute_result"
    }
   ],
   "source": [
    "corr_results = df.corr()[['saleprice']].sort_values('saleprice', ascending=False)\n",
    "corr_filter = corr_results[abs(corr_results.saleprice > 0.6)]\n",
    "corr_filter.index"
   ]
  },
  {
   "cell_type": "code",
   "execution_count": 60,
   "metadata": {},
   "outputs": [
    {
     "data": {
      "image/png": "[encoded data removed]",
      "text/plain": [
       "<Figure size 360x720 with 2 Axes>"
      ]
     },
     "metadata": {
      "needs_background": "light"
     },
     "output_type": "display_data"
    }
   ],
   "source": [
    "plt.figure(figsize=(5,10))\n",
    "sns.heatmap(corr_filter, annot=True, cmap = 'viridis');"
   ]
  },
  {
   "cell_type": "markdown",
   "metadata": {},
   "source": [
    "## Check correlations among the potential features\n",
    "  \n",
    "high correlations on:  \n",
    "- garage_area AND garage_cars\n",
    "- fireplaces AND fireplace_qu\n",
    "- garage_yr_built AND year_built\n",
    "- gr_live_area AND totrms_abvgrd"
   ]
  },
  {
   "cell_type": "code",
   "execution_count": 61,
   "metadata": {},
   "outputs": [
    {
     "data": {
      "text/plain": [
       "<matplotlib.axes._subplots.AxesSubplot at 0x131fd15f8>"
      ]
     },
     "execution_count": 61,
     "metadata": {},
     "output_type": "execute_result"
    },
    {
     "data": {
      "image/png": "[encoded data removed]",
      "text/plain": [
       "<Figure size 1080x864 with 2 Axes>"
      ]
     },
     "metadata": {
      "needs_background": "light"
     },
     "output_type": "display_data"
    }
   ],
   "source": [
    "plt.figure(figsize = (15,12))\n",
    "sns.heatmap(df[corr_filter.index].corr(), annot=True)"
   ]
  },
  {
   "cell_type": "markdown",
   "metadata": {},
   "source": [
    "## Check for Outliers"
   ]
  },
  {
   "cell_type": "code",
   "execution_count": 62,
   "metadata": {},
   "outputs": [
    {
     "name": "stderr",
     "output_type": "stream",
     "text": [
      "/Users/kevinc/anaconda3/lib/python3.6/site-packages/seaborn/categorical.py:454: FutureWarning: remove_na is deprecated and is a private function. Do not use.\n",
      "  box_data = remove_na(group_data)\n"
     ]
    },
    {
     "data": {
      "text/plain": [
       "<matplotlib.axes._subplots.AxesSubplot at 0x1335e2f60>"
      ]
     },
     "execution_count": 62,
     "metadata": {},
     "output_type": "execute_result"
    },
    {
     "data": {
      "image/png": "[encoded data removed]",
      "text/plain": [
       "<Figure size 432x288 with 1 Axes>"
      ]
     },
     "metadata": {
      "needs_background": "light"
     },
     "output_type": "display_data"
    }
   ],
   "source": [
    "sns.boxplot(df.saleprice)"
   ]
  },
  {
   "cell_type": "markdown",
   "metadata": {},
   "source": [
    "Looks like our target variable is skewed right."
   ]
  },
  {
   "cell_type": "code",
   "execution_count": 63,
   "metadata": {},
   "outputs": [
    {
     "data": {
      "text/plain": [
       "<matplotlib.axes._subplots.AxesSubplot at 0x1337195c0>"
      ]
     },
     "execution_count": 63,
     "metadata": {},
     "output_type": "execute_result"
    },
    {
     "data": {
      "image/png": "[encoded data removed]",
      "text/plain": [
       "<Figure size 432x288 with 1 Axes>"
      ]
     },
     "metadata": {
      "needs_background": "light"
     },
     "output_type": "display_data"
    }
   ],
   "source": [
    "sns.boxplot(df.gr_liv_area)"
   ]
  },
  {
   "cell_type": "markdown",
   "metadata": {},
   "source": [
    "Above-Grade Living Area, one of our main input variables, has a couple of significant outliers."
   ]
  },
  {
   "cell_type": "code",
   "execution_count": 64,
   "metadata": {},
   "outputs": [
    {
     "data": {
      "text/html": [
       "<div>\n",
       "<style scoped>\n",
       "    .dataframe tbody tr th:only-of-type {\n",
       "        vertical-align: middle;\n",
       "    }\n",
       "\n",
       "    .dataframe tbody tr th {\n",
       "        vertical-align: top;\n",
       "    }\n",
       "\n",
       "    .dataframe thead th {\n",
       "        text-align: right;\n",
       "    }\n",
       "</style>\n",
       "<table border=\"1\" class=\"dataframe\">\n",
       "  <thead>\n",
       "    <tr style=\"text-align: right;\">\n",
       "      <th></th>\n",
       "      <th>id</th>\n",
       "      <th>ms_subclass</th>\n",
       "      <th>lot_frontage</th>\n",
       "      <th>lot_area</th>\n",
       "      <th>lot_shape</th>\n",
       "      <th>utilities</th>\n",
       "      <th>land_slope</th>\n",
       "      <th>overall_qual</th>\n",
       "      <th>overall_cond</th>\n",
       "      <th>year_built</th>\n",
       "      <th>...</th>\n",
       "      <th>garage_type_CarPort</th>\n",
       "      <th>garage_type_Detchd</th>\n",
       "      <th>sale_type_CWD</th>\n",
       "      <th>sale_type_Con</th>\n",
       "      <th>sale_type_ConLD</th>\n",
       "      <th>sale_type_ConLI</th>\n",
       "      <th>sale_type_ConLw</th>\n",
       "      <th>sale_type_New</th>\n",
       "      <th>sale_type_Oth</th>\n",
       "      <th>sale_type_WD</th>\n",
       "    </tr>\n",
       "  </thead>\n",
       "  <tbody>\n",
       "    <tr>\n",
       "      <th>960</th>\n",
       "      <td>1499</td>\n",
       "      <td>60</td>\n",
       "      <td>313.0</td>\n",
       "      <td>63887</td>\n",
       "      <td>0</td>\n",
       "      <td>3</td>\n",
       "      <td>2</td>\n",
       "      <td>10</td>\n",
       "      <td>5</td>\n",
       "      <td>2008</td>\n",
       "      <td>...</td>\n",
       "      <td>0</td>\n",
       "      <td>0</td>\n",
       "      <td>0</td>\n",
       "      <td>0</td>\n",
       "      <td>0</td>\n",
       "      <td>0</td>\n",
       "      <td>0</td>\n",
       "      <td>1</td>\n",
       "      <td>0</td>\n",
       "      <td>0</td>\n",
       "    </tr>\n",
       "    <tr>\n",
       "      <th>1885</th>\n",
       "      <td>2181</td>\n",
       "      <td>20</td>\n",
       "      <td>128.0</td>\n",
       "      <td>39290</td>\n",
       "      <td>2</td>\n",
       "      <td>3</td>\n",
       "      <td>2</td>\n",
       "      <td>10</td>\n",
       "      <td>5</td>\n",
       "      <td>2008</td>\n",
       "      <td>...</td>\n",
       "      <td>0</td>\n",
       "      <td>0</td>\n",
       "      <td>0</td>\n",
       "      <td>0</td>\n",
       "      <td>0</td>\n",
       "      <td>0</td>\n",
       "      <td>0</td>\n",
       "      <td>1</td>\n",
       "      <td>0</td>\n",
       "      <td>0</td>\n",
       "    </tr>\n",
       "  </tbody>\n",
       "</table>\n",
       "<p>2 rows × 187 columns</p>\n",
       "</div>"
      ],
      "text/plain": [
       "        id  ms_subclass  lot_frontage  lot_area  lot_shape  utilities  \\\n",
       "960   1499           60         313.0     63887          0          3   \n",
       "1885  2181           20         128.0     39290          2          3   \n",
       "\n",
       "      land_slope  overall_qual  overall_cond  year_built  ...  \\\n",
       "960            2            10             5        2008  ...   \n",
       "1885           2            10             5        2008  ...   \n",
       "\n",
       "      garage_type_CarPort  garage_type_Detchd  sale_type_CWD  sale_type_Con  \\\n",
       "960                     0                   0              0              0   \n",
       "1885                    0                   0              0              0   \n",
       "\n",
       "      sale_type_ConLD  sale_type_ConLI  sale_type_ConLw  sale_type_New  \\\n",
       "960                 0                0                0              1   \n",
       "1885                0                0                0              1   \n",
       "\n",
       "      sale_type_Oth  sale_type_WD   \n",
       "960               0              0  \n",
       "1885              0              0  \n",
       "\n",
       "[2 rows x 187 columns]"
      ]
     },
     "execution_count": 64,
     "metadata": {},
     "output_type": "execute_result"
    }
   ],
   "source": [
    "df[df.gr_liv_area > 5000]"
   ]
  },
  {
   "cell_type": "code",
   "execution_count": 65,
   "metadata": {},
   "outputs": [
    {
     "data": {
      "text/plain": [
       "<matplotlib.axes._subplots.AxesSubplot at 0x133735dd8>"
      ]
     },
     "execution_count": 65,
     "metadata": {},
     "output_type": "execute_result"
    },
    {
     "data": {
      "image/png": "[encoded data removed]",
      "text/plain": [
       "<Figure size 432x288 with 1 Axes>"
      ]
     },
     "metadata": {
      "needs_background": "light"
     },
     "output_type": "display_data"
    }
   ],
   "source": [
    "sns.boxplot(df.overall_qual)"
   ]
  },
  {
   "cell_type": "markdown",
   "metadata": {},
   "source": [
    "A score of one on Overall Quality is an outlier."
   ]
  },
  {
   "cell_type": "code",
   "execution_count": 66,
   "metadata": {},
   "outputs": [
    {
     "data": {
      "text/html": [
       "<div>\n",
       "<style scoped>\n",
       "    .dataframe tbody tr th:only-of-type {\n",
       "        vertical-align: middle;\n",
       "    }\n",
       "\n",
       "    .dataframe tbody tr th {\n",
       "        vertical-align: top;\n",
       "    }\n",
       "\n",
       "    .dataframe thead th {\n",
       "        text-align: right;\n",
       "    }\n",
       "</style>\n",
       "<table border=\"1\" class=\"dataframe\">\n",
       "  <thead>\n",
       "    <tr style=\"text-align: right;\">\n",
       "      <th></th>\n",
       "      <th>id</th>\n",
       "      <th>ms_subclass</th>\n",
       "      <th>lot_frontage</th>\n",
       "      <th>lot_area</th>\n",
       "      <th>lot_shape</th>\n",
       "      <th>utilities</th>\n",
       "      <th>land_slope</th>\n",
       "      <th>overall_qual</th>\n",
       "      <th>overall_cond</th>\n",
       "      <th>year_built</th>\n",
       "      <th>...</th>\n",
       "      <th>garage_type_CarPort</th>\n",
       "      <th>garage_type_Detchd</th>\n",
       "      <th>sale_type_CWD</th>\n",
       "      <th>sale_type_Con</th>\n",
       "      <th>sale_type_ConLD</th>\n",
       "      <th>sale_type_ConLI</th>\n",
       "      <th>sale_type_ConLw</th>\n",
       "      <th>sale_type_New</th>\n",
       "      <th>sale_type_Oth</th>\n",
       "      <th>sale_type_WD</th>\n",
       "    </tr>\n",
       "  </thead>\n",
       "  <tbody>\n",
       "    <tr>\n",
       "      <th>183</th>\n",
       "      <td>1554</td>\n",
       "      <td>20</td>\n",
       "      <td>80.000000</td>\n",
       "      <td>14584</td>\n",
       "      <td>3</td>\n",
       "      <td>3</td>\n",
       "      <td>1</td>\n",
       "      <td>1</td>\n",
       "      <td>5</td>\n",
       "      <td>1952</td>\n",
       "      <td>...</td>\n",
       "      <td>0</td>\n",
       "      <td>0</td>\n",
       "      <td>0</td>\n",
       "      <td>0</td>\n",
       "      <td>0</td>\n",
       "      <td>0</td>\n",
       "      <td>0</td>\n",
       "      <td>0</td>\n",
       "      <td>0</td>\n",
       "      <td>1</td>\n",
       "    </tr>\n",
       "    <tr>\n",
       "      <th>635</th>\n",
       "      <td>2904</td>\n",
       "      <td>20</td>\n",
       "      <td>125.000000</td>\n",
       "      <td>31250</td>\n",
       "      <td>3</td>\n",
       "      <td>3</td>\n",
       "      <td>2</td>\n",
       "      <td>1</td>\n",
       "      <td>3</td>\n",
       "      <td>1951</td>\n",
       "      <td>...</td>\n",
       "      <td>0</td>\n",
       "      <td>0</td>\n",
       "      <td>0</td>\n",
       "      <td>0</td>\n",
       "      <td>0</td>\n",
       "      <td>0</td>\n",
       "      <td>0</td>\n",
       "      <td>0</td>\n",
       "      <td>0</td>\n",
       "      <td>1</td>\n",
       "    </tr>\n",
       "    <tr>\n",
       "      <th>1372</th>\n",
       "      <td>766</td>\n",
       "      <td>30</td>\n",
       "      <td>60.921243</td>\n",
       "      <td>10020</td>\n",
       "      <td>2</td>\n",
       "      <td>3</td>\n",
       "      <td>0</td>\n",
       "      <td>1</td>\n",
       "      <td>1</td>\n",
       "      <td>1922</td>\n",
       "      <td>...</td>\n",
       "      <td>0</td>\n",
       "      <td>0</td>\n",
       "      <td>0</td>\n",
       "      <td>0</td>\n",
       "      <td>0</td>\n",
       "      <td>0</td>\n",
       "      <td>0</td>\n",
       "      <td>0</td>\n",
       "      <td>0</td>\n",
       "      <td>1</td>\n",
       "    </tr>\n",
       "    <tr>\n",
       "      <th>1428</th>\n",
       "      <td>1902</td>\n",
       "      <td>20</td>\n",
       "      <td>50.000000</td>\n",
       "      <td>5000</td>\n",
       "      <td>3</td>\n",
       "      <td>3</td>\n",
       "      <td>1</td>\n",
       "      <td>1</td>\n",
       "      <td>3</td>\n",
       "      <td>1946</td>\n",
       "      <td>...</td>\n",
       "      <td>0</td>\n",
       "      <td>0</td>\n",
       "      <td>0</td>\n",
       "      <td>0</td>\n",
       "      <td>0</td>\n",
       "      <td>0</td>\n",
       "      <td>0</td>\n",
       "      <td>0</td>\n",
       "      <td>0</td>\n",
       "      <td>1</td>\n",
       "    </tr>\n",
       "  </tbody>\n",
       "</table>\n",
       "<p>4 rows × 187 columns</p>\n",
       "</div>"
      ],
      "text/plain": [
       "        id  ms_subclass  lot_frontage  lot_area  lot_shape  utilities  \\\n",
       "183   1554           20     80.000000     14584          3          3   \n",
       "635   2904           20    125.000000     31250          3          3   \n",
       "1372   766           30     60.921243     10020          2          3   \n",
       "1428  1902           20     50.000000      5000          3          3   \n",
       "\n",
       "      land_slope  overall_qual  overall_cond  year_built  ...  \\\n",
       "183            1             1             5        1952  ...   \n",
       "635            2             1             3        1951  ...   \n",
       "1372           0             1             1        1922  ...   \n",
       "1428           1             1             3        1946  ...   \n",
       "\n",
       "      garage_type_CarPort  garage_type_Detchd  sale_type_CWD  sale_type_Con  \\\n",
       "183                     0                   0              0              0   \n",
       "635                     0                   0              0              0   \n",
       "1372                    0                   0              0              0   \n",
       "1428                    0                   0              0              0   \n",
       "\n",
       "      sale_type_ConLD  sale_type_ConLI  sale_type_ConLw  sale_type_New  \\\n",
       "183                 0                0                0              0   \n",
       "635                 0                0                0              0   \n",
       "1372                0                0                0              0   \n",
       "1428                0                0                0              0   \n",
       "\n",
       "      sale_type_Oth  sale_type_WD   \n",
       "183               0              1  \n",
       "635               0              1  \n",
       "1372              0              1  \n",
       "1428              0              1  \n",
       "\n",
       "[4 rows x 187 columns]"
      ]
     },
     "execution_count": 66,
     "metadata": {},
     "output_type": "execute_result"
    }
   ],
   "source": [
    "df[df.overall_qual == 1]"
   ]
  },
  {
   "cell_type": "markdown",
   "metadata": {},
   "source": [
    "## Save cleaned datasets to new csv's"
   ]
  },
  {
   "cell_type": "code",
   "execution_count": 67,
   "metadata": {},
   "outputs": [],
   "source": [
    "df.to_csv('../datasets/df_clean.csv')\n",
    "holdout.to_csv('../datasets/holdout_clean.csv')"
   ]
  }
 ],
 "metadata": {
  "kernelspec": {
   "display_name": "Python 3",
   "language": "python",
   "name": "python3"
  },
  "language_info": {
   "codemirror_mode": {
    "name": "ipython",
    "version": 3
   },
   "file_extension": ".py",
   "mimetype": "text/x-python",
   "name": "python",
   "nbconvert_exporter": "python",
   "pygments_lexer": "ipython3",
   "version": "3.6.8"
  }
 },
 "nbformat": 4,
 "nbformat_minor": 2
}
